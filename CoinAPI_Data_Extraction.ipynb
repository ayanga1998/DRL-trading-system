{
  "nbformat": 4,
  "nbformat_minor": 0,
  "metadata": {
    "colab": {
      "name": "CoinAPI_Data_Extraction.ipynb",
      "provenance": [],
      "authorship_tag": "ABX9TyMMA++vkN1lvmYry41aytzS",
      "include_colab_link": true
    },
    "kernelspec": {
      "name": "python3",
      "display_name": "Python 3"
    },
    "language_info": {
      "name": "python"
    }
  },
  "cells": [
    {
      "cell_type": "markdown",
      "metadata": {
        "id": "view-in-github",
        "colab_type": "text"
      },
      "source": [
        "<a href=\"https://colab.research.google.com/github/ayanga1998/DRL-trading-system/blob/main/CoinAPI_Data_Extraction.ipynb\" target=\"_parent\"><img src=\"https://colab.research.google.com/assets/colab-badge.svg\" alt=\"Open In Colab\"/></a>"
      ]
    },
    {
      "cell_type": "code",
      "metadata": {
        "id": "kVrbFlXdluYT"
      },
      "source": [
        "import requests\n",
        "import json\n",
        "import pprint \n",
        "import os\n",
        "import pandas as pd"
      ],
      "execution_count": null,
      "outputs": []
    },
    {
      "cell_type": "markdown",
      "metadata": {
        "id": "0432w491x_hv"
      },
      "source": [
        "## Request data from the CoinAPI's Market Data REST API\n",
        "* Extract hourly open, high, low, close, and volume (OHLCV) data from the REST API for Ethereum"
      ]
    },
    {
      "cell_type": "code",
      "metadata": {
        "id": "3sE1Xc6Dqqmw"
      },
      "source": [
        "api_key = '7DA58D89-4099-48F0-80A2-CE6534A2C86B' # Insert your API Key Here\n",
        "coin = 'ETH'\n",
        "period = '1HRS'\n",
        "time_start = '2015-08-07T14:49:30'\n",
        "time_end = '2021-10-10T20:19:02'\n",
        "\n",
        "url = \"https://rest.coinapi.io/v1/ohlcv/\"+coin+\"/USD/history?period_id=\"+period+\"&time_start=\"+time_start+\"&time_end=\"+time_end+\"&limit=100000\"\n",
        "headers = {\"X-CoinAPI-Key\" : api_key}\n",
        "response = requests.get(url, headers = headers)\n",
        "\n",
        "if(response.status_code == 429):\n",
        "    # API response\n",
        "    print(\"Too many requests.\")"
      ],
      "execution_count": null,
      "outputs": []
    },
    {
      "cell_type": "code",
      "metadata": {
        "colab": {
          "base_uri": "https://localhost:8080/",
          "height": 309
        },
        "id": "I_NMZeTkvc47",
        "outputId": "9a3349d4-e795-43f3-dec5-a70b64661833"
      },
      "source": [
        "coin_data  = json.loads(response.text)\n",
        "eth_data = pd.DataFrame(coin_data)\n",
        "eth_data.tail()"
      ],
      "execution_count": null,
      "outputs": [
        {
          "output_type": "execute_result",
          "data": {
            "text/html": [
              "<div>\n",
              "<style scoped>\n",
              "    .dataframe tbody tr th:only-of-type {\n",
              "        vertical-align: middle;\n",
              "    }\n",
              "\n",
              "    .dataframe tbody tr th {\n",
              "        vertical-align: top;\n",
              "    }\n",
              "\n",
              "    .dataframe thead th {\n",
              "        text-align: right;\n",
              "    }\n",
              "</style>\n",
              "<table border=\"1\" class=\"dataframe\">\n",
              "  <thead>\n",
              "    <tr style=\"text-align: right;\">\n",
              "      <th></th>\n",
              "      <th>time_period_start</th>\n",
              "      <th>time_period_end</th>\n",
              "      <th>time_open</th>\n",
              "      <th>time_close</th>\n",
              "      <th>price_open</th>\n",
              "      <th>price_high</th>\n",
              "      <th>price_low</th>\n",
              "      <th>price_close</th>\n",
              "      <th>volume_traded</th>\n",
              "      <th>trades_count</th>\n",
              "    </tr>\n",
              "  </thead>\n",
              "  <tbody>\n",
              "    <tr>\n",
              "      <th>46479</th>\n",
              "      <td>2021-10-10T16:00:00.0000000Z</td>\n",
              "      <td>2021-10-10T17:00:00.0000000Z</td>\n",
              "      <td>2021-10-10T16:00:00.0971180Z</td>\n",
              "      <td>2021-10-10T16:59:59.2298080Z</td>\n",
              "      <td>3559.55</td>\n",
              "      <td>3565.22</td>\n",
              "      <td>3530.50</td>\n",
              "      <td>3547.80</td>\n",
              "      <td>5705.506028</td>\n",
              "      <td>11675</td>\n",
              "    </tr>\n",
              "    <tr>\n",
              "      <th>46480</th>\n",
              "      <td>2021-10-10T17:00:00.0000000Z</td>\n",
              "      <td>2021-10-10T18:00:00.0000000Z</td>\n",
              "      <td>2021-10-10T17:00:00.1246960Z</td>\n",
              "      <td>2021-10-10T17:59:59.7693550Z</td>\n",
              "      <td>3547.76</td>\n",
              "      <td>3548.34</td>\n",
              "      <td>3504.07</td>\n",
              "      <td>3524.15</td>\n",
              "      <td>8198.766110</td>\n",
              "      <td>15484</td>\n",
              "    </tr>\n",
              "    <tr>\n",
              "      <th>46481</th>\n",
              "      <td>2021-10-10T18:00:00.0000000Z</td>\n",
              "      <td>2021-10-10T19:00:00.0000000Z</td>\n",
              "      <td>2021-10-10T18:00:00.1271330Z</td>\n",
              "      <td>2021-10-10T18:59:58.5317420Z</td>\n",
              "      <td>3524.15</td>\n",
              "      <td>3530.05</td>\n",
              "      <td>3502.34</td>\n",
              "      <td>3528.92</td>\n",
              "      <td>3604.939867</td>\n",
              "      <td>11683</td>\n",
              "    </tr>\n",
              "    <tr>\n",
              "      <th>46482</th>\n",
              "      <td>2021-10-10T19:00:00.0000000Z</td>\n",
              "      <td>2021-10-10T20:00:00.0000000Z</td>\n",
              "      <td>2021-10-10T19:00:00.1715630Z</td>\n",
              "      <td>2021-10-10T19:59:59.7904220Z</td>\n",
              "      <td>3529.10</td>\n",
              "      <td>3534.90</td>\n",
              "      <td>3521.85</td>\n",
              "      <td>3529.65</td>\n",
              "      <td>3124.244314</td>\n",
              "      <td>10519</td>\n",
              "    </tr>\n",
              "    <tr>\n",
              "      <th>46483</th>\n",
              "      <td>2021-10-10T20:00:00.0000000Z</td>\n",
              "      <td>2021-10-10T21:00:00.0000000Z</td>\n",
              "      <td>2021-10-10T20:00:00.1236740Z</td>\n",
              "      <td>2021-10-10T20:59:58.6638130Z</td>\n",
              "      <td>3529.64</td>\n",
              "      <td>3573.90</td>\n",
              "      <td>3508.86</td>\n",
              "      <td>3514.86</td>\n",
              "      <td>11078.583185</td>\n",
              "      <td>20385</td>\n",
              "    </tr>\n",
              "  </tbody>\n",
              "</table>\n",
              "</div>"
            ],
            "text/plain": [
              "                  time_period_start  ... trades_count\n",
              "46479  2021-10-10T16:00:00.0000000Z  ...        11675\n",
              "46480  2021-10-10T17:00:00.0000000Z  ...        15484\n",
              "46481  2021-10-10T18:00:00.0000000Z  ...        11683\n",
              "46482  2021-10-10T19:00:00.0000000Z  ...        10519\n",
              "46483  2021-10-10T20:00:00.0000000Z  ...        20385\n",
              "\n",
              "[5 rows x 10 columns]"
            ]
          },
          "metadata": {},
          "execution_count": 7
        }
      ]
    },
    {
      "cell_type": "code",
      "metadata": {
        "id": "JBtnkGGkvjTk"
      },
      "source": [
        "eth_data.rename(columns = {\n",
        "    \"time_period_start\": \"Start Time\",\n",
        "    \"time_period_end\": \"End Time\",\n",
        "    \"time_open\": \"Open Time\",\n",
        "    \"time_close\": \"Close Time\",\n",
        "    \"price_open\": \"Price Open\",\n",
        "    \"price_high\": \"Price High\",\n",
        "    \"price_low\": \"Price Low\",\n",
        "    \"price_close\": \"Price Close\",\n",
        "    \"volume_traded\": \"Volume Traded\",\n",
        "    \"trades_count\": \"Trade Count\",\n",
        "}, inplace = True)"
      ],
      "execution_count": null,
      "outputs": []
    },
    {
      "cell_type": "code",
      "metadata": {
        "id": "S33GL2enwPCb"
      },
      "source": [
        "reorder_columns = [\n",
        "    'Start Time',\n",
        "    'Price Open',\n",
        "    'Price Close',\n",
        "    'Price High',\n",
        "    'Price Low',\n",
        "    'Volume Traded',\n",
        "    'Trade Count'\n",
        "]\n",
        "\n",
        "eth_data.drop([\"End Time\", \"Open Time\", \"Close Time\"], axis = \"columns\", inplace = True)\n",
        "eth_data = eth_data.reindex(columns = reorder_columns)"
      ],
      "execution_count": null,
      "outputs": []
    },
    {
      "cell_type": "code",
      "metadata": {
        "colab": {
          "base_uri": "https://localhost:8080/"
        },
        "id": "3xWJeg6JwnUV",
        "outputId": "d9d7e5f9-6860-4664-c8cb-ca3fd89b0341"
      },
      "source": [
        "eth_data.info()"
      ],
      "execution_count": null,
      "outputs": [
        {
          "output_type": "stream",
          "name": "stdout",
          "text": [
            "<class 'pandas.core.frame.DataFrame'>\n",
            "RangeIndex: 46484 entries, 0 to 46483\n",
            "Data columns (total 7 columns):\n",
            " #   Column         Non-Null Count  Dtype              \n",
            "---  ------         --------------  -----              \n",
            " 0   Start Time     46484 non-null  datetime64[ns, UTC]\n",
            " 1   Price Open     46484 non-null  float64            \n",
            " 2   Price Close    46484 non-null  float64            \n",
            " 3   Price High     46484 non-null  float64            \n",
            " 4   Price Low      46484 non-null  float64            \n",
            " 5   Volume Traded  46484 non-null  float64            \n",
            " 6   Trade Count    46484 non-null  int64              \n",
            "dtypes: datetime64[ns, UTC](1), float64(5), int64(1)\n",
            "memory usage: 2.5 MB\n"
          ]
        }
      ]
    },
    {
      "cell_type": "code",
      "metadata": {
        "id": "BVcdYciUwoZc"
      },
      "source": [
        "eth_data[\"Start Time\"] = pd.to_datetime(eth_data[\"Start Time\"])"
      ],
      "execution_count": null,
      "outputs": []
    },
    {
      "cell_type": "code",
      "metadata": {
        "colab": {
          "base_uri": "https://localhost:8080/",
          "height": 204
        },
        "id": "KaBPVsLew7QD",
        "outputId": "9b5b0ef4-a9be-412c-f779-1067a5146ded"
      },
      "source": [
        "eth_data.head()"
      ],
      "execution_count": null,
      "outputs": [
        {
          "output_type": "execute_result",
          "data": {
            "text/html": [
              "<div>\n",
              "<style scoped>\n",
              "    .dataframe tbody tr th:only-of-type {\n",
              "        vertical-align: middle;\n",
              "    }\n",
              "\n",
              "    .dataframe tbody tr th {\n",
              "        vertical-align: top;\n",
              "    }\n",
              "\n",
              "    .dataframe thead th {\n",
              "        text-align: right;\n",
              "    }\n",
              "</style>\n",
              "<table border=\"1\" class=\"dataframe\">\n",
              "  <thead>\n",
              "    <tr style=\"text-align: right;\">\n",
              "      <th></th>\n",
              "      <th>Start Time</th>\n",
              "      <th>Price Open</th>\n",
              "      <th>Price Close</th>\n",
              "      <th>Price High</th>\n",
              "      <th>Price Low</th>\n",
              "      <th>Volume Traded</th>\n",
              "      <th>Trade Count</th>\n",
              "    </tr>\n",
              "  </thead>\n",
              "  <tbody>\n",
              "    <tr>\n",
              "      <th>0</th>\n",
              "      <td>2016-05-09 13:00:00+00:00</td>\n",
              "      <td>12.00</td>\n",
              "      <td>9.55</td>\n",
              "      <td>12.00</td>\n",
              "      <td>9.55</td>\n",
              "      <td>432.562115</td>\n",
              "      <td>16</td>\n",
              "    </tr>\n",
              "    <tr>\n",
              "      <th>1</th>\n",
              "      <td>2016-05-09 14:00:00+00:00</td>\n",
              "      <td>10.00</td>\n",
              "      <td>10.00</td>\n",
              "      <td>10.00</td>\n",
              "      <td>10.00</td>\n",
              "      <td>235.774075</td>\n",
              "      <td>8</td>\n",
              "    </tr>\n",
              "    <tr>\n",
              "      <th>2</th>\n",
              "      <td>2016-05-09 15:00:00+00:00</td>\n",
              "      <td>9.99</td>\n",
              "      <td>9.99</td>\n",
              "      <td>9.99</td>\n",
              "      <td>9.99</td>\n",
              "      <td>10.973567</td>\n",
              "      <td>2</td>\n",
              "    </tr>\n",
              "    <tr>\n",
              "      <th>3</th>\n",
              "      <td>2016-05-09 16:00:00+00:00</td>\n",
              "      <td>9.79</td>\n",
              "      <td>9.83</td>\n",
              "      <td>9.83</td>\n",
              "      <td>9.79</td>\n",
              "      <td>62.379450</td>\n",
              "      <td>3</td>\n",
              "    </tr>\n",
              "    <tr>\n",
              "      <th>4</th>\n",
              "      <td>2016-05-09 17:00:00+00:00</td>\n",
              "      <td>9.79</td>\n",
              "      <td>9.49</td>\n",
              "      <td>9.79</td>\n",
              "      <td>9.48</td>\n",
              "      <td>329.553213</td>\n",
              "      <td>10</td>\n",
              "    </tr>\n",
              "  </tbody>\n",
              "</table>\n",
              "</div>"
            ],
            "text/plain": [
              "                 Start Time  Price Open  ...  Volume Traded  Trade Count\n",
              "0 2016-05-09 13:00:00+00:00       12.00  ...     432.562115           16\n",
              "1 2016-05-09 14:00:00+00:00       10.00  ...     235.774075            8\n",
              "2 2016-05-09 15:00:00+00:00        9.99  ...      10.973567            2\n",
              "3 2016-05-09 16:00:00+00:00        9.79  ...      62.379450            3\n",
              "4 2016-05-09 17:00:00+00:00        9.79  ...     329.553213           10\n",
              "\n",
              "[5 rows x 7 columns]"
            ]
          },
          "metadata": {},
          "execution_count": 16
        }
      ]
    }
  ]
}