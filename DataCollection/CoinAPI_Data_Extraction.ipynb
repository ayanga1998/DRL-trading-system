{
  "nbformat": 4,
  "nbformat_minor": 0,
  "metadata": {
    "colab": {
      "name": "CoinAPI_Data_Extraction.ipynb",
      "provenance": [],
      "collapsed_sections": [],
      "mount_file_id": "1QVMZP5WGXvNflxf4Y1Psuank8MI4eq2i",
      "authorship_tag": "ABX9TyNoDMXq1aDBg23gOLq16Jec",
      "include_colab_link": true
    },
    "kernelspec": {
      "name": "python3",
      "display_name": "Python 3"
    },
    "language_info": {
      "name": "python"
    }
  },
  "cells": [
    {
      "cell_type": "markdown",
      "metadata": {
        "id": "view-in-github",
        "colab_type": "text"
      },
      "source": [
        "<a href=\"https://colab.research.google.com/github/ayanga1998/DRL-trading-system/blob/main/DataCollection/CoinAPI_Data_Extraction.ipynb\" target=\"_parent\"><img src=\"https://colab.research.google.com/assets/colab-badge.svg\" alt=\"Open In Colab\"/></a>"
      ]
    },
    {
      "cell_type": "code",
      "metadata": {
        "id": "kVrbFlXdluYT"
      },
      "source": [
        "import requests\n",
        "import json\n",
        "import pprint \n",
        "import os\n",
        "import pandas as pd"
      ],
      "execution_count": 1,
      "outputs": []
    },
    {
      "cell_type": "code",
      "metadata": {
        "colab": {
          "base_uri": "https://localhost:8080/"
        },
        "id": "dcgm0Hdnqmit",
        "outputId": "7a316aa3-e047-480d-bbdd-5b6ea01078f8"
      },
      "source": [
        "!pip install coinapi_rest_v1"
      ],
      "execution_count": 2,
      "outputs": [
        {
          "output_type": "stream",
          "name": "stdout",
          "text": [
            "Collecting coinapi_rest_v1\n",
            "  Downloading coinapi.rest.v1-1.3-py3-none-any.whl (6.0 kB)\n",
            "Installing collected packages: coinapi-rest-v1\n",
            "Successfully installed coinapi-rest-v1-1.3\n"
          ]
        }
      ]
    },
    {
      "cell_type": "code",
      "metadata": {
        "id": "0JcUYHf_qqEk"
      },
      "source": [
        "from coinapi_rest_v1.restapi import CoinAPIv1"
      ],
      "execution_count": 3,
      "outputs": []
    },
    {
      "cell_type": "markdown",
      "metadata": {
        "id": "0432w491x_hv"
      },
      "source": [
        "## Request data from the CoinAPI's Market Data REST API\n",
        "\n"
      ]
    },
    {
      "cell_type": "code",
      "metadata": {
        "id": "q8LW_EwBq4vU"
      },
      "source": [
        "api_key = '8A8BAB2A-FE7C-4A86-8E1B-D2813489BFCD' \n",
        "api = CoinAPIv1(api_key)"
      ],
      "execution_count": 4,
      "outputs": []
    },
    {
      "cell_type": "markdown",
      "metadata": {
        "id": "gSL0iyiQ42hq"
      },
      "source": [
        "**List available exchanges**"
      ]
    },
    {
      "cell_type": "code",
      "metadata": {
        "colab": {
          "base_uri": "https://localhost:8080/"
        },
        "id": "IjzGDeS541g2",
        "outputId": "bbf565a8-61a7-40e9-a32a-a1c752a2471a"
      },
      "source": [
        "exchanges = api.metadata_list_exchanges()\n",
        "\n",
        "for exchange in exchanges:\n",
        "  print(exchange)"
      ],
      "execution_count": 5,
      "outputs": [
        {
          "output_type": "stream",
          "name": "stdout",
          "text": [
            "{'exchange_id': 'ECB', 'website': 'https://www.ecb.europa.eu/', 'name': 'European Central Bank', 'data_start': '2020-08-31', 'data_end': '2021-11-04', 'data_quote_start': '2020-08-31T00:00:00.0000000Z', 'data_quote_end': '2021-11-04T14:00:00.0000000Z', 'data_symbols_count': 32, 'volume_1hrs_usd': 0, 'volume_1day_usd': 0, 'volume_1mth_usd': 0}\n",
            "{'exchange_id': 'BINANCE', 'website': 'https://www.binance.com/', 'name': 'Binance', 'data_start': '2017-07-14', 'data_end': '2021-11-04', 'data_quote_start': '2017-12-18T21:50:58.3910192Z', 'data_quote_end': '2021-11-04T17:19:39.9309784Z', 'data_orderbook_start': '2017-12-18T21:50:58.3910192Z', 'data_orderbook_end': '2020-08-05T14:37:58.9010000Z', 'data_trade_start': '2017-07-14T04:00:00.3760000Z', 'data_trade_end': '2021-11-04T17:18:58.8070000Z', 'data_symbols_count': 1732, 'volume_1hrs_usd': 1850292024.61, 'volume_1day_usd': 41075032655.81, 'volume_1mth_usd': 4981747005809.88}\n",
            "{'exchange_id': 'KRAKEN', 'website': 'https://www.kraken.com/', 'name': 'Kraken', 'data_start': '2013-10-22', 'data_end': '2021-11-04', 'data_quote_start': '2014-07-31T13:05:46.0000000Z', 'data_quote_end': '2021-11-04T17:19:37.9607239Z', 'data_orderbook_start': '2014-07-31T13:05:46.0000000Z', 'data_orderbook_end': '2020-08-05T14:37:20.1277711Z', 'data_trade_start': '2013-10-22T23:09:46.8630000Z', 'data_trade_end': '2021-11-04T17:18:58.1160000Z', 'data_symbols_count': 510, 'volume_1hrs_usd': 54029081.38, 'volume_1day_usd': 1697547382.98, 'volume_1mth_usd': 45278360464.47}\n",
            "{'exchange_id': 'COINBASE', 'website': 'https://pro.coinbase.com/', 'name': 'Coinbase Pro (GDAX)', 'data_start': '2015-01-14', 'data_end': '2021-11-04', 'data_quote_start': '2015-05-17T00:51:32.6370000Z', 'data_quote_end': '2021-11-04T17:19:39.0768890Z', 'data_orderbook_start': '2015-05-17T00:51:32.6370000Z', 'data_orderbook_end': '2020-08-05T14:37:54.1606790Z', 'data_trade_start': '2015-01-14T16:07:05.0000000Z', 'data_trade_end': '2021-11-04T17:18:56.0915620Z', 'data_symbols_count': 370, 'volume_1hrs_usd': 538914576.81, 'volume_1day_usd': 10145364178.22, 'volume_1mth_usd': 230071669816.14}\n",
            "{'exchange_id': 'BITSTAMP', 'website': 'https://www.bitstamp.net/', 'name': 'Bitstamp Ltd.', 'data_start': '2011-09-13', 'data_end': '2021-11-04', 'data_quote_start': '2014-02-24T17:43:05.0000000Z', 'data_quote_end': '2021-11-04T17:19:35.9320000Z', 'data_orderbook_start': '2014-02-24T17:43:05.0000000Z', 'data_orderbook_end': '2020-08-05T14:37:55.5632395Z', 'data_trade_start': '2011-09-13T13:53:36.0000000Z', 'data_trade_end': '2021-11-04T17:18:37.7440000Z', 'data_symbols_count': 123, 'volume_1hrs_usd': 12795907.46, 'volume_1day_usd': 450044288.22, 'volume_1mth_usd': 14501202191.65}\n",
            "{'exchange_id': 'GEMINI', 'website': 'https://gemini.com/', 'name': 'Gemini', 'data_start': '2015-10-08', 'data_end': '2021-11-04', 'data_quote_start': '2017-03-18T22:53:42.0948480Z', 'data_quote_end': '2021-11-04T17:19:18.3820000Z', 'data_orderbook_start': '2017-03-18T22:53:42.0948480Z', 'data_orderbook_end': '2020-08-05T14:37:10.5480000Z', 'data_trade_start': '2015-10-08T13:40:07.8010000Z', 'data_trade_end': '2021-11-04T17:18:59.9500000Z', 'data_symbols_count': 95, 'volume_1hrs_usd': 4371027.06, 'volume_1day_usd': 274595806.33, 'volume_1mth_usd': 7312374980.3}\n",
            "{'exchange_id': 'LMAXDIGITAL', 'website': 'https://www.lmaxdigital.com/', 'name': 'LMAX Digital', 'data_start': '2021-04-12', 'data_end': '2021-11-04', 'data_quote_start': '2021-04-12T23:46:45.6180000Z', 'data_quote_end': '2021-11-04T17:17:22.9800000Z', 'data_trade_start': '2021-04-12T23:46:46.9870000Z', 'data_trade_end': '2021-11-04T17:14:42.6620000Z', 'data_symbols_count': 16, 'volume_1hrs_usd': 21286937.58, 'volume_1day_usd': 634442475.89, 'volume_1mth_usd': 20447332114.08}\n",
            "{'exchange_id': 'OKCOINCNY', 'website': 'https://www.okcoin.cn/', 'name': 'OKCoin CNY', 'data_start': '2013-06-12', 'data_end': '2018-03-09', 'data_quote_start': '2015-02-15T12:53:50.3430000Z', 'data_quote_end': '2018-03-09T23:34:52.5800000Z', 'data_orderbook_start': '2015-02-15T12:53:50.3430000Z', 'data_orderbook_end': '2018-03-09T23:34:52.5800000Z', 'data_trade_start': '2013-06-12T14:24:24.0000000Z', 'data_trade_end': '2017-11-01T16:30:39.7077259Z', 'data_symbols_count': 2, 'volume_1hrs_usd': 0, 'volume_1day_usd': 0, 'volume_1mth_usd': 0}\n",
            "{'exchange_id': 'HUOBI', 'website': 'https://www.huobi.us/', 'name': 'Huobi (HBUS)', 'data_start': '2015-03-29', 'data_end': '2020-03-30', 'data_quote_start': '2015-03-29T21:46:06.2630000Z', 'data_quote_end': '2020-03-30T08:40:10.1306733Z', 'data_orderbook_start': '2015-03-29T21:46:06.2630000Z', 'data_orderbook_end': '2020-03-30T08:40:10.1306733Z', 'data_trade_start': '2015-03-29T21:46:08.7030000Z', 'data_trade_end': '2019-12-16T00:23:43.4240000Z', 'data_symbols_count': 777, 'volume_1hrs_usd': 0, 'volume_1day_usd': 0, 'volume_1mth_usd': 0}\n",
            "{'exchange_id': 'BITTREX', 'website': 'https://bittrex.com/', 'name': 'Bittrex', 'data_start': '2017-01-26', 'data_end': '2021-11-04', 'data_quote_start': '2017-03-14T20:03:47.4782440Z', 'data_quote_end': '2021-11-04T17:19:39.4754699Z', 'data_orderbook_start': '2017-03-14T20:03:47.4782440Z', 'data_orderbook_end': '2020-08-05T14:37:03.9320257Z', 'data_trade_start': '2017-01-26T19:48:55.0000000Z', 'data_trade_end': '2021-11-04T17:18:44.5500000Z', 'data_symbols_count': 1493, 'volume_1hrs_usd': 5975030.95, 'volume_1day_usd': 249571222.48, 'volume_1mth_usd': 6524537947.63}\n",
            "{'exchange_id': 'POLONIEX', 'website': 'https://poloniex.com/', 'name': 'POLONIEX', 'data_start': '2016-05-29', 'data_end': '2021-11-04', 'data_quote_start': '2016-06-12T11:53:38.1523879Z', 'data_quote_end': '2021-11-04T17:19:37.8200000Z', 'data_orderbook_start': '2016-06-12T11:53:38.1523879Z', 'data_orderbook_end': '2020-08-05T14:37:20.4403838Z', 'data_trade_start': '2016-05-29T15:05:08.0000000Z', 'data_trade_end': '2021-11-04T17:18:51.5870000Z', 'data_symbols_count': 606, 'volume_1hrs_usd': 3129049963.17, 'volume_1day_usd': 189134982226.87, 'volume_1mth_usd': 2564652284044.72}\n",
            "{'exchange_id': 'BITFINEX', 'website': 'https://www.bitfinex.com/', 'name': 'Bitfinex', 'data_start': '2013-01-14', 'data_end': '2021-11-04', 'data_quote_start': '2014-02-24T17:43:05.0000000Z', 'data_quote_end': '2021-11-04T17:19:38.7628612Z', 'data_orderbook_start': '2014-02-24T17:43:05.0000000Z', 'data_orderbook_end': '2020-08-05T14:37:01.4705388Z', 'data_trade_start': '2013-01-14T16:47:23.0000000Z', 'data_trade_end': '2021-11-04T17:18:59.6140000Z', 'data_symbols_count': 714, 'volume_1hrs_usd': 63819629.7, 'volume_1day_usd': 2743124282.09, 'volume_1mth_usd': 72549113643.67}\n",
            "{'exchange_id': 'HUOBIPRO', 'website': 'https://www.hbg.com/', 'name': 'Huobi Global', 'data_start': '2018-01-22', 'data_end': '2021-11-04', 'data_quote_start': '2018-01-24T00:22:17.2456560Z', 'data_quote_end': '2021-11-04T17:19:39.0471692Z', 'data_orderbook_start': '2018-01-24T00:22:17.2456560Z', 'data_orderbook_end': '2020-08-05T14:37:56.8725360Z', 'data_trade_start': '2018-01-22T12:55:12.5650000Z', 'data_trade_end': '2021-11-04T17:18:59.5960000Z', 'data_symbols_count': 1051, 'volume_1hrs_usd': 817422998.11, 'volume_1day_usd': 19922748584.03, 'volume_1mth_usd': 527186296741.87}\n",
            "{'exchange_id': 'HITBTC', 'website': 'https://hitbtc.com/', 'name': 'HitBTC', 'data_start': '2013-12-27', 'data_end': '2021-11-04', 'data_quote_start': '2017-03-18T22:53:44.4091161Z', 'data_quote_end': '2021-11-04T17:19:40.8419590Z', 'data_orderbook_start': '2017-03-18T22:53:44.4091161Z', 'data_orderbook_end': '2020-08-05T14:37:20.6006729Z', 'data_trade_start': '2013-12-27T08:23:37.0000000Z', 'data_trade_end': '2021-11-04T17:18:55.0000000Z', 'data_symbols_count': 1921, 'volume_1hrs_usd': 167594515.17, 'volume_1day_usd': 4364055981.23, 'volume_1mth_usd': 121046564204.72}\n",
            "{'exchange_id': 'BTCCHINA', 'website': 'https://www.btcchina.com/', 'name': 'BTCCHINA', 'data_start': '2011-06-13', 'data_end': '2019-02-06', 'data_quote_start': '2015-03-29T04:20:18.0000000Z', 'data_quote_end': '2019-02-06T15:48:55.5557396Z', 'data_orderbook_start': '2015-03-29T04:20:18.0000000Z', 'data_orderbook_end': '2019-02-06T15:48:55.5557396Z', 'data_trade_start': '2011-06-13T05:13:24.0000000Z', 'data_trade_end': '2018-03-09T22:06:20.0000000Z', 'data_symbols_count': 3, 'volume_1hrs_usd': 0, 'volume_1day_usd': 0, 'volume_1mth_usd': 0}\n",
            "{'exchange_id': 'BITFLYER', 'website': 'https://bitflyer.jp/', 'name': 'bitFlyer (replaced by BITFLYERLTNG)', 'data_start': '2017-11-28', 'data_end': '2020-07-26', 'data_quote_start': '2017-11-29T01:10:28.2891461Z', 'data_quote_end': '2020-07-26T21:52:04.1273385Z', 'data_orderbook_start': '2017-11-29T01:10:28.2891461Z', 'data_orderbook_end': '2020-07-26T21:52:04.1273385Z', 'data_trade_start': '2017-11-28T03:22:58.0000000Z', 'data_trade_end': '2020-07-26T21:50:16.0000000Z', 'data_symbols_count': 136, 'volume_1hrs_usd': 0, 'volume_1day_usd': 0, 'volume_1mth_usd': 0}\n",
            "{'exchange_id': 'BITHUMB', 'website': 'https://www.bithumb.com/', 'name': 'BITHUMB', 'data_start': '2017-09-21', 'data_end': '2021-11-04', 'data_quote_start': '2017-09-21T13:50:30.0371289Z', 'data_quote_end': '2021-11-04T17:19:35.0613848Z', 'data_orderbook_start': '2017-09-21T13:50:30.0371289Z', 'data_orderbook_end': '2020-08-05T14:37:10.6246508Z', 'data_trade_start': '2017-09-21T13:43:23.0000000Z', 'data_trade_end': '2021-11-04T17:17:45.0739125Z', 'data_symbols_count': 251, 'volume_1hrs_usd': 20081785.68, 'volume_1day_usd': 694771643.97, 'volume_1mth_usd': 29271817465.03}\n",
            "{'exchange_id': 'COINONE', 'website': 'https://coinone.co.kr/', 'name': 'coinone', 'data_start': '2017-09-20', 'data_end': '2021-11-04', 'data_quote_start': '2017-09-21T13:36:45.5891048Z', 'data_quote_end': '2021-11-04T17:15:47.4522833Z', 'data_orderbook_start': '2017-09-21T13:36:45.5891048Z', 'data_orderbook_end': '2020-08-05T14:37:06.6771830Z', 'data_trade_start': '2017-09-20T13:37:21.0000000Z', 'data_trade_end': '2021-11-04T17:18:58.0000000Z', 'data_symbols_count': 9, 'volume_1hrs_usd': 5887228.41, 'volume_1day_usd': 155833722.17, 'volume_1mth_usd': 4298647624.04}\n",
            "{'exchange_id': 'OKEX', 'website': 'https://www.okex.com/', 'name': 'OKEx', 'data_start': '2017-12-01', 'data_end': '2021-11-04', 'data_quote_start': '2017-12-18T21:01:51.6121385Z', 'data_quote_end': '2021-11-04T17:19:40.4880000Z', 'data_orderbook_start': '2017-12-18T21:01:51.6121385Z', 'data_orderbook_end': '2020-08-05T14:37:56.0710000Z', 'data_trade_start': '2017-12-01T15:26:32.0000000Z', 'data_trade_end': '2021-11-04T17:18:59.8760000Z', 'data_symbols_count': 18750, 'volume_1hrs_usd': 5125443959.14, 'volume_1day_usd': 131554799448.6, 'volume_1mth_usd': 4288219626716.83}\n",
            "{'exchange_id': 'OKCOINUSD', 'website': 'https://www.okcoin.com/', 'name': 'OKCoin USD', 'data_start': '2015-02-14', 'data_end': '2021-08-01', 'data_quote_start': '2015-02-15T12:53:46.6330000Z', 'data_quote_end': '2021-08-01T09:00:00.2233333Z', 'data_orderbook_start': '2015-02-15T12:53:46.6330000Z', 'data_orderbook_end': '2020-07-21T08:40:29.7790000Z', 'data_trade_start': '2015-02-14T16:15:05.5900000Z', 'data_trade_end': '2021-08-01T09:00:02.8866667Z', 'data_symbols_count': 63, 'volume_1hrs_usd': 0, 'volume_1day_usd': 0, 'volume_1mth_usd': 0}\n",
            "{'exchange_id': 'BTCTRADE', 'website': 'https://www.btctrade.com/', 'name': 'BTCTRADE', 'data_start': '2015-05-17', 'data_end': '2019-02-06', 'data_quote_start': '2015-05-17T14:57:14.3470000Z', 'data_quote_end': '2019-02-06T15:50:53.7510625Z', 'data_orderbook_start': '2015-05-17T14:57:14.3470000Z', 'data_orderbook_end': '2019-02-06T15:50:53.7510625Z', 'data_trade_start': '2015-05-17T15:04:12.0000000Z', 'data_trade_end': '2018-03-09T21:52:49.0000000Z', 'data_symbols_count': 6, 'volume_1hrs_usd': 0, 'volume_1day_usd': 0, 'volume_1mth_usd': 0}\n",
            "{'exchange_id': 'BITMEX', 'website': 'https://www.bitmex.com/', 'name': 'BitMEX', 'data_start': '2014-11-22', 'data_end': '2021-11-04', 'data_quote_start': '2014-11-22T16:58:47.8820780Z', 'data_quote_end': '2021-11-04T17:19:16.5494014Z', 'data_orderbook_start': '2014-11-22T16:58:47.8820780Z', 'data_orderbook_end': '2020-08-05T14:37:16.1266801Z', 'data_trade_start': '2014-11-22T17:51:38.9484710Z', 'data_trade_end': '2021-11-04T17:18:00.0000000Z', 'data_symbols_count': 335, 'volume_1hrs_usd': 3807311436403.96, 'volume_1day_usd': 1015814348390272.9, 'volume_1mth_usd': 1.6141817846979248e+16}\n",
            "{'exchange_id': 'KUCOIN', 'website': 'https://kucoin.com/', 'name': 'Kucoin', 'data_start': '2018-01-24', 'data_end': '2021-11-04', 'data_quote_start': '2018-01-24T00:22:08.7776711Z', 'data_quote_end': '2021-11-04T17:19:39.0645587Z', 'data_orderbook_start': '2018-01-24T00:22:08.7776711Z', 'data_orderbook_end': '2020-08-05T14:37:10.9225584Z', 'data_trade_start': '2018-01-24T15:12:15.0000000Z', 'data_trade_end': '2021-11-04T17:18:59.8110000Z', 'data_symbols_count': 1374, 'volume_1hrs_usd': 188625706.59, 'volume_1day_usd': 4183396180.2, 'volume_1mth_usd': 99596176198.25}\n",
            "{'exchange_id': 'ITBIT', 'website': 'https://www.itbit.com/', 'name': 'itBit', 'data_start': '2013-08-25', 'data_end': '2021-11-04', 'data_quote_start': '2015-05-26T18:24:28.9330000Z', 'data_quote_end': '2021-11-04T17:18:32.8400811Z', 'data_orderbook_start': '2015-05-26T18:24:28.9330000Z', 'data_orderbook_end': '2020-08-05T14:38:00.7082850Z', 'data_trade_start': '2013-08-25T00:21:44.0000000Z', 'data_trade_end': '2021-11-04T17:16:15.7220000Z', 'data_symbols_count': 9, 'volume_1hrs_usd': 1829976.19, 'volume_1day_usd': 52929117.36, 'volume_1mth_usd': 1644803566.13}\n",
            "{'exchange_id': 'DERIBIT', 'website': 'https://www.deribit.com/', 'name': 'Deribit', 'data_start': '2016-12-02', 'data_end': '2021-11-04', 'data_quote_start': '2017-03-14T20:03:36.9946659Z', 'data_quote_end': '2021-11-04T17:19:40.8377404Z', 'data_orderbook_start': '2017-03-14T20:03:36.9946659Z', 'data_orderbook_end': '2020-08-05T14:37:48.1277577Z', 'data_trade_start': '2016-12-02T05:15:13.4340000Z', 'data_trade_end': '2021-11-04T17:18:57.8640000Z', 'data_symbols_count': 58007, 'volume_1hrs_usd': 221579402623.14, 'volume_1day_usd': 10472315161238.02, 'volume_1mth_usd': 245592963579329.25}\n",
            "{'exchange_id': 'BITBAY', 'website': 'https://www.bitbay.net/', 'name': 'BitBay', 'data_start': '2014-03-29', 'data_end': '2021-11-04', 'data_quote_start': '2017-08-29T15:47:11.6744609Z', 'data_quote_end': '2021-11-04T17:19:38.6030000Z', 'data_orderbook_start': '2017-08-29T15:47:11.6744609Z', 'data_orderbook_end': '2020-08-05T14:37:41.6530000Z', 'data_trade_start': '2014-03-29T12:36:43.0000000Z', 'data_trade_end': '2021-11-04T17:18:51.1730000Z', 'data_symbols_count': 243, 'volume_1hrs_usd': 37600955.89, 'volume_1day_usd': 1105504291.15, 'volume_1mth_usd': 25027574612.22}\n",
            "{'exchange_id': 'BINANCEUS', 'website': 'https://www.binance.us/', 'name': 'Binance US', 'data_start': '2019-10-09', 'data_end': '2021-11-04', 'data_quote_start': '2019-10-09T13:14:23.9239466Z', 'data_quote_end': '2021-11-04T17:19:20.9375393Z', 'data_orderbook_start': '2019-10-09T13:14:23.9239466Z', 'data_orderbook_end': '2020-08-05T14:37:39.1930000Z', 'data_trade_start': '2019-10-09T13:14:47.5920000Z', 'data_trade_end': '2021-11-04T17:18:57.9610000Z', 'data_symbols_count': 121, 'volume_1hrs_usd': 71955952.66, 'volume_1day_usd': 1373599039.16, 'volume_1mth_usd': 38718622617.72}\n",
            "{'exchange_id': 'BIBOX', 'website': 'https://www.bibox.com/', 'name': 'Bibox', 'data_start': '2018-11-20', 'data_end': '2021-11-04', 'data_quote_start': '2018-11-27T00:44:52.1671444Z', 'data_quote_end': '2021-11-04T17:19:36.0172235Z', 'data_orderbook_start': '2018-11-27T00:44:52.1671444Z', 'data_orderbook_end': '2020-08-05T14:37:42.5818114Z', 'data_trade_start': '2018-11-20T18:52:30.0000000Z', 'data_trade_end': '2021-11-04T17:18:56.4860000Z', 'data_symbols_count': 759, 'volume_1hrs_usd': 14418501347.55, 'volume_1day_usd': 420747449641.34, 'volume_1mth_usd': 14649206021463.35}\n",
            "{'exchange_id': 'UPBIT', 'website': 'https://upbit.com/', 'name': 'UPbit Korea', 'data_start': '2018-08-20', 'data_end': '2021-11-04', 'data_quote_start': '2018-08-20T23:03:42.8653704Z', 'data_quote_end': '2021-11-04T17:19:39.0460000Z', 'data_orderbook_start': '2018-08-20T23:03:42.8653704Z', 'data_orderbook_end': '2020-08-05T14:37:11.0590000Z', 'data_trade_start': '2018-08-20T00:00:58.5670000Z', 'data_trade_end': '2021-11-02T00:09:38.0000000Z', 'data_symbols_count': 511, 'volume_1hrs_usd': 0, 'volume_1day_usd': 0, 'volume_1mth_usd': 76820591026.93}\n",
            "{'exchange_id': 'CRYPTOPIA', 'website': 'https://www.cryptopia.co.nz/', 'name': 'Cryptopia', 'data_start': '2014-12-07', 'data_end': '2019-05-14', 'data_quote_start': '2017-03-14T20:03:49.1491232Z', 'data_quote_end': '2019-05-14T04:39:36.3417482Z', 'data_orderbook_start': '2017-03-14T20:03:49.1491232Z', 'data_orderbook_end': '2019-05-14T04:39:36.3417482Z', 'data_trade_start': '2014-12-07T20:04:05.0000000Z', 'data_trade_end': '2019-05-14T04:38:57.0000000Z', 'data_symbols_count': 4659, 'volume_1hrs_usd': 0, 'volume_1day_usd': 0, 'volume_1mth_usd': 0}\n",
            "{'exchange_id': 'COINCHECK', 'website': 'https://coincheck.com/', 'name': 'coincheck', 'data_start': '2017-03-14', 'data_end': '2021-11-04', 'data_quote_start': '2017-03-14T20:03:20.5307029Z', 'data_quote_end': '2021-11-04T15:56:24.8438025Z', 'data_orderbook_start': '2017-03-14T20:03:20.5307029Z', 'data_orderbook_end': '2020-08-05T14:37:06.3691036Z', 'data_trade_start': '2017-03-14T20:04:46.0000000Z', 'data_trade_end': '2017-12-18T10:58:56.0000000Z', 'data_symbols_count': 13, 'volume_1hrs_usd': 0, 'volume_1day_usd': 0, 'volume_1mth_usd': 0}\n",
            "{'exchange_id': 'LIQUI', 'website': 'https://liqui.io/', 'name': 'Liqui', 'data_start': '2016-09-08', 'data_end': '2019-03-19', 'data_quote_start': '2017-09-21T13:45:51.3610312Z', 'data_quote_end': '2019-03-19T15:22:49.3593353Z', 'data_orderbook_start': '2017-09-21T13:45:51.3610312Z', 'data_orderbook_end': '2019-03-19T15:22:49.3593353Z', 'data_trade_start': '2016-09-08T12:23:19.0000000Z', 'data_trade_end': '2019-01-27T21:34:45.0000000Z', 'data_symbols_count': 488, 'volume_1hrs_usd': 0, 'volume_1day_usd': 0, 'volume_1mth_usd': 0}\n",
            "{'exchange_id': 'EXMO', 'website': 'https://exmo.com/', 'name': 'EXMO', 'data_start': '2016-02-17', 'data_end': '2021-11-04', 'data_quote_start': '2017-03-14T20:04:15.0007802Z', 'data_quote_end': '2021-11-04T17:19:40.8546373Z', 'data_orderbook_start': '2017-03-14T20:04:15.0007802Z', 'data_orderbook_end': '2020-08-05T14:37:31.8852981Z', 'data_trade_start': '2016-02-17T16:38:11.0000000Z', 'data_trade_end': '2021-11-04T17:18:43.0000000Z', 'data_symbols_count': 247, 'volume_1hrs_usd': 2366040.88, 'volume_1day_usd': 70045367.25, 'volume_1mth_usd': 2455748173.5}\n",
            "{'exchange_id': 'CHBTC', 'website': 'https://www.chbtc.com/', 'name': 'CHBTC', 'data_start': '2015-05-18', 'data_end': '2019-02-06', 'data_quote_start': '2015-05-19T14:31:56.5100000Z', 'data_quote_end': '2019-02-06T15:52:49.1677389Z', 'data_orderbook_start': '2015-05-19T14:31:56.5100000Z', 'data_orderbook_end': '2019-02-06T15:52:49.1677389Z', 'data_trade_start': '2015-05-18T00:17:33.0000000Z', 'data_trade_end': '2019-02-06T15:43:57.0000000Z', 'data_symbols_count': 12, 'volume_1hrs_usd': 0, 'volume_1day_usd': 0, 'volume_1mth_usd': 0}\n",
            "{'exchange_id': 'JUBI', 'website': 'https://www.jubi.com/', 'name': 'Jubi', 'data_start': '2014-12-31', 'data_end': '2019-04-15', 'data_quote_start': '2017-03-18T22:53:36.0065489Z', 'data_quote_end': '2019-04-15T21:16:24.2699920Z', 'data_orderbook_start': '2017-03-18T22:53:36.0065489Z', 'data_orderbook_end': '2019-04-15T21:16:24.2699920Z', 'data_trade_start': '2014-12-31T12:12:00.0000000Z', 'data_trade_end': '2017-09-07T12:19:20.0000000Z', 'data_symbols_count': 41, 'volume_1hrs_usd': 0, 'volume_1day_usd': 0, 'volume_1mth_usd': 0}\n",
            "{'exchange_id': 'ZAIF', 'website': 'https://zaif.jp/', 'name': 'Zaif', 'data_start': '2017-11-08', 'data_end': '2021-11-04', 'data_quote_start': '2017-12-28T21:48:26.7161574Z', 'data_quote_end': '2021-11-04T17:18:55.0415493Z', 'data_orderbook_start': '2017-12-28T21:48:26.7161574Z', 'data_orderbook_end': '2020-08-05T14:37:06.3213969Z', 'data_trade_start': '2017-11-08T10:35:32.0000000Z', 'data_trade_end': '2021-11-04T17:12:23.0000000Z', 'data_symbols_count': 32, 'volume_1hrs_usd': 165238.89, 'volume_1day_usd': 8131899.03, 'volume_1mth_usd': 534866866.33}\n",
            "{'exchange_id': 'KORBIT', 'website': 'https://www.korbit.co.kr/', 'name': 'Korbit', 'data_start': '2013-09-03', 'data_end': '2021-11-04', 'data_quote_start': '2017-03-18T22:53:39.4192811Z', 'data_quote_end': '2021-11-04T17:16:49.8219952Z', 'data_orderbook_start': '2017-03-18T22:53:39.4192811Z', 'data_orderbook_end': '2020-08-05T14:37:12.8898539Z', 'data_trade_start': '2013-09-03T06:31:37.0000000Z', 'data_trade_end': '2019-10-01T17:25:00.7870000Z', 'data_symbols_count': 72, 'volume_1hrs_usd': 0, 'volume_1day_usd': 0, 'volume_1mth_usd': 0}\n",
            "{'exchange_id': 'BTC38', 'website': 'http://www.btc38.com', 'name': 'BTC38', 'data_start': '2017-03-16', 'data_end': '2018-01-09', 'data_quote_start': '2017-03-18T22:53:45.3558927Z', 'data_quote_end': '2018-01-09T00:02:43.5604799Z', 'data_orderbook_start': '2017-03-18T22:53:45.3558927Z', 'data_orderbook_end': '2018-01-09T00:02:43.5604799Z', 'data_trade_start': '2017-03-16T13:30:42.0000000Z', 'data_trade_end': '2017-10-31T03:58:21.0000000Z', 'data_symbols_count': 53, 'volume_1hrs_usd': 0, 'volume_1day_usd': 0, 'volume_1mth_usd': 0}\n",
            "{'exchange_id': 'MTGOX', 'website': 'https://www.mtgox.com/', 'name': 'mtgox', 'data_start': '2010-07-17', 'data_end': '2014-02-25', 'data_trade_start': '2010-07-17T23:09:17.0000000Z', 'data_trade_end': '2014-02-25T01:59:06.0000000Z', 'data_symbols_count': 15, 'volume_1hrs_usd': 0, 'volume_1day_usd': 0, 'volume_1mth_usd': 0}\n",
            "{'exchange_id': 'LAKEBTC', 'website': 'https://www.lakebtc.com/', 'name': 'LakeBTC', 'data_start': '2014-03-01', 'data_end': '2021-08-01', 'data_quote_start': '2017-03-18T22:53:40.7300076Z', 'data_quote_end': '2021-08-01T09:00:00.2233333Z', 'data_orderbook_start': '2017-03-18T22:53:40.7300076Z', 'data_orderbook_end': '2020-08-05T14:37:33.6953758Z', 'data_trade_start': '2014-03-01T12:01:39.0000000Z', 'data_trade_end': '2021-08-01T09:00:02.8866667Z', 'data_symbols_count': 10, 'volume_1hrs_usd': 0, 'volume_1day_usd': 0, 'volume_1mth_usd': 0}\n",
            "{'exchange_id': 'BLEUTRADE', 'website': 'https://bleutrade.com', 'name': 'Bleutrade', 'data_start': '2017-02-16', 'data_end': '2021-10-03', 'data_quote_start': '2017-03-14T20:04:25.7449674Z', 'data_quote_end': '2021-10-03T13:51:30.0440122Z', 'data_orderbook_start': '2017-03-14T20:04:25.7449674Z', 'data_orderbook_end': '2020-08-05T14:14:01.8765542Z', 'data_trade_start': '2017-02-16T20:09:59.0000000Z', 'data_trade_end': '2021-10-03T12:10:48.0000000Z', 'data_symbols_count': 399, 'volume_1hrs_usd': 0, 'volume_1day_usd': 0, 'volume_1mth_usd': 0}\n",
            "{'exchange_id': 'BITCOINID', 'website': 'https://indodax.com/', 'name': 'Indodax', 'data_start': '2018-01-05', 'data_end': '2021-11-04', 'data_quote_start': '2018-01-05T15:56:05.6259966Z', 'data_quote_end': '2021-11-04T17:16:02.3881956Z', 'data_orderbook_start': '2018-01-05T15:56:05.6259966Z', 'data_orderbook_end': '2020-08-05T14:37:42.4610048Z', 'data_trade_start': '2018-01-05T15:51:29.0000000Z', 'data_trade_end': '2021-11-04T17:15:48.0000000Z', 'data_symbols_count': 21, 'volume_1hrs_usd': 373508.59, 'volume_1day_usd': 12890194.82, 'volume_1mth_usd': 457022233.05}\n",
            "{'exchange_id': 'TIDEX', 'website': 'https://tidex.com/', 'name': 'Tidex', 'data_start': '2017-02-10', 'data_end': '2021-11-04', 'data_quote_start': '2017-12-28T21:49:03.2916366Z', 'data_quote_end': '2021-11-04T17:18:24.5680113Z', 'data_orderbook_start': '2017-12-28T21:49:03.2916366Z', 'data_orderbook_end': '2020-08-05T14:37:29.8830948Z', 'data_trade_start': '2017-02-10T20:18:18.0000000Z', 'data_trade_end': '2021-11-04T17:15:14.0000000Z', 'data_symbols_count': 393, 'volume_1hrs_usd': 187915.54, 'volume_1day_usd': 5966353.48, 'volume_1mth_usd': 230278355.58}\n",
            "{'exchange_id': 'ACX', 'website': 'https://acx.io/', 'name': 'ACX', 'data_start': '2017-09-13', 'data_end': '2021-11-01', 'data_quote_start': '2017-09-21T13:50:21.9301963Z', 'data_quote_end': '2021-11-01T23:54:41.4404261Z', 'data_orderbook_start': '2017-09-21T13:50:21.9301963Z', 'data_orderbook_end': '2020-08-05T11:42:15.2803147Z', 'data_trade_start': '2017-09-13T10:58:32.0000000Z', 'data_trade_end': '2020-06-26T02:51:23.0000000Z', 'data_symbols_count': 38, 'volume_1hrs_usd': 0, 'volume_1day_usd': 0, 'volume_1mth_usd': 0}\n",
            "{'exchange_id': 'BITSO', 'website': 'https://bitso.com/', 'name': 'Bitso', 'data_start': '2017-08-29', 'data_end': '2021-11-04', 'data_quote_start': '2017-08-29T15:47:12.6045423Z', 'data_quote_end': '2021-11-04T17:19:07.9239988Z', 'data_orderbook_start': '2017-08-29T15:47:12.6045423Z', 'data_orderbook_end': '2020-08-05T14:37:56.0186756Z', 'data_trade_start': '2017-08-29T03:39:38.0000000Z', 'data_trade_end': '2021-11-04T17:18:51.0958246Z', 'data_symbols_count': 37, 'volume_1hrs_usd': 2714362.12, 'volume_1day_usd': 36435237.81, 'volume_1mth_usd': 750760646.51}\n",
            "{'exchange_id': 'LIVECOIN', 'website': 'https://www.livecoin.net/', 'name': 'LiveCoin', 'data_start': '2017-12-28', 'data_end': '2020-12-24', 'data_quote_start': '2017-12-28T21:41:59.3272652Z', 'data_quote_end': '2020-12-24T17:23:07.1036713Z', 'data_orderbook_start': '2017-12-28T21:41:59.3272652Z', 'data_orderbook_end': '2020-08-05T14:37:14.2365048Z', 'data_trade_start': '2017-12-28T20:44:07.0000000Z', 'data_trade_end': '2020-12-24T17:19:51.0000000Z', 'data_symbols_count': 1720, 'volume_1hrs_usd': 0, 'volume_1day_usd': 0, 'volume_1mth_usd': 0}\n",
            "{'exchange_id': 'MIXCOINS', 'website': 'https://mixcoins.com/', 'name': 'MixCoins', 'data_start': '2018-01-19', 'data_end': '2021-04-09', 'data_quote_start': '2018-01-24T00:21:38.5122245Z', 'data_quote_end': '2021-04-09T22:00:35.6223081Z', 'data_orderbook_start': '2018-01-24T00:21:38.5122245Z', 'data_orderbook_end': '2020-08-05T11:54:12.0230165Z', 'data_trade_start': '2018-01-19T02:29:23.0000000Z', 'data_trade_end': '2020-12-27T18:51:29.0000000Z', 'data_symbols_count': 11, 'volume_1hrs_usd': 0, 'volume_1day_usd': 0, 'volume_1mth_usd': 0}\n",
            "{'exchange_id': 'VIRWOX', 'website': 'https://www.virwox.com/', 'name': 'BirWoX', 'data_start': '2011-04-27', 'data_end': '2020-01-06', 'data_quote_start': '2017-03-14T20:04:16.0302851Z', 'data_quote_end': '2020-01-06T09:52:30.8182707Z', 'data_orderbook_start': '2017-03-14T20:04:16.0302851Z', 'data_orderbook_end': '2020-01-06T09:52:30.8182707Z', 'data_trade_start': '2011-04-27T16:05:09.0000000Z', 'data_trade_end': '2020-01-06T09:10:21.0000000Z', 'data_symbols_count': 12, 'volume_1hrs_usd': 0, 'volume_1day_usd': 0, 'volume_1mth_usd': 0}\n",
            "{'exchange_id': 'BTER', 'website': 'https://bter.com/', 'name': 'Bter', 'data_start': '2017-01-08', 'data_end': '2018-03-10', 'data_quote_start': '2017-01-08T23:59:43.3338614Z', 'data_quote_end': '2018-03-09T23:36:52.2702686Z', 'data_orderbook_start': '2017-01-08T23:59:43.3338614Z', 'data_orderbook_end': '2018-03-09T23:36:52.2702686Z', 'data_trade_start': '2017-01-09T00:21:54.0000000Z', 'data_trade_end': '2018-03-10T02:08:08.0000000Z', 'data_symbols_count': 208, 'volume_1hrs_usd': 0, 'volume_1day_usd': 0, 'volume_1mth_usd': 0}\n",
            "{'exchange_id': 'MERCADOBITCOIN', 'website': 'https://www.mercadobitcoin.com.br/', 'name': 'Mercado Bitcoin', 'data_start': '2017-03-07', 'data_end': '2021-11-04', 'data_quote_start': '2017-03-14T20:05:05.6101304Z', 'data_quote_end': '2021-11-04T17:19:35.0275469Z', 'data_orderbook_start': '2017-03-14T20:05:05.6101304Z', 'data_orderbook_end': '2020-08-05T14:37:47.4793639Z', 'data_trade_start': '2017-03-07T18:04:01.0000000Z', 'data_trade_end': '2021-11-04T17:18:55.0000000Z', 'data_symbols_count': 68, 'volume_1hrs_usd': 682702.07, 'volume_1day_usd': 18754841.36, 'volume_1mth_usd': 619191279.95}\n",
            "{'exchange_id': 'COINNEST', 'website': 'https://www.coinnest.co.kr/', 'name': 'Coinnest', 'data_start': '2017-12-17', 'data_end': '2019-06-26', 'data_quote_start': '2017-12-18T21:44:18.7514464Z', 'data_quote_end': '2019-06-26T12:46:48.6026282Z', 'data_orderbook_start': '2017-12-18T21:44:18.7514464Z', 'data_orderbook_end': '2019-06-26T12:46:48.6026282Z', 'data_trade_start': '2017-12-17T09:56:31.0000000Z', 'data_trade_end': '2019-04-30T08:01:20.0000000Z', 'data_symbols_count': 22, 'volume_1hrs_usd': 0, 'volume_1day_usd': 0, 'volume_1mth_usd': 0}\n",
            "{'exchange_id': 'CEXIO', 'website': 'https://cex.io/', 'name': 'CEX.IO', 'data_start': '2018-01-15', 'data_end': '2021-11-04', 'data_quote_start': '2018-01-24T00:21:46.8349102Z', 'data_quote_end': '2021-11-04T17:19:13.2067655Z', 'data_orderbook_start': '2018-01-24T00:21:46.8349102Z', 'data_orderbook_end': '2020-08-05T14:37:26.0113553Z', 'data_trade_start': '2018-01-15T19:18:49.0000000Z', 'data_trade_end': '2021-11-04T17:17:36.0000000Z', 'data_symbols_count': 254, 'volume_1hrs_usd': 1806514.26, 'volume_1day_usd': 64489970.75, 'volume_1mth_usd': 2110182365.51}\n",
            "{'exchange_id': 'THEROCKTRADING', 'website': 'https://www.therocktrading.com/', 'name': 'The Rock Trading LTD.', 'data_start': '2011-11-09', 'data_end': '2021-11-04', 'data_quote_start': '2017-03-14T20:05:17.8425642Z', 'data_quote_end': '2021-11-04T17:19:21.1143219Z', 'data_orderbook_start': '2017-03-14T20:05:17.8425642Z', 'data_orderbook_end': '2020-08-05T14:37:15.8731749Z', 'data_trade_start': '2011-11-09T14:33:28.0000000Z', 'data_trade_end': '2021-11-04T17:10:58.0000000Z', 'data_symbols_count': 38, 'volume_1hrs_usd': 7582899.87, 'volume_1day_usd': 2188361534.51, 'volume_1mth_usd': 235494457982.28}\n",
            "{'exchange_id': 'CCEX', 'website': 'https://c-cex.com/', 'name': 'c-cex', 'data_start': '2014-02-11', 'data_end': '2019-06-20', 'data_quote_start': '2017-03-14T20:03:12.2346102Z', 'data_quote_end': '2019-06-20T05:19:56.7398163Z', 'data_orderbook_start': '2017-03-14T20:03:12.2346102Z', 'data_orderbook_end': '2019-06-20T05:19:56.7398163Z', 'data_trade_start': '2014-02-11T19:40:58.0000000Z', 'data_trade_end': '2019-06-11T09:52:53.0000000Z', 'data_symbols_count': 1424, 'volume_1hrs_usd': 0, 'volume_1day_usd': 0, 'volume_1mth_usd': 0}\n",
            "{'exchange_id': 'BITYES', 'website': 'https://www.bityes.com/', 'name': 'BitYes', 'data_start': '2015-05-18', 'data_end': '2019-02-06', 'data_quote_start': '2015-05-18T00:48:48.4730000Z', 'data_quote_end': '2019-02-06T15:41:13.9066836Z', 'data_orderbook_start': '2015-05-18T00:48:48.4730000Z', 'data_orderbook_end': '2019-02-06T15:41:13.9066836Z', 'data_trade_start': '2015-05-18T00:48:55.0000000Z', 'data_trade_end': '2019-02-06T15:45:13.0000000Z', 'data_symbols_count': 2, 'volume_1hrs_usd': 0, 'volume_1day_usd': 0, 'volume_1mth_usd': 0}\n",
            "{'exchange_id': 'QUADRIGACX', 'website': 'https://www.quadrigacx.com/', 'name': 'QuadrigaCX', 'data_start': '2017-03-14', 'data_end': '2019-01-28', 'data_quote_start': '2017-03-14T20:05:08.1246185Z', 'data_quote_end': '2019-01-28T21:01:56.0758582Z', 'data_orderbook_start': '2017-03-14T20:05:08.1246185Z', 'data_orderbook_end': '2019-01-28T21:01:56.0758582Z', 'data_trade_start': '2017-03-14T20:10:31.0000000Z', 'data_trade_end': '2019-01-28T21:01:30.0000000Z', 'data_symbols_count': 11, 'volume_1hrs_usd': 0, 'volume_1day_usd': 0, 'volume_1mth_usd': 0}\n",
            "{'exchange_id': 'BITMARKET', 'website': 'https://www.bitmarket.pl', 'name': 'BitMarket', 'data_start': '2011-04-05', 'data_end': '2019-07-08', 'data_quote_start': '2017-08-29T15:47:10.0528025Z', 'data_quote_end': '2019-07-08T22:04:27.4211942Z', 'data_orderbook_start': '2017-08-29T15:47:10.0528025Z', 'data_orderbook_end': '2019-07-08T22:04:27.4211942Z', 'data_trade_start': '2011-04-05T18:49:48.0000000Z', 'data_trade_end': '2019-07-08T22:02:31.0000000Z', 'data_symbols_count': 4, 'volume_1hrs_usd': 0, 'volume_1day_usd': 0, 'volume_1mth_usd': 0}\n",
            "{'exchange_id': 'LUNO', 'website': 'https://www.luno.com', 'name': 'Luno', 'data_start': '2017-12-28', 'data_end': '2021-11-04', 'data_quote_start': '2017-12-28T21:44:47.2651267Z', 'data_quote_end': '2021-11-04T17:17:57.6948773Z', 'data_orderbook_start': '2017-12-28T21:44:47.2651267Z', 'data_orderbook_end': '2020-08-05T14:37:50.3015153Z', 'data_trade_start': '2017-12-28T14:19:44.8820000Z', 'data_trade_end': '2021-11-04T17:09:07.6050000Z', 'data_symbols_count': 4, 'volume_1hrs_usd': 553500.49, 'volume_1day_usd': 19947671.69, 'volume_1mth_usd': 728991467.36}\n",
            "{'exchange_id': 'BTCMARKETS', 'website': 'https://www.btcmarkets.net/', 'name': 'BTC Markets Pty Ltd.', 'data_start': '2017-12-25', 'data_end': '2021-11-04', 'data_quote_start': '2017-12-28T21:38:26.3015015Z', 'data_quote_end': '2021-11-04T17:17:54.4123658Z', 'data_orderbook_start': '2017-12-28T21:38:26.3015015Z', 'data_orderbook_end': '2020-08-05T14:37:59.6681772Z', 'data_trade_start': '2017-12-25T10:18:54.0000000Z', 'data_trade_end': '2021-11-04T17:17:31.0000000Z', 'data_symbols_count': 11, 'volume_1hrs_usd': 133456.56, 'volume_1day_usd': 13976225.98, 'volume_1mth_usd': 408821612.98}\n",
            "{'exchange_id': 'VAULTORO', 'website': 'https://www.vaultoro.com/', 'name': 'Vaultoro', 'data_start': '2017-03-14', 'data_end': '2019-11-01', 'data_quote_start': '2017-03-14T20:05:23.8488070Z', 'data_quote_end': '2019-11-01T19:35:17.2927695Z', 'data_orderbook_start': '2017-03-14T20:05:23.8488070Z', 'data_orderbook_end': '2019-11-01T19:35:17.2927695Z', 'data_trade_start': '2017-03-14T20:07:49.0000000Z', 'data_trade_end': '2019-09-30T14:55:05.0000000Z', 'data_symbols_count': 1, 'volume_1hrs_usd': 0, 'volume_1day_usd': 0, 'volume_1mth_usd': 0}\n",
            "{'exchange_id': 'BTCBOX', 'website': 'https://www.btcbox.co.jp/', 'name': 'BtcBox', 'data_start': '2018-01-24', 'data_end': '2021-11-04', 'data_quote_start': '2018-01-24T00:21:41.0728293Z', 'data_quote_end': '2021-11-04T17:13:03.7363817Z', 'data_orderbook_start': '2018-01-24T00:21:41.0728293Z', 'data_orderbook_end': '2020-08-05T14:36:31.8791798Z', 'data_trade_start': '2018-01-24T23:24:33.0000000Z', 'data_trade_end': '2021-11-04T17:10:58.0000000Z', 'data_symbols_count': 1, 'volume_1hrs_usd': 1385312.02, 'volume_1day_usd': 50443218.64, 'volume_1mth_usd': 1575340715.96}\n",
            "{'exchange_id': 'GATECOIN', 'website': 'https://gatecoin.com/', 'name': 'Gatecoin', 'data_start': '2017-03-14', 'data_end': '2019-03-13', 'data_quote_start': '2017-03-14T20:04:17.4937751Z', 'data_quote_end': '2019-03-13T14:29:02.8306514Z', 'data_orderbook_start': '2017-03-14T20:04:17.4937751Z', 'data_orderbook_end': '2019-03-13T14:29:02.8306514Z', 'data_trade_start': '2017-03-14T22:00:23.0000000Z', 'data_trade_end': '2019-03-13T14:03:45.0000000Z', 'data_symbols_count': 10, 'volume_1hrs_usd': 0, 'volume_1day_usd': 0, 'volume_1mth_usd': 0}\n",
            "{'exchange_id': 'GETBTC', 'website': 'https://getbtc.org/', 'name': 'GetBTC', 'data_start': '2018-01-24', 'data_end': '2019-02-25', 'data_quote_start': '2018-01-24T00:25:52.2092047Z', 'data_quote_end': '2019-02-25T07:57:30.2362884Z', 'data_orderbook_start': '2018-01-24T00:25:52.2092047Z', 'data_orderbook_end': '2019-02-25T07:57:30.2362884Z', 'data_trade_start': '2018-01-24T23:35:14.0000000Z', 'data_trade_end': '2019-02-25T07:56:38.0000000Z', 'data_symbols_count': 3, 'volume_1hrs_usd': 0, 'volume_1day_usd': 0, 'volume_1mth_usd': 0}\n",
            "{'exchange_id': 'ALLCOIN', 'website': 'https://www.allcoin.com/', 'name': 'Allcoin', 'data_start': '2017-06-19', 'data_end': '2020-02-25', 'data_quote_start': '2018-01-24T00:42:37.0818542Z', 'data_quote_end': '2020-02-25T01:17:27.6473725Z', 'data_orderbook_start': '2018-01-24T00:42:37.0818542Z', 'data_orderbook_end': '2020-02-25T01:17:27.6473725Z', 'data_trade_start': '2017-06-19T05:31:08.2600000Z', 'data_trade_end': '2020-02-25T01:16:50.0000000Z', 'data_symbols_count': 130, 'volume_1hrs_usd': 0, 'volume_1day_usd': 0, 'volume_1mth_usd': 0}\n",
            "{'exchange_id': 'COINMATE', 'website': 'https://coinmate.io/', 'name': 'Coin Mate', 'data_start': '2017-03-14', 'data_end': '2021-11-04', 'data_quote_start': '2017-03-14T20:04:13.3389084Z', 'data_quote_end': '2021-11-04T17:17:09.8890178Z', 'data_orderbook_start': '2017-03-14T20:04:13.3389084Z', 'data_orderbook_end': '2020-08-05T14:37:49.6795885Z', 'data_trade_start': '2017-03-14T20:04:43.2020000Z', 'data_trade_end': '2021-11-04T17:13:44.2620000Z', 'data_symbols_count': 20, 'volume_1hrs_usd': 89972.02, 'volume_1day_usd': 4823740.28, 'volume_1mth_usd': 121779772.07}\n",
            "{'exchange_id': 'INDEPENDENTRESERVE', 'website': 'https://www.independentreserve.com/', 'name': 'Independent Reserve', 'data_start': '2017-09-16', 'data_end': '2021-11-04', 'data_quote_start': '2017-09-21T13:39:33.4870179Z', 'data_quote_end': '2021-11-04T17:19:31.3566369Z', 'data_orderbook_start': '2017-09-21T13:39:33.4870179Z', 'data_orderbook_end': '2020-08-05T14:37:37.8854203Z', 'data_trade_start': '2017-09-16T00:53:48.0000000Z', 'data_trade_end': '2021-11-04T17:05:48.0000000Z', 'data_symbols_count': 110, 'volume_1hrs_usd': 69807.17, 'volume_1day_usd': 9177908.18, 'volume_1mth_usd': 298826623.39}\n",
            "{'exchange_id': 'COINFLOOR', 'website': 'https://www.coinfloor.co.uk/', 'name': 'coinfloor', 'data_start': '2017-09-19', 'data_end': '2021-10-04', 'data_quote_start': '2017-09-21T13:36:24.9479094Z', 'data_quote_end': '2021-10-04T07:57:18.4945668Z', 'data_orderbook_start': '2017-09-21T13:36:24.9479094Z', 'data_orderbook_end': '2020-08-05T14:37:20.7769066Z', 'data_trade_start': '2017-09-19T11:20:44.0000000Z', 'data_trade_end': '2021-10-04T07:48:08.0000000Z', 'data_symbols_count': 4, 'volume_1hrs_usd': 0, 'volume_1day_usd': 0, 'volume_1mth_usd': 30710.52}\n",
            "{'exchange_id': 'DSX', 'website': 'https://dsx.uk', 'name': 'DSX', 'data_start': '2017-06-07', 'data_end': '2020-11-02', 'data_quote_start': '2017-08-29T15:50:33.5497414Z', 'data_quote_end': '2020-11-02T08:39:41.3018624Z', 'data_orderbook_start': '2017-08-29T15:50:33.5497414Z', 'data_orderbook_end': '2020-08-05T14:37:48.8773577Z', 'data_trade_start': '2017-06-07T04:46:35.0000000Z', 'data_trade_end': '2020-11-02T07:31:11.0000000Z', 'data_symbols_count': 74, 'volume_1hrs_usd': 0, 'volume_1day_usd': 0, 'volume_1mth_usd': 0}\n",
            "{'exchange_id': 'ABUCOINS', 'website': 'https://abucoins.com/', 'name': 'Abucoins', 'data_start': '2017-12-27', 'data_end': '2019-04-17', 'data_quote_start': '2017-12-28T21:34:28.8285993Z', 'data_quote_end': '2019-04-17T14:49:48.5333799Z', 'data_orderbook_start': '2017-12-28T21:34:28.8285993Z', 'data_orderbook_end': '2019-04-17T14:49:48.5333799Z', 'data_trade_start': '2017-12-27T12:49:47.0000000Z', 'data_trade_end': '2018-05-30T13:35:15.0000000Z', 'data_symbols_count': 66, 'volume_1hrs_usd': 0, 'volume_1day_usd': 0, 'volume_1mth_usd': 0}\n",
            "{'exchange_id': 'SOUTHXCHANGE', 'website': 'https://www.southxchange.com/', 'name': 'SouthXchange', 'data_start': '2017-11-16', 'data_end': '2021-11-04', 'data_quote_start': '2018-01-24T00:21:32.6002443Z', 'data_quote_end': '2021-11-04T17:19:38.8215754Z', 'data_orderbook_start': '2018-01-24T00:21:32.6002443Z', 'data_orderbook_end': '2020-08-05T14:33:58.4248276Z', 'data_trade_start': '2017-11-16T09:22:21.0000000Z', 'data_trade_end': '2021-11-04T17:17:04.0000000Z', 'data_symbols_count': 931, 'volume_1hrs_usd': 8129.0, 'volume_1day_usd': 269435.78, 'volume_1mth_usd': 351503550.03}\n",
            "{'exchange_id': 'BTCTRADEUA', 'website': 'https://btc-trade.com.ua/', 'name': 'BTC Trade UA', 'data_start': '2018-01-24', 'data_end': '2021-11-04', 'data_quote_start': '2018-01-24T00:21:29.5498424Z', 'data_quote_end': '2021-11-04T17:18:01.3394043Z', 'data_orderbook_start': '2018-01-24T00:21:29.5498424Z', 'data_orderbook_end': '2020-08-05T14:32:32.5070781Z', 'data_trade_start': '2018-01-24T18:46:55.0000000Z', 'data_trade_end': '2020-07-28T15:08:24.0000000Z', 'data_symbols_count': 35, 'volume_1hrs_usd': 0, 'volume_1day_usd': 0, 'volume_1mth_usd': 0}\n",
            "{'exchange_id': 'KRAKENFTS', 'website': 'https://futures.kraken.com/', 'name': 'Kraken Futures', 'data_start': '2017-11-23', 'data_end': '2021-11-04', 'data_quote_start': '2017-12-19T00:37:58.6744791Z', 'data_quote_end': '2021-11-04T17:18:46.4480000Z', 'data_orderbook_start': '2017-12-19T00:37:58.6744791Z', 'data_orderbook_end': '2020-08-05T14:37:32.4250000Z', 'data_trade_start': '2017-11-23T16:42:29.0000000Z', 'data_trade_end': '2021-11-04T17:16:19.5020000Z', 'data_symbols_count': 372, 'volume_1hrs_usd': 19382442.0, 'volume_1day_usd': 315429655.0, 'volume_1mth_usd': 11709317460.0}\n",
            "{'exchange_id': 'BTCX', 'website': 'https://bt.cx/en/', 'name': 'bt.cx', 'data_start': '2016-03-27', 'data_end': '2017-10-13', 'data_quote_start': '2017-03-14T20:03:53.7061506Z', 'data_quote_end': '2017-10-13T11:04:34.3376757Z', 'data_orderbook_start': '2017-03-14T20:03:53.7061506Z', 'data_orderbook_end': '2017-10-13T11:04:34.3376757Z', 'data_trade_start': '2016-03-27T23:17:37.0000000Z', 'data_trade_end': '2017-10-13T10:45:09.0000000Z', 'data_symbols_count': 2, 'volume_1hrs_usd': 0, 'volume_1day_usd': 0, 'volume_1mth_usd': 0}\n",
            "{'exchange_id': 'BITVC', 'website': 'https://www.bitvc.com/', 'name': 'BitVC.com', 'data_start': '2017-03-16', 'data_end': '2017-09-05', 'data_quote_start': '2017-03-18T22:53:36.3146226Z', 'data_quote_end': '2017-09-05T05:05:43.5778329Z', 'data_orderbook_start': '2017-03-18T22:53:36.3146226Z', 'data_orderbook_end': '2017-09-05T05:05:43.5778329Z', 'data_trade_start': '2017-03-16T21:20:22.0000000Z', 'data_trade_end': '2017-09-04T12:17:15.0000000Z', 'data_symbols_count': 2, 'volume_1hrs_usd': 0, 'volume_1day_usd': 0, 'volume_1mth_usd': 0}\n",
            "{'exchange_id': 'KUNA', 'website': 'https://kuna.io/', 'name': 'Kuna', 'data_start': '2017-12-30', 'data_end': '2021-11-04', 'data_quote_start': '2018-01-24T00:21:49.7672137Z', 'data_quote_end': '2021-11-04T17:17:17.4063856Z', 'data_orderbook_start': '2018-01-24T00:21:49.7672137Z', 'data_orderbook_end': '2020-08-05T14:37:24.1081653Z', 'data_trade_start': '2017-12-30T06:24:58.0000000Z', 'data_trade_end': '2021-11-04T17:17:51.0000000Z', 'data_symbols_count': 62, 'volume_1hrs_usd': 140406.86, 'volume_1day_usd': 1649512.06, 'volume_1mth_usd': 55843831.72}\n",
            "{'exchange_id': 'BRAZILIEX', 'website': 'https://braziliex.com/', 'name': 'Braziliex', 'data_start': '2017-12-16', 'data_end': '2021-08-01', 'data_quote_start': '2018-01-24T00:21:43.7267644Z', 'data_quote_end': '2021-08-01T09:00:00.2233333Z', 'data_orderbook_start': '2018-01-24T00:21:43.7267644Z', 'data_orderbook_end': '2020-08-05T14:36:34.9322719Z', 'data_trade_start': '2017-12-16T15:03:35.6420000Z', 'data_trade_end': '2021-08-01T09:00:02.8866667Z', 'data_symbols_count': 159, 'volume_1hrs_usd': 0, 'volume_1day_usd': 0, 'volume_1mth_usd': 0}\n",
            "{'exchange_id': 'PAYMIUM', 'website': 'https://www.paymium.com', 'name': 'Paymium', 'data_start': '2017-03-11', 'data_end': '2021-11-04', 'data_quote_start': '2017-03-14T20:05:15.5379982Z', 'data_quote_end': '2021-11-04T17:07:10.2040709Z', 'data_orderbook_start': '2017-03-14T20:05:15.5379982Z', 'data_orderbook_end': '2020-08-05T14:34:39.5657913Z', 'data_trade_start': '2017-03-11T00:14:42.0000000Z', 'data_trade_end': '2021-11-04T17:14:34.0000000Z', 'data_symbols_count': 1, 'volume_1hrs_usd': 65956.04, 'volume_1day_usd': 218592.73, 'volume_1mth_usd': 9809451.33}\n",
            "{'exchange_id': 'BIT2C', 'website': 'https://www.bit2c.co.il/', 'name': 'Bit2C', 'data_start': '2013-03-15', 'data_end': '2021-11-04', 'data_quote_start': '2018-01-24T00:42:50.1443495Z', 'data_quote_end': '2021-11-04T17:15:14.5786707Z', 'data_orderbook_start': '2018-01-24T00:42:50.1443495Z', 'data_orderbook_end': '2020-08-05T14:37:38.9928029Z', 'data_trade_start': '2013-03-15T12:48:43.0000000Z', 'data_trade_end': '2020-06-25T13:09:04.0000000Z', 'data_symbols_count': 10, 'volume_1hrs_usd': 0, 'volume_1day_usd': 0, 'volume_1mth_usd': 0}\n",
            "{'exchange_id': 'FYBSG', 'website': 'https://www.fybsg.com/', 'name': 'FYB-SG', 'data_start': '2013-01-07', 'data_end': '2019-08-28', 'data_quote_start': '2018-01-24T00:21:35.8644461Z', 'data_quote_end': '2019-08-28T00:23:39.4396719Z', 'data_orderbook_start': '2018-01-24T00:21:35.8644461Z', 'data_orderbook_end': '2019-08-28T00:23:39.4396719Z', 'data_trade_start': '2013-01-07T06:17:04.0000000Z', 'data_trade_end': '2018-06-28T07:22:05.0000000Z', 'data_symbols_count': 2, 'volume_1hrs_usd': 0, 'volume_1day_usd': 0, 'volume_1mth_usd': 0}\n",
            "{'exchange_id': 'YUNBI', 'website': 'https://yunbi.com/', 'name': 'YUNBI', 'data_start': '2013-09-28', 'data_end': '2018-03-09', 'data_quote_start': '2017-03-14T20:04:56.4842821Z', 'data_quote_end': '2018-03-09T23:30:06.7432183Z', 'data_orderbook_start': '2017-03-14T20:04:56.4842821Z', 'data_orderbook_end': '2018-03-09T23:30:06.7432183Z', 'data_trade_start': '2013-09-28T22:40:50.0000000Z', 'data_trade_end': '2018-03-09T21:58:11.8750000Z', 'data_symbols_count': 23, 'volume_1hrs_usd': 0, 'volume_1day_usd': 0, 'volume_1mth_usd': 0}\n",
            "{'exchange_id': 'BITKONAN', 'website': 'https://bitkonan.com/', 'name': 'BitKonan', 'data_start': '2017-08-26', 'data_end': '2021-11-04', 'data_quote_start': '2017-08-29T15:47:11.5174742Z', 'data_quote_end': '2021-11-04T17:08:43.3291301Z', 'data_orderbook_start': '2017-08-29T15:47:11.5174742Z', 'data_orderbook_end': '2020-08-05T14:23:13.7013094Z', 'data_trade_start': '2017-08-26T12:22:43.0000000Z', 'data_trade_end': '2021-11-04T09:26:52.0000000Z', 'data_symbols_count': 2, 'volume_1hrs_usd': 0, 'volume_1day_usd': 67.28, 'volume_1mth_usd': 5724.27}\n",
            "{'exchange_id': 'FYBSE', 'website': 'https://www.fybse.se/', 'name': 'FYB-SE', 'data_start': '2013-07-15', 'data_end': '2019-08-28', 'data_quote_start': '2018-01-24T00:21:52.7701638Z', 'data_quote_end': '2019-08-28T13:11:39.4081373Z', 'data_orderbook_start': '2018-01-24T00:21:52.7701638Z', 'data_orderbook_end': '2019-08-28T13:11:39.4081373Z', 'data_trade_start': '2013-07-15T20:40:11.0000000Z', 'data_trade_end': '2018-02-26T14:50:15.0000000Z', 'data_symbols_count': 1, 'volume_1hrs_usd': 0, 'volume_1day_usd': 0, 'volume_1mth_usd': 0}\n",
            "{'exchange_id': 'BTCC', 'website': 'https://www.btcc.com/', 'name': 'BTCC', 'data_start': '2017-09-20', 'data_end': '2018-06-19', 'data_quote_start': '2017-09-21T13:35:08.7798904Z', 'data_quote_end': '2018-06-19T12:33:14.6691507Z', 'data_orderbook_start': '2017-09-21T13:35:08.7798904Z', 'data_orderbook_end': '2018-06-19T12:33:14.6691507Z', 'data_trade_start': '2017-09-20T12:51:00.5840000Z', 'data_trade_end': '2018-06-11T01:06:48.2510000Z', 'data_symbols_count': 1, 'volume_1hrs_usd': 0, 'volume_1day_usd': 0, 'volume_1mth_usd': 0}\n",
            "{'exchange_id': 'COINGI', 'website': 'https://coingi.com/', 'name': 'Coingi', 'data_start': '2017-09-10', 'data_end': '2021-11-04', 'data_quote_start': '2018-01-24T00:21:48.4137019Z', 'data_quote_end': '2021-11-04T17:15:51.3173490Z', 'data_orderbook_start': '2018-01-24T00:21:48.4137019Z', 'data_orderbook_end': '2020-08-05T14:37:03.0595643Z', 'data_trade_start': '2017-09-10T07:59:21.0000000Z', 'data_trade_end': '2021-11-04T11:53:22.0000000Z', 'data_symbols_count': 28, 'volume_1hrs_usd': 0, 'volume_1day_usd': 10218.87, 'volume_1mth_usd': 665119.95}\n",
            "{'exchange_id': 'NOVA', 'website': 'https://novaexchange.com/', 'name': 'Novaexchange', 'data_start': '2016-04-08', 'data_end': '2019-10-07', 'data_quote_start': '2018-01-24T00:21:54.1944779Z', 'data_quote_end': '2019-10-07T14:40:13.5873553Z', 'data_orderbook_start': '2018-01-24T00:21:54.1944779Z', 'data_orderbook_end': '2019-10-07T14:40:13.5873553Z', 'data_trade_start': '2016-04-08T02:59:15.0000000Z', 'data_trade_end': '2019-10-07T09:18:00.0000000Z', 'data_symbols_count': 3034, 'volume_1hrs_usd': 0, 'volume_1day_usd': 0, 'volume_1mth_usd': 0}\n",
            "{'exchange_id': '1BTCXE', 'website': 'https://1btcxe.com/', 'name': '1Btcxe', 'data_start': '2018-01-23', 'data_end': '2019-08-06', 'data_quote_start': '2018-01-24T00:42:37.6443449Z', 'data_quote_end': '2019-08-06T11:12:15.4810000Z', 'data_orderbook_start': '2018-01-24T00:42:37.6443449Z', 'data_orderbook_end': '2019-08-06T11:12:15.4810000Z', 'data_trade_start': '2018-01-23T09:58:13.0000000Z', 'data_trade_end': '2018-06-18T12:01:54.0000000Z', 'data_symbols_count': 28, 'volume_1hrs_usd': 0, 'volume_1day_usd': 0, 'volume_1mth_usd': 0}\n",
            "{'exchange_id': 'COINSECURE', 'website': 'https://coinsecure.in/', 'name': 'Coinsecure', 'data_start': '2018-01-24', 'data_end': '2018-04-10', 'data_quote_start': '2018-01-24T00:21:45.2925018Z', 'data_quote_end': '2018-04-10T05:55:15.8720000Z', 'data_orderbook_start': '2018-01-24T00:21:45.2925018Z', 'data_orderbook_end': '2018-04-10T05:55:15.8720000Z', 'data_trade_start': '2018-01-24T18:15:31.9200000Z', 'data_trade_end': '2018-04-10T03:54:07.4020000Z', 'data_symbols_count': 1, 'volume_1hrs_usd': 0, 'volume_1day_usd': 0, 'volume_1mth_usd': 0}\n",
            "{'exchange_id': 'VBTC', 'website': 'https://vbtc.vn/', 'name': 'VBTC.VN', 'data_start': '2014-08-15', 'data_end': '2021-11-04', 'data_quote_start': '2017-03-14T20:05:02.3943786Z', 'data_quote_end': '2021-11-04T17:13:13.6022003Z', 'data_orderbook_start': '2017-03-14T20:05:02.3943786Z', 'data_orderbook_end': '2020-08-05T14:34:57.4067142Z', 'data_trade_start': '2014-08-15T17:27:03.0000000Z', 'data_trade_end': '2018-03-09T21:58:24.8810000Z', 'data_symbols_count': 5, 'volume_1hrs_usd': 0, 'volume_1day_usd': 0, 'volume_1mth_usd': 0}\n",
            "{'exchange_id': 'FOXBIT', 'website': 'https://foxbit.com.br/', 'name': 'Foxbit', 'data_start': '2014-12-11', 'data_end': '2021-08-01', 'data_quote_start': '2017-03-18T22:53:42.1600307Z', 'data_quote_end': '2021-08-01T09:00:00.2233333Z', 'data_orderbook_start': '2017-03-18T22:53:42.1600307Z', 'data_orderbook_end': '2020-08-05T11:50:56.9808233Z', 'data_trade_start': '2014-12-11T10:31:07.0000000Z', 'data_trade_end': '2014-12-14T14:07:14.0000000Z', 'data_symbols_count': 1, 'volume_1hrs_usd': 0, 'volume_1day_usd': 0, 'volume_1mth_usd': 0}\n",
            "{'exchange_id': 'SURBITCOIN', 'website': 'https://surbitcoin.com/', 'name': 'SurBitcoin', 'data_start': '2014-08-15', 'data_end': '2021-11-03', 'data_quote_start': '2017-03-18T22:53:39.8859603Z', 'data_quote_end': '2021-11-03T20:55:05.1853163Z', 'data_orderbook_start': '2017-03-18T22:53:39.8859603Z', 'data_orderbook_end': '2020-08-05T11:57:02.3602704Z', 'data_trade_start': '2014-08-15T17:27:03.0000000Z', 'data_trade_end': '2015-02-19T16:03:23.0000000Z', 'data_symbols_count': 1, 'volume_1hrs_usd': 0, 'volume_1day_usd': 0, 'volume_1mth_usd': 0}\n",
            "{'exchange_id': 'URDUBIT', 'website': 'https://urdubit.com/', 'name': 'URDUBIT', 'data_start': '2014-10-14', 'data_end': '2018-09-17', 'data_quote_start': '2017-03-18T22:53:43.0074017Z', 'data_quote_end': '2018-09-17T10:29:55.2038175Z', 'data_orderbook_start': '2017-03-18T22:53:43.0074017Z', 'data_orderbook_end': '2018-09-17T10:29:55.2038175Z', 'data_trade_start': '2014-10-14T04:46:00.0000000Z', 'data_trade_end': '2015-02-21T05:56:02.0000000Z', 'data_symbols_count': 1, 'volume_1hrs_usd': 0, 'volume_1day_usd': 0, 'volume_1mth_usd': 0}\n",
            "{'exchange_id': 'CHILEBIT', 'website': 'https://chilebit.net/', 'name': 'CHILEBIT', 'data_start': '2014-12-12', 'data_end': '2021-08-01', 'data_quote_start': '2017-03-18T22:53:41.7026460Z', 'data_quote_end': '2021-08-01T09:00:00.2233333Z', 'data_orderbook_start': '2017-03-18T22:53:41.7026460Z', 'data_orderbook_end': '2020-08-05T11:47:48.3514633Z', 'data_trade_start': '2014-12-12T16:36:44.0000000Z', 'data_trade_end': '2015-04-29T17:27:49.0000000Z', 'data_symbols_count': 1, 'volume_1hrs_usd': 0, 'volume_1day_usd': 0, 'volume_1mth_usd': 0}\n",
            "{'exchange_id': 'GRAVIEX', 'website': 'https://graviex.net/', 'name': 'Graviex', 'data_start': '2018-05-23', 'data_end': '2021-11-04', 'data_quote_start': '2019-04-08T15:18:05.3893240Z', 'data_quote_end': '2021-11-04T17:19:25.4358493Z', 'data_orderbook_start': '2019-04-08T15:18:05.3893240Z', 'data_orderbook_end': '2020-08-05T14:37:51.6671831Z', 'data_trade_start': '2018-05-23T17:26:19.0000000Z', 'data_trade_end': '2021-11-04T17:09:45.0000000Z', 'data_symbols_count': 832, 'volume_1hrs_usd': 15503.65, 'volume_1day_usd': 771751085.35, 'volume_1mth_usd': 159023063325.18}\n",
            "{'exchange_id': 'NOVADAX', 'website': 'http://www.novadax.com.br/', 'name': 'NovaDAX', 'data_start': '2020-05-05', 'data_end': '2021-11-04', 'data_quote_start': '2020-05-05T00:00:00.7917541Z', 'data_quote_end': '2021-11-04T17:19:25.6449937Z', 'data_orderbook_start': '2020-05-05T00:00:00.7917541Z', 'data_orderbook_end': '2020-08-05T14:37:13.6080686Z', 'data_trade_start': '2020-05-05T13:39:05.4790000Z', 'data_trade_end': '2021-11-04T17:16:22.5310000Z', 'data_symbols_count': 187, 'volume_1hrs_usd': 375514.8, 'volume_1day_usd': 13704241.44, 'volume_1mth_usd': 395255020.76}\n",
            "{'exchange_id': 'HUOBIKR', 'website': 'https://www.huobi.co.kr/', 'name': 'Huobi Korea', 'data_start': '2020-01-15', 'data_end': '2021-11-04', 'data_quote_start': '2020-01-15T16:41:21.2798163Z', 'data_quote_end': '2021-11-04T17:19:28.4684030Z', 'data_orderbook_start': '2020-01-15T16:41:21.2798163Z', 'data_orderbook_end': '2020-08-05T14:37:58.9095501Z', 'data_trade_start': '2020-01-15T16:41:21.3960000Z', 'data_trade_end': '2021-11-04T17:18:58.9190000Z', 'data_symbols_count': 942, 'volume_1hrs_usd': 760253254.95, 'volume_1day_usd': 16890837935.69, 'volume_1mth_usd': 315535345916.34}\n",
            "{'exchange_id': 'CURRENCYCOM', 'website': 'https://currency.com/', 'name': 'Currency.com', 'data_start': '2020-05-05', 'data_end': '2021-11-04', 'data_quote_start': '2020-05-05T16:17:24.5303681Z', 'data_quote_end': '2021-11-04T17:19:40.6660000Z', 'data_orderbook_start': '2020-05-05T16:17:24.5303681Z', 'data_orderbook_end': '2020-08-05T11:47:54.6991358Z', 'data_trade_start': '2020-05-10T14:48:06.1890000Z', 'data_trade_end': '2021-11-04T17:18:32.7860000Z', 'data_symbols_count': 1183, 'volume_1hrs_usd': 4151951.23, 'volume_1day_usd': 138157230.38, 'volume_1mth_usd': 3802069105.63}\n",
            "{'exchange_id': 'DIGIFINEX', 'website': 'https://www.digifinex.com/', 'name': 'DigiFinex', 'data_start': '2019-02-19', 'data_end': '2020-07-28', 'data_quote_start': '2019-02-19T17:11:50.0000000Z', 'data_quote_end': '2020-07-28T15:13:38.2242862Z', 'data_orderbook_start': '2019-02-19T17:11:50.0000000Z', 'data_orderbook_end': '2020-07-28T15:13:38.2242862Z', 'data_trade_start': '2019-02-19T09:23:18.0000000Z', 'data_trade_end': '2020-07-28T15:14:00.0000000Z', 'data_symbols_count': 636, 'volume_1hrs_usd': 0, 'volume_1day_usd': 0, 'volume_1mth_usd': 0}\n",
            "{'exchange_id': 'BITHUMBSG', 'website': 'https://www.bithumbsg.com', 'name': 'Bithumb Singapore', 'data_start': '2020-01-01', 'data_end': '2021-10-05', 'data_quote_start': '2020-01-01T02:31:03.5760497Z', 'data_quote_end': '2021-10-05T21:13:56.0702572Z', 'data_orderbook_start': '2020-01-01T02:31:03.5760497Z', 'data_orderbook_end': '2020-08-05T14:37:13.7842789Z', 'data_trade_start': '2020-01-01T10:31:05.9713530Z', 'data_trade_end': '2021-08-01T09:00:02.8866667Z', 'data_symbols_count': 31, 'volume_1hrs_usd': 0, 'volume_1day_usd': 0, 'volume_1mth_usd': 0}\n",
            "{'exchange_id': 'PHEMEX', 'website': 'https://phemex.com/', 'name': 'Phemex', 'data_start': '2021-05-21', 'data_end': '2021-11-04', 'data_quote_start': '2021-05-21T16:40:24.4944197Z', 'data_quote_end': '2021-11-04T17:19:37.5235146Z', 'data_trade_start': '2021-06-02T01:53:25.8220000Z', 'data_trade_end': '2021-11-04T17:18:40.9680000Z', 'data_symbols_count': 75, 'volume_1hrs_usd': 191155697.71, 'volume_1day_usd': 4962939296.04, 'volume_1mth_usd': 208341149971.91}\n",
            "{'exchange_id': 'BINANCEJEX', 'website': 'https://www.jex.com/en', 'name': 'Binance JEX', 'data_start': '2020-05-05', 'data_end': '2021-10-07', 'data_quote_start': '2020-05-05T00:00:00.7244920Z', 'data_quote_end': '2021-10-07T21:17:56.2160000Z', 'data_orderbook_start': '2020-05-05T00:00:00.7244920Z', 'data_orderbook_end': '2020-08-05T14:37:12.2900000Z', 'data_trade_start': '2020-05-05T16:17:15.0780000Z', 'data_trade_end': '2021-10-07T21:09:51.7950000Z', 'data_symbols_count': 159, 'volume_1hrs_usd': 0, 'volume_1day_usd': 0, 'volume_1mth_usd': 494889.75}\n",
            "{'exchange_id': 'BITUBU', 'website': 'https://bitubu.com/', 'name': 'BitUBU', 'data_start': '2020-05-05', 'data_end': '2021-11-04', 'data_quote_start': '2020-05-05T13:01:40.9583748Z', 'data_quote_end': '2021-11-04T17:19:14.4073188Z', 'data_orderbook_start': '2020-05-05T13:01:40.9583748Z', 'data_orderbook_end': '2020-08-05T14:38:01.4024419Z', 'data_trade_start': '2020-05-05T19:01:11.0000000Z', 'data_trade_end': '2021-11-04T17:17:55.0000000Z', 'data_symbols_count': 136, 'volume_1hrs_usd': 688520.57, 'volume_1day_usd': 17868052.53, 'volume_1mth_usd': 611085237.35}\n",
            "{'exchange_id': 'BIKI', 'website': 'https://www.biki.com/', 'name': 'BiKi', 'data_start': '2019-10-01', 'data_end': '2021-11-01', 'data_quote_start': '2019-10-01T15:06:19.1645252Z', 'data_quote_end': '2021-11-01T09:44:03.2379679Z', 'data_orderbook_start': '2019-10-01T15:06:19.1645252Z', 'data_orderbook_end': '2020-08-05T14:37:49.8082198Z', 'data_trade_start': '2019-10-01T15:06:20.7990000Z', 'data_trade_end': '2021-11-01T09:37:10.0000000Z', 'data_symbols_count': 921, 'volume_1hrs_usd': 0, 'volume_1day_usd': 0, 'volume_1mth_usd': 1730624066.67}\n",
            "{'exchange_id': 'EXX', 'website': 'https://www.exx.com/', 'name': 'EXX', 'data_start': '2018-07-21', 'data_end': '2020-09-01', 'data_quote_start': '2018-10-17T07:33:03.0000000Z', 'data_quote_end': '2020-09-01T14:45:40.0000000Z', 'data_orderbook_start': '2018-10-17T07:33:03.0000000Z', 'data_orderbook_end': '2019-10-29T09:52:34.0000000Z', 'data_trade_start': '2018-07-21T12:25:57.0000000Z', 'data_trade_end': '2020-09-01T14:45:19.0000000Z', 'data_symbols_count': 371, 'volume_1hrs_usd': 0, 'volume_1day_usd': 0, 'volume_1mth_usd': 0}\n",
            "{'exchange_id': 'SWITCHEO', 'website': 'https://switcheo.network/', 'name': 'Switcheo Network', 'data_start': '2019-04-18', 'data_end': '2021-11-03', 'data_quote_start': '2019-04-18T12:50:23.1966422Z', 'data_quote_end': '2021-11-03T15:50:51.7440096Z', 'data_orderbook_start': '2019-04-18T12:50:23.1966422Z', 'data_orderbook_end': '2020-08-05T14:37:16.8402191Z', 'data_trade_start': '2019-04-18T12:50:27.0000000Z', 'data_trade_end': '2021-11-03T15:50:43.0000000Z', 'data_symbols_count': 226, 'volume_1hrs_usd': 0, 'volume_1day_usd': 0, 'volume_1mth_usd': 605.95}\n",
            "{'exchange_id': 'COINCORNER', 'website': 'https://www.coincorner.com/', 'name': 'CoinCorner', 'data_start': '2018-04-13', 'data_end': '2020-07-28', 'data_quote_start': '2019-10-01T17:21:35.8361975Z', 'data_quote_end': '2020-07-28T15:10:31.3706473Z', 'data_orderbook_start': '2019-10-01T17:21:35.8361975Z', 'data_orderbook_end': '2020-07-28T15:10:31.3706473Z', 'data_trade_start': '2018-04-13T13:31:54.0000000Z', 'data_trade_end': '2018-04-13T13:31:54.0000000Z', 'data_symbols_count': 2, 'volume_1hrs_usd': 0, 'volume_1day_usd': 0, 'volume_1mth_usd': 0}\n",
            "{'exchange_id': 'TRADESATOSHI', 'website': 'https://tradesatoshi.com/', 'name': 'Trade Satoshi', 'data_start': '2017-07-06', 'data_end': '2020-02-22', 'data_quote_start': '2019-04-08T15:18:19.6286531Z', 'data_quote_end': '2020-02-22T01:31:17.2872442Z', 'data_orderbook_start': '2019-04-08T15:18:19.6286531Z', 'data_orderbook_end': '2020-02-22T01:31:17.2872442Z', 'data_trade_start': '2017-07-06T11:41:31.3030000Z', 'data_trade_end': '2020-02-22T01:25:10.7870000Z', 'data_symbols_count': 1582, 'volume_1hrs_usd': 0, 'volume_1day_usd': 0, 'volume_1mth_usd': 0}\n",
            "{'exchange_id': 'ETOROX', 'website': 'https://www.etorox.com/', 'name': 'eToroX', 'data_start': '2021-03-02', 'data_end': '2021-11-04', 'data_quote_start': '2021-03-02T17:59:32.2830000Z', 'data_quote_end': '2021-11-04T17:18:42.1130000Z', 'data_trade_start': '2021-03-02T17:59:53.8400000Z', 'data_trade_end': '2021-11-04T17:17:11.5290000Z', 'data_symbols_count': 49, 'volume_1hrs_usd': 13241250.53, 'volume_1day_usd': 216943890.17, 'volume_1mth_usd': 6736990787.44}\n",
            "{'exchange_id': 'ETHFINEX', 'website': 'https://www.ethfinex.com/', 'name': 'Ethfinex', 'data_start': '2019-10-01', 'data_end': '2020-07-25', 'data_quote_start': '2019-10-01T17:23:55.4003231Z', 'data_quote_end': '2020-07-25T18:40:58.6456707Z', 'data_orderbook_start': '2019-10-01T17:23:55.4003231Z', 'data_orderbook_end': '2020-07-25T18:40:58.6456707Z', 'data_symbols_count': 423, 'volume_1hrs_usd': 0, 'volume_1day_usd': 0, 'volume_1mth_usd': 0}\n",
            "{'exchange_id': 'SIMEX', 'website': 'https://simex.global/', 'name': 'SIMEX', 'data_start': '2017-11-06', 'data_end': '2021-11-04', 'data_quote_start': '2019-02-05T23:26:47.3672455Z', 'data_quote_end': '2021-11-04T17:12:43.6394480Z', 'data_orderbook_start': '2019-02-05T23:26:47.3672455Z', 'data_orderbook_end': '2020-08-05T14:37:49.7619143Z', 'data_trade_start': '2017-11-06T18:49:43.0000000Z', 'data_trade_end': '2021-11-04T16:24:58.0000000Z', 'data_symbols_count': 1202, 'volume_1hrs_usd': 0, 'volume_1day_usd': 232376384.17, 'volume_1mth_usd': 7009851568.13}\n",
            "{'exchange_id': 'COINALL', 'website': 'https://www.coinall.com/', 'name': 'Coinall', 'data_start': '2019-04-18', 'data_end': '2021-03-12', 'data_quote_start': '2019-04-18T12:50:27.7633096Z', 'data_quote_end': '2021-03-12T06:24:29.1724413Z', 'data_orderbook_start': '2019-04-18T12:50:27.7633096Z', 'data_orderbook_end': '2020-08-05T14:37:12.2417707Z', 'data_trade_start': '2019-04-18T12:50:29.0000000Z', 'data_trade_end': '2021-03-12T06:23:25.0000000Z', 'data_symbols_count': 540, 'volume_1hrs_usd': 0, 'volume_1day_usd': 0, 'volume_1mth_usd': 0}\n",
            "{'exchange_id': 'KOINIM', 'website': 'https://koinim.com/', 'name': 'Koinim', 'data_start': '2019-10-03', 'data_end': '2021-11-04', 'data_quote_start': '2019-10-03T16:53:12.4213468Z', 'data_quote_end': '2021-11-04T17:08:31.9884345Z', 'data_orderbook_start': '2019-10-03T16:53:12.4213468Z', 'data_orderbook_end': '2020-08-05T14:35:42.2647481Z', 'data_symbols_count': 6, 'volume_1hrs_usd': 0, 'volume_1day_usd': 0, 'volume_1mth_usd': 0}\n",
            "{'exchange_id': 'BLOCKCHAINEXCHANGE', 'website': 'https://exchange.blockchain.com/', 'name': 'Blockchain Exchange', 'data_start': '2020-01-16', 'data_end': '2021-11-04', 'data_quote_start': '2020-01-16T11:36:36.1087316Z', 'data_quote_end': '2021-11-04T17:19:28.0951040Z', 'data_orderbook_start': '2020-01-16T11:36:36.1087316Z', 'data_orderbook_end': '2020-08-05T14:37:22.1776578Z', 'data_trade_start': '2020-01-16T11:36:38.6481660Z', 'data_trade_end': '2020-01-17T13:05:46.2557140Z', 'data_symbols_count': 102, 'volume_1hrs_usd': 0, 'volume_1day_usd': 0, 'volume_1mth_usd': 0}\n",
            "{'exchange_id': 'BITVAST', 'website': 'https://www.bitvast.com/', 'name': 'Bitvast', 'data_start': '2020-05-05', 'data_end': '2021-11-04', 'data_quote_start': '2020-05-05T13:01:32.5948284Z', 'data_quote_end': '2021-11-04T17:19:36.9790300Z', 'data_orderbook_start': '2020-05-05T13:01:32.5948284Z', 'data_orderbook_end': '2020-08-05T14:37:51.9379819Z', 'data_trade_start': '2020-05-11T02:05:26.0000000Z', 'data_trade_end': '2021-11-04T17:18:00.0000000Z', 'data_symbols_count': 15, 'volume_1hrs_usd': 17381593.73, 'volume_1day_usd': 406086307.04, 'volume_1mth_usd': 12980844219.0}\n",
            "{'exchange_id': 'BITINKA', 'website': 'https://www.bitinka.com/', 'name': 'Bitinka', 'data_start': '2019-02-08', 'data_end': '2021-11-04', 'data_quote_start': '2019-02-08T07:47:15.6160385Z', 'data_quote_end': '2021-11-04T17:19:40.9258153Z', 'data_orderbook_start': '2019-02-08T07:47:15.6160385Z', 'data_orderbook_end': '2020-08-05T14:37:11.8780509Z', 'data_symbols_count': 461, 'volume_1hrs_usd': 0, 'volume_1day_usd': 0, 'volume_1mth_usd': 0}\n",
            "{'exchange_id': 'COINMEX', 'website': 'https://www.coinmex.com/', 'name': 'CoinMex', 'data_start': '2018-07-04', 'data_end': '2020-03-03', 'data_quote_start': '2019-04-08T15:19:05.2653890Z', 'data_quote_end': '2020-03-03T23:49:26.9246506Z', 'data_orderbook_start': '2019-04-08T15:19:05.2653890Z', 'data_orderbook_end': '2020-03-03T23:49:26.9246506Z', 'data_trade_start': '2018-07-04T02:35:28.0000000Z', 'data_trade_end': '2020-02-26T08:11:46.7230000Z', 'data_symbols_count': 63, 'volume_1hrs_usd': 0, 'volume_1day_usd': 0, 'volume_1mth_usd': 0}\n",
            "{'exchange_id': 'COBINHOOD', 'website': 'https://cobinhood.com/', 'name': 'COBINHOOD', 'data_start': '2018-04-09', 'data_end': '2019-11-26', 'data_quote_start': '2018-11-03T13:09:03.1540232Z', 'data_quote_end': '2019-11-26T12:43:52.3732509Z', 'data_orderbook_start': '2018-11-03T13:09:03.1540232Z', 'data_orderbook_end': '2019-11-26T12:43:52.3732509Z', 'data_trade_start': '2018-04-09T19:21:36.6980000Z', 'data_trade_end': '2019-10-22T17:50:18.5540000Z', 'data_symbols_count': 179, 'volume_1hrs_usd': 0, 'volume_1day_usd': 0, 'volume_1mth_usd': 0}\n",
            "{'exchange_id': 'COINSQUARE', 'website': 'https://coinsquare.com/', 'name': 'Coinsquare', 'data_symbols_count': 21, 'volume_1hrs_usd': 0, 'volume_1day_usd': 0, 'volume_1mth_usd': 0}\n",
            "{'exchange_id': 'DEXTOP', 'website': 'https://dex.top/', 'name': 'DEx.top', 'data_start': '2019-05-10', 'data_end': '2020-05-10', 'data_quote_start': '2019-10-01T17:23:50.9496930Z', 'data_quote_end': '2020-05-10T22:02:52.5421746Z', 'data_orderbook_start': '2019-10-01T17:23:50.9496930Z', 'data_orderbook_end': '2020-05-10T22:02:52.5421746Z', 'data_trade_start': '2019-05-10T09:09:46.5540000Z', 'data_trade_end': '2020-04-26T14:27:20.0760000Z', 'data_symbols_count': 27, 'volume_1hrs_usd': 0, 'volume_1day_usd': 0, 'volume_1mth_usd': 0}\n",
            "{'exchange_id': 'COINEAL', 'website': 'https://www.coineal.com/', 'name': 'Coineal', 'data_start': '2019-10-01', 'data_end': '2021-11-04', 'data_quote_start': '2019-10-01T17:21:59.2409145Z', 'data_quote_end': '2021-11-04T17:19:40.8944173Z', 'data_orderbook_start': '2019-10-01T17:21:59.2409145Z', 'data_orderbook_end': '2020-08-05T14:37:22.0216726Z', 'data_trade_start': '2019-10-01T17:22:01.0000000Z', 'data_trade_end': '2021-11-04T17:18:00.0000000Z', 'data_symbols_count': 228, 'volume_1hrs_usd': 24976403287.16, 'volume_1day_usd': 519521122382.43, 'volume_1mth_usd': 13333209618810.86}\n",
            "{'exchange_id': 'OCEANEX', 'website': 'https://oceanex.pro/', 'name': 'OceanEx', 'data_start': '2019-09-16', 'data_end': '2021-11-04', 'data_quote_start': '2019-10-01T15:58:54.5097198Z', 'data_quote_end': '2021-11-04T17:19:28.7978524Z', 'data_orderbook_start': '2019-10-01T15:58:54.5097198Z', 'data_orderbook_end': '2020-08-05T14:37:35.4576340Z', 'data_trade_start': '2019-09-16T19:31:03.0000000Z', 'data_trade_end': '2021-11-04T17:17:23.0000000Z', 'data_symbols_count': 103, 'volume_1hrs_usd': 6226362.92, 'volume_1day_usd': 347257997.38, 'volume_1mth_usd': 10570583606.83}\n",
            "{'exchange_id': 'ALTERDICE', 'website': 'https://alterdice.com/', 'name': 'Alterdice', 'data_start': '2019-12-03', 'data_end': '2021-11-04', 'data_quote_start': '2020-01-01T02:28:28.7290116Z', 'data_quote_end': '2020-07-28T15:05:40.6173713Z', 'data_orderbook_start': '2020-01-01T02:28:28.7290116Z', 'data_orderbook_end': '2020-07-28T15:05:40.6173713Z', 'data_trade_start': '2019-12-03T21:48:54.0000000Z', 'data_trade_end': '2021-11-04T17:18:28.0000000Z', 'data_symbols_count': 245, 'volume_1hrs_usd': 88348619929.18, 'volume_1day_usd': 2591991019951.79, 'volume_1mth_usd': 124133488808159.06}\n",
            "{'exchange_id': 'BINANCEJE', 'website': 'https://www.binance.je/', 'name': 'Binance Jersey', 'data_start': '2019-10-09', 'data_end': '2020-11-10', 'data_quote_start': '2019-10-09T13:14:59.9761514Z', 'data_quote_end': '2020-11-10T00:02:46.1790000Z', 'data_orderbook_start': '2019-10-09T13:14:59.9761514Z', 'data_orderbook_end': '2020-08-05T14:37:19.9450000Z', 'data_trade_start': '2019-10-09T13:45:10.0350000Z', 'data_trade_end': '2020-11-09T23:57:04.2510000Z', 'data_symbols_count': 11, 'volume_1hrs_usd': 0, 'volume_1day_usd': 0, 'volume_1mth_usd': 0}\n",
            "{'exchange_id': 'BITRABBIT', 'website': 'https://bitrabbit.com/', 'name': 'Bitrabbit', 'data_start': '2019-10-01', 'data_end': '2021-09-26', 'data_quote_start': '2019-10-01T17:20:03.3672856Z', 'data_quote_end': '2021-09-26T09:17:30.6628833Z', 'data_orderbook_start': '2019-10-01T17:20:03.3672856Z', 'data_orderbook_end': '2020-08-05T14:37:46.4800848Z', 'data_symbols_count': 213, 'volume_1hrs_usd': 0, 'volume_1day_usd': 0, 'volume_1mth_usd': 0}\n",
            "{'exchange_id': 'HEATWALLET', 'website': 'https://heatwallet.com/', 'name': 'Heat Wallet', 'data_symbols_count': 22, 'volume_1hrs_usd': 0, 'volume_1day_usd': 0, 'volume_1mth_usd': 0}\n",
            "{'exchange_id': 'EZBTC', 'website': 'https://www.ezbtc.ca/', 'name': 'ezBtc', 'data_start': '2019-04-05', 'data_end': '2019-08-25', 'data_quote_start': '2019-04-08T15:33:51.6786671Z', 'data_quote_end': '2019-08-25T21:44:43.9443608Z', 'data_orderbook_start': '2019-04-08T15:33:51.6786671Z', 'data_orderbook_end': '2019-08-25T21:44:43.9443608Z', 'data_trade_start': '2019-04-05T06:19:12.0000000Z', 'data_trade_end': '2019-08-13T14:26:33.0000000Z', 'data_symbols_count': 1, 'volume_1hrs_usd': 0, 'volume_1day_usd': 0, 'volume_1mth_usd': 0}\n",
            "{'exchange_id': 'C2CX', 'website': 'https://www.c2cx.com/', 'name': 'C2CX', 'data_start': '2019-04-08', 'data_end': '2021-08-01', 'data_quote_start': '2019-04-08T15:17:57.0000000Z', 'data_quote_end': '2021-08-01T09:00:00.2233333Z', 'data_orderbook_start': '2019-04-08T15:17:57.0000000Z', 'data_orderbook_end': '2020-08-05T14:37:23.0000000Z', 'data_symbols_count': 89, 'volume_1hrs_usd': 0, 'volume_1day_usd': 0, 'volume_1mth_usd': 0}\n",
            "{'exchange_id': 'HUOBIFTS', 'website': 'https://futures.huobi.com/', 'name': 'Huobi Futures', 'data_start': '2021-04-19', 'data_end': '2021-11-04', 'data_quote_start': '2021-04-19T10:42:01.7393191Z', 'data_quote_end': '2021-11-04T17:19:40.1676248Z', 'data_trade_start': '2021-04-19T10:41:09.9810000Z', 'data_trade_end': '2021-11-04T17:18:58.9250000Z', 'data_symbols_count': 758, 'volume_1hrs_usd': 283947999989.17, 'volume_1day_usd': 4499057440515.45, 'volume_1mth_usd': 239727926006030.78}\n",
            "{'exchange_id': 'FOLGORY', 'website': 'https://folgory.com/', 'name': 'Folgory', 'data_start': '2020-09-16', 'data_end': '2021-11-04', 'data_quote_start': '2020-09-22T14:53:06.1317446Z', 'data_quote_end': '2021-11-04T17:17:53.0392895Z', 'data_trade_start': '2020-09-16T14:42:58.0000000Z', 'data_trade_end': '2021-11-04T17:17:00.0000000Z', 'data_symbols_count': 372, 'volume_1hrs_usd': 1660644.17, 'volume_1day_usd': 48752550.12, 'volume_1mth_usd': 1489897902.9}\n",
            "{'exchange_id': 'OPENLEDGER', 'website': 'https://dex.openledger.io/', 'name': 'OpenLedger DEX', 'data_start': '2017-10-08', 'data_end': '2020-06-28', 'data_quote_start': '2019-04-08T15:18:00.4299525Z', 'data_quote_end': '2020-06-28T13:29:23.7642737Z', 'data_orderbook_start': '2019-04-08T15:18:00.4299525Z', 'data_orderbook_end': '2020-06-28T13:29:23.7642737Z', 'data_trade_start': '2017-10-08T21:10:39.0000000Z', 'data_trade_end': '2020-04-20T21:14:45.0000000Z', 'data_symbols_count': 558, 'volume_1hrs_usd': 0, 'volume_1day_usd': 0, 'volume_1mth_usd': 0}\n",
            "{'exchange_id': 'CRXZONE', 'website': 'https://www.crxzone.com/', 'name': 'CRXzone', 'data_start': '2017-07-13', 'data_end': '2021-11-04', 'data_quote_start': '2019-04-08T15:17:55.5549491Z', 'data_quote_end': '2021-11-04T17:12:44.3561358Z', 'data_orderbook_start': '2019-04-08T15:17:55.5549491Z', 'data_orderbook_end': '2020-08-05T14:37:20.3346033Z', 'data_trade_start': '2017-07-13T12:11:32.0000000Z', 'data_trade_end': '2021-11-04T17:05:35.0000000Z', 'data_symbols_count': 5, 'volume_1hrs_usd': 1878.84, 'volume_1day_usd': 1827.64, 'volume_1mth_usd': 214235.34}\n",
            "{'exchange_id': 'ARTISTURBA', 'website': 'https://artisturba.com/', 'name': 'Artis Turba', 'data_start': '2020-05-10', 'data_end': '2021-11-04', 'data_quote_start': '2020-09-07T14:37:09.4097145Z', 'data_quote_end': '2021-11-04T17:05:34.8225068Z', 'data_trade_start': '2020-05-10T15:22:13.0000000Z', 'data_trade_end': '2021-11-04T17:04:41.5850000Z', 'data_symbols_count': 32, 'volume_1hrs_usd': 13713.02, 'volume_1day_usd': 539887.0, 'volume_1mth_usd': 8301637.36}\n",
            "{'exchange_id': 'KRYPTONO', 'website': 'https://kryptono.exchange/', 'name': 'Kryptono', 'data_start': '2019-01-03', 'data_end': '2021-02-22', 'data_quote_start': '2019-04-08T15:19:05.1120000Z', 'data_quote_end': '2021-02-22T13:09:43.5570000Z', 'data_orderbook_start': '2019-04-08T15:19:05.1120000Z', 'data_orderbook_end': '2020-08-05T14:37:14.7190000Z', 'data_trade_start': '2019-01-03T03:11:04.0750000Z', 'data_trade_end': '2021-02-03T20:25:13.6550000Z', 'data_symbols_count': 51, 'volume_1hrs_usd': 0, 'volume_1day_usd': 0, 'volume_1mth_usd': 0}\n",
            "{'exchange_id': 'TOKOK', 'website': 'https://www.tokok.com', 'name': 'TokTok', 'data_start': '2019-04-08', 'data_end': '2021-11-04', 'data_quote_start': '2019-04-08T15:19:02.7190000Z', 'data_quote_end': '2021-11-04T17:19:20.1247217Z', 'data_orderbook_start': '2019-04-08T15:19:02.7190000Z', 'data_orderbook_end': '2020-08-05T14:37:53.9614353Z', 'data_trade_start': '2019-04-08T15:21:45.0000000Z', 'data_trade_end': '2021-11-04T17:18:15.0000000Z', 'data_symbols_count': 212, 'volume_1hrs_usd': 8291176.93, 'volume_1day_usd': 228319410.74, 'volume_1mth_usd': 9382608213.57}\n",
            "{'exchange_id': 'BHEX', 'website': 'https://www.bhex.com/', 'name': 'BHEX', 'data_start': '2019-01-21', 'data_end': '2021-11-04', 'data_quote_start': '2019-01-21T19:18:16.5708674Z', 'data_quote_end': '2021-11-04T17:19:40.6235354Z', 'data_orderbook_start': '2019-01-21T19:18:16.5708674Z', 'data_orderbook_end': '2020-08-05T14:37:41.0545487Z', 'data_trade_start': '2019-01-21T18:55:09.3430000Z', 'data_trade_end': '2019-04-17T15:03:51.3580000Z', 'data_symbols_count': 505, 'volume_1hrs_usd': 0, 'volume_1day_usd': 0, 'volume_1mth_usd': 0}\n",
            "{'exchange_id': 'TOKENS', 'website': 'https://www.tokens.net/', 'name': 'Tokens.net', 'data_start': '2019-10-01', 'data_end': '2021-02-16', 'data_quote_start': '2019-10-01T17:28:46.7499049Z', 'data_quote_end': '2021-02-16T11:14:18.0016893Z', 'data_orderbook_start': '2019-10-01T17:28:46.7499049Z', 'data_orderbook_end': '2020-08-05T14:36:51.8682981Z', 'data_trade_start': '2019-10-01T17:28:43.0000000Z', 'data_trade_end': '2021-02-16T10:59:15.0000000Z', 'data_symbols_count': 98, 'volume_1hrs_usd': 0, 'volume_1day_usd': 0, 'volume_1mth_usd': 0}\n",
            "{'exchange_id': 'BIONE', 'website': 'https://www.bione.cc/', 'name': 'Bione', 'data_start': '2020-05-05', 'data_end': '2020-08-01', 'data_quote_start': '2020-05-05T13:01:28.7115175Z', 'data_quote_end': '2020-08-01T02:14:43.3449226Z', 'data_orderbook_start': '2020-05-05T13:01:28.7115175Z', 'data_orderbook_end': '2020-08-01T02:14:43.3449226Z', 'data_symbols_count': 64, 'volume_1hrs_usd': 0, 'volume_1day_usd': 0, 'volume_1mth_usd': 0}\n",
            "{'exchange_id': 'COINSBIT', 'website': 'https://coinsbit.io/', 'name': 'Coinsbit', 'data_start': '2019-10-01', 'data_end': '2021-11-04', 'data_quote_start': '2019-10-01T15:06:47.0737928Z', 'data_quote_end': '2021-11-04T17:19:27.4716627Z', 'data_orderbook_start': '2019-10-01T15:06:47.0737928Z', 'data_orderbook_end': '2020-08-05T14:37:16.7903541Z', 'data_trade_start': '2019-10-01T15:07:30.0000000Z', 'data_trade_end': '2021-11-04T17:16:47.0000000Z', 'data_symbols_count': 1380, 'volume_1hrs_usd': 42302033.99, 'volume_1day_usd': 5144803714739.35, 'volume_1mth_usd': 22101655324288.15}\n",
            "{'exchange_id': 'MERCATOX', 'website': 'https://mercatox.com', 'name': 'MERCATOX', 'data_start': '2018-10-15', 'data_end': '2021-11-04', 'data_quote_start': '2018-10-15T09:25:26.8771992Z', 'data_quote_end': '2021-11-04T17:18:23.4048873Z', 'data_orderbook_start': '2018-10-15T09:25:26.8771992Z', 'data_orderbook_end': '2020-08-05T14:38:05.0502632Z', 'data_symbols_count': 788, 'volume_1hrs_usd': 0, 'volume_1day_usd': 0, 'volume_1mth_usd': 0}\n",
            "{'exchange_id': 'MANDALA', 'website': 'https://www.mandala.exchange/', 'name': 'Mandala', 'data_start': '2021-03-12', 'data_end': '2021-08-01', 'data_quote_start': '2021-03-12T23:31:27.1769842Z', 'data_quote_end': '2021-08-01T09:00:00.2233333Z', 'data_trade_start': '2021-03-12T23:31:26.1980000Z', 'data_trade_end': '2021-08-01T09:00:02.8866667Z', 'data_symbols_count': 1129, 'volume_1hrs_usd': 0, 'volume_1day_usd': 0, 'volume_1mth_usd': 0}\n",
            "{'exchange_id': 'CRYPTOLOGY', 'website': 'https://cryptology.com/', 'name': 'Cryptology', 'data_start': '2019-10-01', 'data_end': '2021-11-04', 'data_quote_start': '2019-10-01T17:23:08.0259193Z', 'data_quote_end': '2021-11-04T17:19:38.0774246Z', 'data_orderbook_start': '2019-10-01T17:23:08.0259193Z', 'data_orderbook_end': '2020-08-05T14:37:35.9555646Z', 'data_trade_start': '2019-10-01T17:23:20.2680000Z', 'data_trade_end': '2021-11-04T17:18:39.6970000Z', 'data_symbols_count': 68, 'volume_1hrs_usd': 1052977.5, 'volume_1day_usd': 31005934.25, 'volume_1mth_usd': 1233869258.12}\n",
            "{'exchange_id': 'BITHESAP', 'website': 'https://www.bithesap.com/', 'name': 'Bithesap', 'data_start': '2019-10-01', 'data_end': '2021-11-04', 'data_quote_start': '2019-10-01T17:36:53.4673826Z', 'data_quote_end': '2021-11-04T16:57:11.0942609Z', 'data_orderbook_start': '2019-10-01T17:36:53.4673826Z', 'data_orderbook_end': '2020-08-05T14:00:00.2747044Z', 'data_symbols_count': 3, 'volume_1hrs_usd': 0, 'volume_1day_usd': 0, 'volume_1mth_usd': 0}\n",
            "{'exchange_id': 'WAVESPLATFORM', 'website': 'http://www.wavesplatform.com/', 'name': 'Waves Decentralized Exchange', 'data_start': '2019-04-26', 'data_end': '2020-07-26', 'data_trade_start': '2019-04-26T03:02:46.3080000Z', 'data_trade_end': '2020-07-26T21:53:59.7030000Z', 'data_symbols_count': 828, 'volume_1hrs_usd': 0, 'volume_1day_usd': 0, 'volume_1mth_usd': 0}\n",
            "{'exchange_id': 'GATEHUB', 'website': 'https://www.gatehub.net/', 'name': 'Gatehub', 'data_start': '2021-03-02', 'data_end': '2021-11-04', 'data_quote_start': '2021-03-05T11:27:04.6783039Z', 'data_quote_end': '2021-11-04T14:52:40.0369711Z', 'data_trade_start': '2021-03-02T18:05:52.0000000Z', 'data_trade_end': '2021-11-04T17:15:01.0000000Z', 'data_symbols_count': 12, 'volume_1hrs_usd': 65087.26, 'volume_1day_usd': 905847.35, 'volume_1mth_usd': 23650767.15}\n",
            "{'exchange_id': 'BITFLYERLTNG', 'website': 'https://lightning.bitflyer.com/', 'name': 'bitFlyer Lightning', 'data_start': '2019-10-01', 'data_end': '2021-11-04', 'data_quote_start': '2019-10-01T17:19:29.0930134Z', 'data_quote_end': '2021-11-04T17:17:49.3054842Z', 'data_orderbook_start': '2019-10-01T17:19:29.0930134Z', 'data_orderbook_end': '2020-08-05T14:37:03.3361626Z', 'data_trade_start': '2019-10-01T17:19:28.4200000Z', 'data_trade_end': '2021-11-04T17:16:08.1670000Z', 'data_symbols_count': 88, 'volume_1hrs_usd': 10465240.65, 'volume_1day_usd': 307874231.19, 'volume_1mth_usd': 16586503596.43}\n",
            "{'exchange_id': 'HUOBIIND', 'website': 'https://www.huobi.com.co/', 'name': 'Huobi Indonesia', 'data_start': '2020-05-05', 'data_end': '2021-10-16', 'data_quote_start': '2020-05-05T00:00:00.0628272Z', 'data_quote_end': '2021-10-16T21:06:35.5557277Z', 'data_orderbook_start': '2020-05-05T00:00:00.0628272Z', 'data_orderbook_end': '2020-08-05T14:37:45.1728186Z', 'data_trade_start': '2020-05-05T13:17:55.9760000Z', 'data_trade_end': '2021-10-16T21:06:29.3180000Z', 'data_symbols_count': 162, 'volume_1hrs_usd': 0, 'volume_1day_usd': 0, 'volume_1mth_usd': 69302032951.11}\n",
            "{'exchange_id': 'SATO', 'website': 'https://www.satoexchange.com/', 'name': 'SatoExchange', 'data_start': '2020-05-05', 'data_end': '2021-11-04', 'data_quote_start': '2020-05-05T13:18:58.0699561Z', 'data_quote_end': '2021-11-04T04:05:45.8205566Z', 'data_orderbook_start': '2020-05-05T13:18:58.0699561Z', 'data_orderbook_end': '2020-08-05T14:37:20.6482049Z', 'data_trade_start': '2020-05-10T14:15:58.0000000Z', 'data_trade_end': '2021-11-04T01:26:50.0000000Z', 'data_symbols_count': 345, 'volume_1hrs_usd': 0, 'volume_1day_usd': 2.06, 'volume_1mth_usd': 1159114.87}\n",
            "{'exchange_id': 'ALTCOINTRADER', 'website': 'https://www.altcointrader.co.za/', 'name': 'Altcoin Trader', 'data_start': '2019-04-08', 'data_end': '2021-11-04', 'data_quote_start': '2019-04-08T15:19:06.0909149Z', 'data_quote_end': '2021-11-04T17:15:38.4138886Z', 'data_orderbook_start': '2019-04-08T15:19:06.0909149Z', 'data_orderbook_end': '2020-08-05T14:37:23.4295349Z', 'data_symbols_count': 29, 'volume_1hrs_usd': 0, 'volume_1day_usd': 0, 'volume_1mth_usd': 0}\n",
            "{'exchange_id': 'HBTC', 'website': 'https://www.hbtc.com/', 'name': 'HBTC', 'data_start': '2020-05-05', 'data_end': '2021-11-04', 'data_quote_start': '2020-05-05T17:05:00.4421229Z', 'data_quote_end': '2021-11-04T17:19:38.3046745Z', 'data_orderbook_start': '2020-05-05T17:05:00.4421229Z', 'data_orderbook_end': '2020-08-05T14:37:25.0943341Z', 'data_trade_start': '2020-05-05T17:04:56.5250000Z', 'data_trade_end': '2021-11-04T17:18:22.7100000Z', 'data_symbols_count': 497, 'volume_1hrs_usd': 27553557.48, 'volume_1day_usd': 811700922.37, 'volume_1mth_usd': 371681610828.9}\n",
            "{'exchange_id': 'ABCC', 'website': 'https://abcc.com/', 'name': 'ABCC', 'data_start': '2019-10-01', 'data_end': '2021-11-04', 'data_quote_start': '2019-10-01T17:18:52.9628053Z', 'data_quote_end': '2021-11-04T17:15:01.4266664Z', 'data_orderbook_start': '2019-10-01T17:18:52.9628053Z', 'data_orderbook_end': '2020-08-05T14:36:00.9708954Z', 'data_symbols_count': 124, 'volume_1hrs_usd': 0, 'volume_1day_usd': 0, 'volume_1mth_usd': 0}\n",
            "{'exchange_id': 'COSS', 'website': 'https://www.coss.io/', 'name': 'COSS', 'data_start': '2018-12-07', 'data_end': '2020-01-07', 'data_quote_start': '2019-04-08T15:18:19.4240000Z', 'data_quote_end': '2020-01-07T12:24:01.1100000Z', 'data_orderbook_start': '2019-04-08T15:18:19.4240000Z', 'data_orderbook_end': '2020-01-07T12:24:01.1100000Z', 'data_trade_start': '2018-12-07T07:16:05.4320000Z', 'data_trade_end': '2020-01-07T12:19:12.4380000Z', 'data_symbols_count': 357, 'volume_1hrs_usd': 0, 'volume_1day_usd': 0, 'volume_1mth_usd': 0}\n",
            "{'exchange_id': 'RIGHTBTC', 'website': 'https://www.rightbtc.com/', 'name': 'RIGHTBTC', 'data_start': '2019-04-18', 'data_end': '2021-08-01', 'data_quote_start': '2019-04-18T09:51:49.0932046Z', 'data_quote_end': '2021-08-01T09:00:00.2233333Z', 'data_orderbook_start': '2019-04-18T09:51:49.0932046Z', 'data_orderbook_end': '2020-08-05T14:37:46.8447783Z', 'data_trade_start': '2019-04-22T00:43:42.1750000Z', 'data_trade_end': '2021-08-01T09:00:02.8866667Z', 'data_symbols_count': 72, 'volume_1hrs_usd': 0, 'volume_1day_usd': 0, 'volume_1mth_usd': 0}\n",
            "{'exchange_id': 'AAX', 'website': 'https://www.aax.com/', 'name': 'AAX', 'data_start': '2020-05-05', 'data_end': '2021-11-04', 'data_quote_start': '2020-05-05T00:00:00.2223057Z', 'data_quote_end': '2021-11-04T17:19:39.0425513Z', 'data_orderbook_start': '2020-05-05T00:00:00.2223057Z', 'data_orderbook_end': '2020-08-05T14:37:37.9392330Z', 'data_trade_start': '2020-05-05T13:01:20.8670000Z', 'data_trade_end': '2021-11-04T17:18:59.0840000Z', 'data_symbols_count': 191, 'volume_1hrs_usd': 102355011.51, 'volume_1day_usd': 1720358617.15, 'volume_1mth_usd': 34389841242.21}\n",
            "{'exchange_id': 'BITMART', 'website': 'https://www.bitmart.com/', 'name': 'BitMart', 'data_start': '2019-02-21', 'data_end': '2020-01-31', 'data_quote_start': '2019-02-21T13:39:20.5728310Z', 'data_quote_end': '2020-01-31T07:59:03.2329224Z', 'data_orderbook_start': '2019-02-21T13:39:20.5728310Z', 'data_orderbook_end': '2020-01-31T07:59:03.2329224Z', 'data_trade_start': '2019-02-21T13:39:20.9020000Z', 'data_trade_end': '2020-01-31T07:59:19.4880000Z', 'data_symbols_count': 958, 'volume_1hrs_usd': 0, 'volume_1day_usd': 0, 'volume_1mth_usd': 0}\n",
            "{'exchange_id': 'PARIBU', 'website': 'https://www.paribu.com/', 'name': 'Paribu', 'data_start': '2019-10-01', 'data_end': '2021-11-04', 'data_quote_start': '2019-10-01T17:27:26.1924563Z', 'data_quote_end': '2021-11-04T17:19:24.2207953Z', 'data_orderbook_start': '2019-10-01T17:27:26.1924563Z', 'data_orderbook_end': '2020-08-05T14:38:38.3413202Z', 'data_symbols_count': 71, 'volume_1hrs_usd': 0, 'volume_1day_usd': 0, 'volume_1mth_usd': 0}\n",
            "{'exchange_id': 'RFINEX', 'website': 'https://rfinex.com/', 'name': 'Rfinex', 'data_start': '2019-10-01', 'data_end': '2020-11-11', 'data_quote_start': '2019-10-01T17:27:40.2095117Z', 'data_quote_end': '2020-11-11T01:06:46.0205579Z', 'data_orderbook_start': '2019-10-01T17:27:40.2095117Z', 'data_orderbook_end': '2020-08-05T14:38:04.1142269Z', 'data_trade_start': '2019-10-01T17:27:42.0000000Z', 'data_trade_end': '2020-11-11T01:06:11.0000000Z', 'data_symbols_count': 63, 'volume_1hrs_usd': 0, 'volume_1day_usd': 0, 'volume_1mth_usd': 0}\n",
            "{'exchange_id': 'OVIS', 'website': 'https://www.ovis.com.tr/', 'name': 'Ovis', 'data_start': '2019-04-08', 'data_end': '2020-05-19', 'data_quote_start': '2019-04-08T15:18:03.8366018Z', 'data_quote_end': '2020-05-19T22:23:52.5115974Z', 'data_orderbook_start': '2019-04-08T15:18:03.8366018Z', 'data_orderbook_end': '2020-05-19T22:23:52.5115974Z', 'data_trade_start': '2019-04-08T15:28:37.8810000Z', 'data_trade_end': '2019-05-02T09:59:01.3990000Z', 'data_symbols_count': 17, 'volume_1hrs_usd': 0, 'volume_1day_usd': 0, 'volume_1mth_usd': 0}\n",
            "{'exchange_id': 'BITFOREX', 'website': 'https://bitforex.com/', 'name': 'BitForex', 'data_start': '2018-09-04', 'data_end': '2021-11-04', 'data_quote_start': '2018-10-13T17:03:50.8150924Z', 'data_quote_end': '2021-11-04T17:19:31.1161601Z', 'data_orderbook_start': '2018-10-13T17:03:50.8150924Z', 'data_orderbook_end': '2020-08-05T14:37:06.7472218Z', 'data_trade_start': '2018-09-04T17:03:38.8780000Z', 'data_trade_end': '2021-11-04T17:18:52.3810000Z', 'data_symbols_count': 690, 'volume_1hrs_usd': 1029553518564.32, 'volume_1day_usd': 26257770124677.48, 'volume_1mth_usd': 889199016366771.2}\n",
            "{'exchange_id': 'P2PB2B', 'website': 'https://p2pb2b.io/', 'name': 'p2pb2b', 'data_start': '2018-10-26', 'data_end': '2020-12-10', 'data_quote_start': '2019-04-08T15:19:03.3086962Z', 'data_quote_end': '2020-12-10T13:54:17.1188891Z', 'data_orderbook_start': '2019-04-08T15:19:03.3086962Z', 'data_orderbook_end': '2020-08-05T14:37:07.1688497Z', 'data_trade_start': '2018-10-26T06:54:25.8040000Z', 'data_trade_end': '2020-12-10T13:52:56.1510000Z', 'data_symbols_count': 1480, 'volume_1hrs_usd': 0, 'volume_1day_usd': 0, 'volume_1mth_usd': 0}\n",
            "{'exchange_id': 'BITVAVO', 'website': 'https://bitvavo.com', 'name': 'Bitvavo', 'data_start': '2020-05-05', 'data_end': '2021-11-04', 'data_quote_start': '2020-05-05T13:01:26.5780423Z', 'data_quote_end': '2021-11-04T17:19:40.4914216Z', 'data_orderbook_start': '2020-05-05T13:01:26.5780423Z', 'data_orderbook_end': '2020-08-05T14:37:08.8610128Z', 'data_trade_start': '2020-05-05T13:19:30.6410000Z', 'data_trade_end': '2021-11-04T17:18:32.3030000Z', 'data_symbols_count': 221, 'volume_1hrs_usd': 22866120.0, 'volume_1day_usd': 486185603.37, 'volume_1mth_usd': 11868130898.71}\n",
            "{'exchange_id': 'BIRAKE', 'website': 'https://birake.com/', 'name': 'Birake Network', 'data_start': '2021-02-18', 'data_end': '2021-11-04', 'data_quote_start': '2021-02-18T15:49:30.3361085Z', 'data_quote_end': '2021-11-04T17:18:57.3507741Z', 'data_trade_start': '2021-02-18T15:50:08.0000000Z', 'data_trade_end': '2021-11-04T17:12:00.0000000Z', 'data_symbols_count': 132, 'volume_1hrs_usd': 25338.58, 'volume_1day_usd': 316704.15, 'volume_1mth_usd': 27989784.81}\n",
            "{'exchange_id': 'BITBANK', 'website': 'https://bitbank.cc/', 'name': 'Bitbank', 'data_start': '2018-09-09', 'data_end': '2021-11-04', 'data_quote_start': '2018-09-09T12:57:18.2867320Z', 'data_quote_end': '2021-11-04T17:16:44.6849172Z', 'data_orderbook_start': '2018-09-09T12:57:18.2867320Z', 'data_orderbook_end': '2020-08-05T14:37:46.5011156Z', 'data_trade_start': '2018-09-09T05:09:30.0640000Z', 'data_trade_end': '2021-11-04T17:16:39.4890000Z', 'data_symbols_count': 8, 'volume_1hrs_usd': 1094780.2, 'volume_1day_usd': 69378233.31, 'volume_1mth_usd': 1942218288.77}\n",
            "{'exchange_id': 'STRONGHOLD', 'website': 'https://stronghold.co/', 'name': 'Stronghold', 'data_start': '2019-04-08', 'data_end': '2019-04-30', 'data_quote_start': '2019-04-08T15:17:54.1560666Z', 'data_quote_end': '2019-04-30T22:53:43.8462303Z', 'data_orderbook_start': '2019-04-08T15:17:54.1560666Z', 'data_orderbook_end': '2019-04-30T22:53:43.8462303Z', 'data_trade_start': '2019-04-08T08:19:05.0000000Z', 'data_trade_end': '2019-04-25T19:23:28.0000000Z', 'data_symbols_count': 9, 'volume_1hrs_usd': 0, 'volume_1day_usd': 0, 'volume_1mth_usd': 0}\n",
            "{'exchange_id': 'SISTEMKOIN', 'website': 'https://sistemkoin.com/', 'name': 'Sistemkoin', 'data_start': '2019-04-08', 'data_end': '2021-04-14', 'data_quote_start': '2019-04-08T15:17:55.3330949Z', 'data_quote_end': '2021-04-14T14:25:52.8685566Z', 'data_orderbook_start': '2019-04-08T15:17:55.3330949Z', 'data_orderbook_end': '2020-08-05T14:38:33.4327540Z', 'data_symbols_count': 735, 'volume_1hrs_usd': 0, 'volume_1day_usd': 0, 'volume_1mth_usd': 0}\n",
            "{'exchange_id': 'STORMGAIN', 'website': 'https://stormgain.com', 'name': 'StormGain', 'data_start': '2020-05-05', 'data_end': '2021-11-04', 'data_quote_start': '2020-05-05T16:16:25.3897239Z', 'data_quote_end': '2021-11-04T17:18:39.2234272Z', 'data_orderbook_start': '2020-05-05T16:16:25.3897239Z', 'data_orderbook_end': '2020-08-05T14:38:35.2210565Z', 'data_trade_start': '2020-05-05T16:18:27.3070000Z', 'data_trade_end': '2020-07-15T07:53:36.6590000Z', 'data_symbols_count': 18, 'volume_1hrs_usd': 0, 'volume_1day_usd': 0, 'volume_1mth_usd': 0}\n",
            "{'exchange_id': 'BITSANE', 'website': 'https://bitsane.com/', 'name': 'Bitsane', 'data_start': '2018-01-08', 'data_end': '2019-06-17', 'data_quote_start': '2019-04-08T15:18:18.8301553Z', 'data_quote_end': '2019-06-17T11:22:58.1901039Z', 'data_orderbook_start': '2019-04-08T15:18:18.8301553Z', 'data_orderbook_end': '2019-06-17T11:22:58.1901039Z', 'data_trade_start': '2018-01-08T01:17:20.0000000Z', 'data_trade_end': '2019-06-17T11:15:55.0000000Z', 'data_symbols_count': 146, 'volume_1hrs_usd': 0, 'volume_1day_usd': 0, 'volume_1mth_usd': 0}\n",
            "{'exchange_id': 'NEGOCIECOINS', 'website': 'http://www.negociecoins.com.br/', 'name': 'Negocie Coins', 'data_start': '2019-04-08', 'data_end': '2019-09-01', 'data_quote_start': '2019-04-08T15:17:57.9165736Z', 'data_quote_end': '2019-09-01T02:57:08.8225151Z', 'data_orderbook_start': '2019-04-08T15:17:57.9165736Z', 'data_orderbook_end': '2019-09-01T02:57:08.8225151Z', 'data_symbols_count': 7, 'volume_1hrs_usd': 0, 'volume_1day_usd': 0, 'volume_1mth_usd': 0}\n",
            "{'exchange_id': 'COINRATE', 'website': 'https://coinrate.net/', 'name': 'Coinrate', 'data_start': '2019-10-01', 'data_end': '2020-03-20', 'data_quote_start': '2019-10-01T17:22:21.2092848Z', 'data_quote_end': '2020-03-20T19:29:57.6072267Z', 'data_orderbook_start': '2019-10-01T17:22:21.2092848Z', 'data_orderbook_end': '2020-03-20T19:29:57.6072267Z', 'data_symbols_count': 5, 'volume_1hrs_usd': 0, 'volume_1day_usd': 0, 'volume_1mth_usd': 0}\n",
            "{'exchange_id': 'DUEDEX', 'website': 'https://duedex.com/', 'name': 'DueDEX', 'data_start': '2020-01-09', 'data_end': '2021-08-01', 'data_quote_start': '2020-01-09T15:14:50.8135995Z', 'data_quote_end': '2021-08-01T09:00:00.2233333Z', 'data_orderbook_start': '2020-01-09T15:14:50.8135995Z', 'data_orderbook_end': '2020-08-05T14:37:10.6594873Z', 'data_trade_start': '2020-01-09T15:14:56.9880000Z', 'data_trade_end': '2021-08-01T09:00:02.8866667Z', 'data_symbols_count': 1, 'volume_1hrs_usd': 0, 'volume_1day_usd': 0, 'volume_1mth_usd': 0}\n",
            "{'exchange_id': 'MXC', 'website': 'https://www.mxc.com/', 'name': 'MXC', 'data_start': '2020-05-05', 'data_end': '2021-09-09', 'data_quote_start': '2020-05-05T00:00:00.1335099Z', 'data_quote_end': '2021-09-09T14:11:56.7420550Z', 'data_orderbook_start': '2020-05-05T00:00:00.1335099Z', 'data_orderbook_end': '2020-08-05T14:37:20.6587985Z', 'data_symbols_count': 1419, 'volume_1hrs_usd': 0, 'volume_1day_usd': 0, 'volume_1mth_usd': 0}\n",
            "{'exchange_id': 'NERAEXPRO', 'website': 'https://neraex.pro/', 'name': 'Neraex', 'data_start': '2019-10-01', 'data_end': '2019-11-26', 'data_quote_start': '2019-10-01T17:26:58.6632937Z', 'data_quote_end': '2019-11-26T10:07:52.1875815Z', 'data_orderbook_start': '2019-10-01T17:26:58.6632937Z', 'data_orderbook_end': '2019-11-26T10:07:52.1875815Z', 'data_trade_start': '2019-10-01T17:27:25.0000000Z', 'data_trade_end': '2019-11-26T10:07:50.0000000Z', 'data_symbols_count': 17, 'volume_1hrs_usd': 0, 'volume_1day_usd': 0, 'volume_1mth_usd': 0}\n",
            "{'exchange_id': 'DOBI', 'website': 'https://www.dobiexchange.com/', 'name': 'DOBI', 'data_start': '2019-08-28', 'data_end': '2020-07-17', 'data_quote_start': '2019-08-28T21:24:35.8550888Z', 'data_quote_end': '2020-07-17T02:06:48.0577514Z', 'data_orderbook_start': '2019-08-28T21:24:35.8550888Z', 'data_orderbook_end': '2020-07-17T02:06:48.0577514Z', 'data_trade_start': '2019-08-28T21:24:36.0000000Z', 'data_trade_end': '2020-07-16T23:22:49.0000000Z', 'data_symbols_count': 99, 'volume_1hrs_usd': 0, 'volume_1day_usd': 0, 'volume_1mth_usd': 0}\n",
            "{'exchange_id': 'CRYPTOMATE', 'website': 'https://cryptomate.co.uk/', 'name': 'Cryptomate', 'data_start': '2019-10-03', 'data_end': '2021-10-04', 'data_quote_start': '2019-10-03T16:48:07.4935476Z', 'data_quote_end': '2021-10-04T14:56:09.0988667Z', 'data_orderbook_start': '2019-10-03T16:48:07.4935476Z', 'data_orderbook_end': '2020-08-05T14:33:50.7922532Z', 'data_symbols_count': 34, 'volume_1hrs_usd': 0, 'volume_1day_usd': 0, 'volume_1mth_usd': 0}\n",
            "{'exchange_id': 'IDAX', 'website': 'https://www.idax.pro/', 'name': 'IDAX', 'data_start': '2019-02-03', 'data_end': '2020-05-29', 'data_quote_start': '2019-02-05T23:28:43.4514691Z', 'data_quote_end': '2020-05-29T22:56:36.7453273Z', 'data_orderbook_start': '2019-02-05T23:28:43.4514691Z', 'data_orderbook_end': '2020-05-29T22:56:36.7453273Z', 'data_trade_start': '2019-02-03T15:53:24.0000000Z', 'data_trade_end': '2019-04-17T15:03:49.5200000Z', 'data_symbols_count': 432, 'volume_1hrs_usd': 0, 'volume_1day_usd': 0, 'volume_1mth_usd': 0}\n",
            "{'exchange_id': 'IDEXETH', 'website': 'https://idex.io/', 'name': 'IDEX ETH', 'data_start': '2021-05-21', 'data_end': '2021-11-04', 'data_quote_start': '2021-05-21T16:52:45.1170000Z', 'data_quote_end': '2021-11-04T17:11:51.9510000Z', 'data_trade_start': '2021-06-02T20:51:47.6820000Z', 'data_trade_end': '2021-11-04T04:43:13.8520000Z', 'data_symbols_count': 161, 'volume_1hrs_usd': 0, 'volume_1day_usd': 227477334.77, 'volume_1mth_usd': 7277481114.49}\n",
            "{'exchange_id': 'BITSHARES', 'website': 'http://cryptofresh.com/', 'name': 'BitShares Asset Exchange', 'data_start': '2019-10-01', 'data_end': '2020-03-31', 'data_quote_start': '2019-10-01T17:20:06.6867229Z', 'data_quote_end': '2020-03-31T00:15:41.8515575Z', 'data_orderbook_start': '2019-10-01T17:20:06.6867229Z', 'data_orderbook_end': '2020-03-31T00:15:41.8515575Z', 'data_symbols_count': 541, 'volume_1hrs_usd': 0, 'volume_1day_usd': 0, 'volume_1mth_usd': 0}\n",
            "{'exchange_id': 'MODIAX', 'website': 'https://www.modiax.com/', 'name': 'MODIAX', 'data_start': '2018-10-24', 'data_end': '2021-03-29', 'data_quote_start': '2019-02-05T23:23:14.0000000Z', 'data_quote_end': '2021-03-29T14:59:29.0000000Z', 'data_orderbook_start': '2019-02-05T23:23:14.0000000Z', 'data_orderbook_end': '2020-08-05T11:54:40.0000000Z', 'data_trade_start': '2018-10-24T11:15:21.0000000Z', 'data_trade_end': '2021-03-20T19:30:49.0000000Z', 'data_symbols_count': 7, 'volume_1hrs_usd': 0, 'volume_1day_usd': 0, 'volume_1mth_usd': 0}\n",
            "{'exchange_id': 'KOINEKS', 'website': 'https://koineks.com/', 'name': 'Koineks', 'data_start': '2019-10-01', 'data_end': '2020-03-24', 'data_quote_start': '2019-10-01T17:25:57.0756373Z', 'data_quote_end': '2020-03-24T12:55:01.6822612Z', 'data_orderbook_start': '2019-10-01T17:25:57.0756373Z', 'data_orderbook_end': '2020-03-24T12:55:01.6822612Z', 'data_symbols_count': 18, 'volume_1hrs_usd': 0, 'volume_1day_usd': 0, 'volume_1mth_usd': 0}\n",
            "{'exchange_id': 'TOPBTC', 'website': 'https://topbtc.com/', 'name': 'TOPBTC', 'data_start': '2019-10-03', 'data_end': '2021-11-04', 'data_quote_start': '2019-10-03T16:59:06.3521131Z', 'data_quote_end': '2021-11-04T17:17:35.9545880Z', 'data_orderbook_start': '2019-10-03T16:59:06.3521131Z', 'data_orderbook_end': '2020-08-05T14:38:17.5113913Z', 'data_symbols_count': 72, 'volume_1hrs_usd': 0, 'volume_1day_usd': 0, 'volume_1mth_usd': 0}\n",
            "{'exchange_id': 'GM55', 'website': 'https://www.55.com/', 'name': '55 Global Markets', 'data_start': '2019-08-28', 'data_end': '2020-03-09', 'data_quote_start': '2019-10-01T17:24:48.7546688Z', 'data_quote_end': '2020-03-09T02:42:29.9170538Z', 'data_orderbook_start': '2019-10-01T17:24:48.7546688Z', 'data_orderbook_end': '2020-03-09T02:42:29.9170538Z', 'data_trade_start': '2019-08-28T23:41:02.2210000Z', 'data_trade_end': '2020-03-09T02:43:40.5170000Z', 'data_symbols_count': 53, 'volume_1hrs_usd': 0, 'volume_1day_usd': 0, 'volume_1mth_usd': 0}\n",
            "{'exchange_id': 'COINFIELD', 'website': 'https://www.coinfield.com/', 'name': 'CoinField', 'data_start': '2019-10-01', 'data_end': '2021-11-04', 'data_quote_start': '2019-10-01T15:07:29.7775558Z', 'data_quote_end': '2021-11-04T17:19:38.9707325Z', 'data_orderbook_start': '2019-10-01T15:07:29.7775558Z', 'data_orderbook_end': '2020-08-05T14:37:22.3889844Z', 'data_trade_start': '2019-10-01T15:07:42.0000000Z', 'data_trade_end': '2021-11-04T17:18:30.0000000Z', 'data_symbols_count': 84, 'volume_1hrs_usd': 1210984.19, 'volume_1day_usd': 36963517.5, 'volume_1mth_usd': 947145014.96}\n",
            "{'exchange_id': 'BTCEXCHANGE', 'website': 'https://www.btc-exchange.com/', 'name': 'BTC-exchange', 'data_start': '2020-05-05', 'data_end': '2021-11-04', 'data_quote_start': '2020-05-05T13:01:35.2866584Z', 'data_quote_end': '2021-11-04T17:12:34.1063122Z', 'data_orderbook_start': '2020-05-05T13:01:35.2866584Z', 'data_orderbook_end': '2020-08-05T14:37:06.6531791Z', 'data_trade_start': '2020-05-10T23:07:35.0000000Z', 'data_trade_end': '2021-11-04T15:47:22.0000000Z', 'data_symbols_count': 7, 'volume_1hrs_usd': 0, 'volume_1day_usd': 233169.42, 'volume_1mth_usd': 8042124.73}\n",
            "{'exchange_id': 'COINBENE', 'website': 'https://www.coinbene.com/', 'name': 'CoinBene', 'data_start': '2018-06-08', 'data_end': '2020-10-28', 'data_quote_start': '2018-11-02T12:29:50.6703027Z', 'data_quote_end': '2020-10-28T07:06:25.1203839Z', 'data_orderbook_start': '2018-11-02T12:29:50.6703027Z', 'data_orderbook_end': '2020-08-05T14:37:28.9168904Z', 'data_trade_start': '2018-06-08T13:40:11.0000000Z', 'data_trade_end': '2020-10-28T07:05:00.0000000Z', 'data_symbols_count': 424, 'volume_1hrs_usd': 0, 'volume_1day_usd': 0, 'volume_1mth_usd': 0}\n",
            "{'exchange_id': 'CREX24', 'website': 'https://crex24.com/', 'name': 'Crex24', 'data_start': '2019-04-08', 'data_end': '2021-11-04', 'data_quote_start': '2019-04-08T15:17:55.0957550Z', 'data_quote_end': '2021-11-04T17:19:37.0903675Z', 'data_orderbook_start': '2019-04-08T15:17:55.0957550Z', 'data_orderbook_end': '2020-08-05T14:37:27.4505859Z', 'data_trade_start': '2019-04-08T15:19:22.0000000Z', 'data_trade_end': '2021-11-04T17:11:09.0000000Z', 'data_symbols_count': 1744, 'volume_1hrs_usd': 205324.66, 'volume_1day_usd': 156478438.22, 'volume_1mth_usd': 5745471604.06}\n",
            "{'exchange_id': 'BITHUMBPRO', 'website': 'https://www.bithumb.pro/', 'name': 'Bithumb Global', 'data_start': '2019-10-01', 'data_end': '2021-11-04', 'data_quote_start': '2019-10-01T17:19:26.0681083Z', 'data_quote_end': '2021-11-04T17:19:03.0834103Z', 'data_orderbook_start': '2019-10-01T17:19:26.0681083Z', 'data_orderbook_end': '2020-08-05T14:37:06.8527754Z', 'data_trade_start': '2019-10-01T17:19:26.0000000Z', 'data_trade_end': '2021-11-04T17:18:38.0000000Z', 'data_symbols_count': 430, 'volume_1hrs_usd': 12350099.1, 'volume_1day_usd': 330622917.76, 'volume_1mth_usd': 9327922743.14}\n",
            "{'exchange_id': 'COINSBANK', 'website': 'https://coinsbank.com/', 'name': 'CoinsBank', 'data_start': '2019-10-01', 'data_end': '2021-11-03', 'data_quote_start': '2019-10-01T17:22:29.5082903Z', 'data_quote_end': '2021-11-03T21:10:18.0531115Z', 'data_orderbook_start': '2019-10-01T17:22:29.5082903Z', 'data_orderbook_end': '2020-08-05T14:37:50.2732269Z', 'data_trade_start': '2019-10-01T17:22:34.0000000Z', 'data_trade_end': '2021-10-29T08:02:55.0000000Z', 'data_symbols_count': 12, 'volume_1hrs_usd': 0, 'volume_1day_usd': 0, 'volume_1mth_usd': 1080.08}\n",
            "{'exchange_id': 'CRYPTOBRIDGE', 'website': 'https://crypto-bridge.org/', 'name': 'CryptoBridge', 'data_start': '2019-04-08', 'data_end': '2019-12-15', 'data_quote_start': '2019-04-08T15:50:11.1032719Z', 'data_quote_end': '2019-12-15T23:59:19.6170348Z', 'data_orderbook_start': '2019-04-08T15:50:11.1032719Z', 'data_orderbook_end': '2019-12-15T23:59:19.6170348Z', 'data_symbols_count': 605, 'volume_1hrs_usd': 0, 'volume_1day_usd': 0, 'volume_1mth_usd': 0}\n",
            "{'exchange_id': 'CITEX', 'website': 'https://www.citex.co.kr/', 'name': 'CITEX', 'data_start': '2020-05-05', 'data_end': '2021-04-06', 'data_quote_start': '2020-05-05T17:04:32.3132572Z', 'data_quote_end': '2021-04-06T06:59:59.2480904Z', 'data_orderbook_start': '2020-05-05T17:04:32.3132572Z', 'data_orderbook_end': '2020-08-05T10:09:58.3303891Z', 'data_trade_start': '2020-05-05T17:04:38.2630000Z', 'data_trade_end': '2021-04-06T06:58:41.0830000Z', 'data_symbols_count': 16, 'volume_1hrs_usd': 0, 'volume_1day_usd': 0, 'volume_1mth_usd': 0}\n",
            "{'exchange_id': 'INDOEX', 'website': 'https://international.indoex.io/', 'name': 'IndoEx', 'data_start': '2020-05-05', 'data_end': '2021-11-04', 'data_quote_start': '2020-05-05T00:00:10.1717932Z', 'data_quote_end': '2021-11-04T17:18:59.9561154Z', 'data_orderbook_start': '2020-05-05T00:00:10.1717932Z', 'data_orderbook_end': '2020-08-05T14:37:15.1681033Z', 'data_trade_start': '2020-05-05T13:21:04.0000000Z', 'data_trade_end': '2021-11-04T17:12:13.0000000Z', 'data_symbols_count': 3166, 'volume_1hrs_usd': 18333388.39, 'volume_1day_usd': 1150391010002.16, 'volume_1mth_usd': 1717431891711801.8}\n",
            "{'exchange_id': 'HBDM', 'website': 'https://www.hbdm.com/', 'name': 'Huobi DM', 'data_start': '2019-07-29', 'data_end': '2021-11-04', 'data_quote_start': '2019-07-29T23:14:19.8635260Z', 'data_quote_end': '2021-11-04T17:19:17.9920719Z', 'data_orderbook_start': '2019-07-29T23:14:19.8635260Z', 'data_orderbook_end': '2020-08-05T14:37:20.2915807Z', 'data_trade_start': '2019-07-29T23:14:20.0670000Z', 'data_trade_end': '2021-11-04T17:18:58.0760000Z', 'data_symbols_count': 1378, 'volume_1hrs_usd': 1403090246608.97, 'volume_1day_usd': 46322855146909.52, 'volume_1mth_usd': 2298695287641985.0}\n",
            "{'exchange_id': 'LBANK', 'website': 'https://www.lbank.info/', 'name': 'LBank', 'data_start': '2018-08-26', 'data_end': '2021-11-04', 'data_quote_start': '2019-02-05T23:23:14.7624695Z', 'data_quote_end': '2021-11-04T17:19:12.1951851Z', 'data_orderbook_start': '2019-02-05T23:23:14.7624695Z', 'data_orderbook_end': '2020-08-05T14:37:07.4780846Z', 'data_trade_start': '2018-08-26T14:38:37.4660000Z', 'data_trade_end': '2021-11-04T16:57:15.8170000Z', 'data_symbols_count': 1046, 'volume_1hrs_usd': 108.04, 'volume_1day_usd': 112178.19, 'volume_1mth_usd': 220439937527.74}\n",
            "{'exchange_id': 'ZB', 'website': 'https://www.zb.com/', 'name': 'ZB', 'data_start': '2018-12-29', 'data_end': '2020-09-21', 'data_quote_start': '2019-02-19T17:05:16.1489961Z', 'data_quote_end': '2020-09-16T19:55:55.2073559Z', 'data_orderbook_start': '2019-02-19T17:05:16.1489961Z', 'data_orderbook_end': '2020-08-05T14:37:07.0698949Z', 'data_trade_start': '2018-12-29T16:50:07.0000000Z', 'data_trade_end': '2020-09-21T10:53:11.0000000Z', 'data_symbols_count': 297, 'volume_1hrs_usd': 0, 'volume_1day_usd': 0, 'volume_1mth_usd': 0}\n",
            "{'exchange_id': 'BITBNS', 'website': 'https://bitbns.com/', 'name': 'Bitbns', 'data_start': '2019-10-01', 'data_end': '2021-11-04', 'data_quote_start': '2019-10-01T17:19:09.0483960Z', 'data_quote_end': '2021-11-04T17:16:10.7694101Z', 'data_orderbook_start': '2019-10-01T17:19:09.0483960Z', 'data_orderbook_end': '2020-08-05T14:35:36.1770418Z', 'data_symbols_count': 32, 'volume_1hrs_usd': 0, 'volume_1day_usd': 0, 'volume_1mth_usd': 0}\n",
            "{'exchange_id': 'CRYPTOMKT', 'website': 'https://www.cryptomkt.com/', 'name': 'CryptoMarket', 'data_start': '2019-04-08', 'data_end': '2021-09-11', 'data_quote_start': '2019-04-08T15:18:05.5157450Z', 'data_quote_end': '2021-09-11T05:08:36.8699192Z', 'data_orderbook_start': '2019-04-08T15:18:05.5157450Z', 'data_orderbook_end': '2020-08-05T14:37:36.7935583Z', 'data_trade_start': '2019-04-08T15:22:54.8750640Z', 'data_trade_end': '2021-09-11T04:59:59.0000000Z', 'data_symbols_count': 20, 'volume_1hrs_usd': 0, 'volume_1day_usd': 0, 'volume_1mth_usd': 0}\n",
            "{'exchange_id': 'CASHIEREST', 'website': 'https://www.cashierest.com/', 'name': 'Cashierest', 'data_start': '2019-02-08', 'data_end': '2020-03-12', 'data_quote_start': '2019-02-08T07:59:20.3268409Z', 'data_quote_end': '2020-03-12T06:14:51.6178446Z', 'data_orderbook_start': '2019-02-08T07:59:20.3268409Z', 'data_orderbook_end': '2020-03-12T06:14:51.6178446Z', 'data_symbols_count': 150, 'volume_1hrs_usd': 0, 'volume_1day_usd': 0, 'volume_1mth_usd': 0}\n",
            "{'exchange_id': 'CPDAX', 'website': 'https://www.cpdax.com/', 'name': 'CPDAX', 'data_start': '2019-10-03', 'data_end': '2020-11-30', 'data_quote_start': '2019-10-03T16:47:47.1334736Z', 'data_quote_end': '2020-11-30T05:54:15.7484829Z', 'data_orderbook_start': '2019-10-03T16:47:47.1334736Z', 'data_orderbook_end': '2020-08-05T14:37:51.9173186Z', 'data_trade_start': '2019-10-03T04:17:57.0000000Z', 'data_trade_end': '2020-11-29T22:19:52.0000000Z', 'data_symbols_count': 35, 'volume_1hrs_usd': 0, 'volume_1day_usd': 0, 'volume_1mth_usd': 0}\n",
            "{'exchange_id': 'COINPLACE', 'website': 'https://coinplace.pro/', 'name': 'CoinPlace', 'data_start': '2019-10-01', 'data_end': '2020-03-19', 'data_quote_start': '2019-10-01T17:22:11.6637319Z', 'data_quote_end': '2020-03-19T16:08:07.1019022Z', 'data_orderbook_start': '2019-10-01T17:22:11.6637319Z', 'data_orderbook_end': '2020-03-19T16:08:07.1019022Z', 'data_symbols_count': 55, 'volume_1hrs_usd': 0, 'volume_1day_usd': 0, 'volume_1mth_usd': 0}\n",
            "{'exchange_id': 'LITEBIT', 'website': 'https://www.litebit.eu/', 'name': 'LiteBit.eu', 'data_start': '2019-10-01', 'data_end': '2021-10-29', 'data_quote_start': '2019-10-01T17:26:19.9865465Z', 'data_quote_end': '2021-10-29T12:06:32.8135073Z', 'data_orderbook_start': '2019-10-01T17:26:19.9865465Z', 'data_orderbook_end': '2020-08-05T14:38:06.5604509Z', 'data_symbols_count': 66, 'volume_1hrs_usd': 0, 'volume_1day_usd': 0, 'volume_1mth_usd': 0}\n",
            "{'exchange_id': 'BITPANDAPRO', 'website': 'https://www.bitpanda.com/en/pro', 'name': 'Bitpanda Pro', 'data_start': '2020-05-05', 'data_end': '2021-11-04', 'data_quote_start': '2020-05-05T13:00:48.1306613Z', 'data_quote_end': '2021-11-04T17:18:00.0554711Z', 'data_orderbook_start': '2020-05-05T13:00:48.1306613Z', 'data_orderbook_end': '2020-08-05T14:37:06.7437058Z', 'data_trade_start': '2021-01-27T00:04:23.7680000Z', 'data_trade_end': '2021-11-04T17:15:46.0489270Z', 'data_symbols_count': 29, 'volume_1hrs_usd': 208476.9, 'volume_1day_usd': 14322994.93, 'volume_1mth_usd': 268901088.49}\n",
            "{'exchange_id': 'WAZIRX', 'website': 'https://wazirx.com/', 'name': 'WazirX', 'data_start': '2018-07-06', 'data_end': '2021-11-04', 'data_quote_start': '2019-10-01T17:30:04.4325761Z', 'data_quote_end': '2021-11-04T17:19:39.1901062Z', 'data_orderbook_start': '2019-10-01T17:30:04.4325761Z', 'data_orderbook_end': '2020-08-05T14:37:31.4164264Z', 'data_trade_start': '2018-07-06T08:56:24.0000000Z', 'data_trade_end': '2021-11-04T11:48:19.0000000Z', 'data_symbols_count': 467, 'volume_1hrs_usd': 0, 'volume_1day_usd': 39721964.61, 'volume_1mth_usd': 1270166315.66}\n",
            "{'exchange_id': 'CRYPTONEX', 'website': 'https://cryptonex.org/', 'name': 'Cryptonex', 'data_start': '2019-10-01', 'data_end': '2021-11-04', 'data_quote_start': '2019-10-01T17:40:30.8965882Z', 'data_quote_end': '2021-11-04T17:18:59.4977627Z', 'data_orderbook_start': '2019-10-01T17:40:30.8965882Z', 'data_orderbook_end': '2020-08-05T14:37:36.5297879Z', 'data_symbols_count': 20, 'volume_1hrs_usd': 0, 'volume_1day_usd': 0, 'volume_1mth_usd': 0}\n",
            "{'exchange_id': 'DDEX', 'website': 'https://ddex.io/', 'name': 'DDEX', 'data_start': '2019-01-22', 'data_end': '2021-10-22', 'data_quote_start': '2019-01-22T20:19:06.9087747Z', 'data_quote_end': '2021-10-22T00:09:45.2895262Z', 'data_orderbook_start': '2019-01-22T20:19:06.9087747Z', 'data_orderbook_end': '2020-08-05T14:37:46.3814907Z', 'data_trade_start': '2020-05-05T13:18:46.0000000Z', 'data_trade_end': '2021-04-05T06:10:34.0000000Z', 'data_symbols_count': 415, 'volume_1hrs_usd': 0, 'volume_1day_usd': 0, 'volume_1mth_usd': 0}\n",
            "{'exchange_id': 'RADARRELAY', 'website': 'https://radarrelay.com/', 'name': 'Radar Relay', 'data_start': '2019-10-01', 'data_end': '2020-01-06', 'data_quote_start': '2019-10-01T17:27:42.1386007Z', 'data_quote_end': '2020-01-06T17:42:11.8769664Z', 'data_orderbook_start': '2019-10-01T17:27:42.1386007Z', 'data_orderbook_end': '2020-01-06T17:42:11.8769664Z', 'data_symbols_count': 50, 'volume_1hrs_usd': 0, 'volume_1day_usd': 0, 'volume_1mth_usd': 0}\n",
            "{'exchange_id': 'BTCALPHA', 'website': 'https://btc-alpha.com/', 'name': 'BTC-Alpha', 'data_start': '2018-02-27', 'data_end': '2021-11-02', 'data_quote_start': '2018-02-27T00:50:55.7520000Z', 'data_quote_end': '2021-11-02T21:01:58.4630000Z', 'data_orderbook_start': '2019-04-08T15:17:56.2740549Z', 'data_orderbook_end': '2020-08-05T14:37:35.6667658Z', 'data_trade_start': '2018-06-20T14:22:32.4410000Z', 'data_trade_end': '2021-11-02T21:26:01.9950000Z', 'data_symbols_count': 312, 'volume_1hrs_usd': 0, 'volume_1day_usd': 0, 'volume_1mth_usd': 16420443266.31}\n",
            "{'exchange_id': 'VINDAX', 'website': 'https://vindax.com/', 'name': 'VinDAX', 'data_start': '2019-08-05', 'data_end': '2021-11-04', 'data_quote_start': '2019-10-14T22:47:16.7528901Z', 'data_quote_end': '2021-11-04T17:18:49.1503466Z', 'data_orderbook_start': '2019-10-14T22:47:16.7528901Z', 'data_orderbook_end': '2020-08-05T14:27:20.9232176Z', 'data_trade_start': '2019-08-05T11:13:36.0000000Z', 'data_trade_end': '2021-08-01T09:00:02.8866667Z', 'data_symbols_count': 1634, 'volume_1hrs_usd': 0, 'volume_1day_usd': 0, 'volume_1mth_usd': 0}\n",
            "{'exchange_id': 'COINHUB', 'website': 'https://coinhub.io/', 'name': 'Coinhub', 'data_start': '2018-11-29', 'data_end': '2020-09-09', 'data_quote_start': '2019-04-18T12:50:27.9351772Z', 'data_quote_end': '2020-09-09T21:11:33.1786992Z', 'data_orderbook_start': '2019-04-18T12:50:27.9351772Z', 'data_orderbook_end': '2020-07-28T14:46:15.4604711Z', 'data_trade_start': '2018-11-29T15:56:57.0000000Z', 'data_trade_end': '2020-09-05T17:11:27.0000000Z', 'data_symbols_count': 36, 'volume_1hrs_usd': 0, 'volume_1day_usd': 0, 'volume_1mth_usd': 0}\n",
            "{'exchange_id': 'FTXUS', 'website': 'https://ftx.us/', 'name': 'FTX US', 'data_start': '2021-08-27', 'data_end': '2021-11-04', 'data_quote_start': '2021-08-27T12:23:08.9258617Z', 'data_quote_end': '2021-11-04T17:19:13.8170244Z', 'data_trade_start': '2021-08-27T12:23:11.2995670Z', 'data_trade_end': '2021-11-04T17:17:29.2249710Z', 'data_symbols_count': 59, 'volume_1hrs_usd': 8913953.92, 'volume_1day_usd': 340272464.82, 'volume_1mth_usd': 12404365819.85}\n",
            "{'exchange_id': 'BYBIT', 'website': 'https://www.bybit.com/', 'name': 'Bybit', 'data_start': '2019-10-01', 'data_end': '2021-11-04', 'data_quote_start': '2020-01-01T02:33:23.6004701Z', 'data_quote_end': '2021-11-04T17:19:38.9859120Z', 'data_orderbook_start': '2020-01-01T02:33:23.6004701Z', 'data_orderbook_end': '2020-08-05T14:37:25.1924909Z', 'data_trade_start': '2019-10-01T00:00:00.7190000Z', 'data_trade_end': '2021-11-04T17:18:53.0420000Z', 'data_symbols_count': 56, 'volume_1hrs_usd': 247767730.76, 'volume_1day_usd': 8476786923.76, 'volume_1mth_usd': 261138119172.62}\n",
            "{'exchange_id': 'STEX', 'website': 'https://www.stex.com/', 'name': 'STEX', 'data_start': '2019-01-27', 'data_end': '2020-02-13', 'data_quote_start': '2019-01-28T11:54:44.3898047Z', 'data_quote_end': '2020-02-13T09:35:17.5065012Z', 'data_orderbook_start': '2019-01-28T11:54:44.3898047Z', 'data_orderbook_end': '2020-02-13T09:35:17.5065012Z', 'data_trade_start': '2019-01-27T18:48:16.0000000Z', 'data_trade_end': '2020-02-13T09:34:29.0000000Z', 'data_symbols_count': 617, 'volume_1hrs_usd': 0, 'volume_1day_usd': 0, 'volume_1mth_usd': 0}\n",
            "{'exchange_id': 'BTSE', 'website': 'https://www.btse.com/', 'name': 'BTSE', 'data_start': '2020-05-15', 'data_end': '2021-11-04', 'data_quote_start': '2020-05-15T00:21:49.5017120Z', 'data_quote_end': '2021-11-04T17:19:40.4110759Z', 'data_orderbook_start': '2020-05-15T00:21:49.5017120Z', 'data_orderbook_end': '2020-08-05T14:37:15.0747649Z', 'data_symbols_count': 1069, 'volume_1hrs_usd': 0, 'volume_1day_usd': 0, 'volume_1mth_usd': 0}\n",
            "{'exchange_id': 'COINUT', 'website': 'https://coinut.com/', 'name': 'Coinut', 'data_start': '2019-04-23', 'data_end': '2021-11-04', 'data_quote_start': '2019-04-23T10:02:37.6631490Z', 'data_quote_end': '2021-11-04T17:14:17.9272048Z', 'data_orderbook_start': '2019-04-23T10:02:37.6631490Z', 'data_orderbook_end': '2020-08-05T14:34:50.6334460Z', 'data_trade_start': '2019-04-25T01:25:06.8750000Z', 'data_trade_end': '2021-11-03T04:55:00.5920000Z', 'data_symbols_count': 41, 'volume_1hrs_usd': 0, 'volume_1day_usd': 0, 'volume_1mth_usd': 4742.76}\n",
            "{'exchange_id': 'COINJAR', 'website': 'https://www.coinjar.com/', 'name': 'CoinJar', 'data_start': '2019-04-08', 'data_end': '2021-11-04', 'data_quote_start': '2019-04-08T15:33:59.7240510Z', 'data_quote_end': '2021-11-04T17:19:37.0105184Z', 'data_orderbook_start': '2019-04-08T15:33:59.7240510Z', 'data_orderbook_end': '2020-08-05T14:37:05.3051604Z', 'data_trade_start': '2019-04-09T09:58:50.9245670Z', 'data_trade_end': '2019-06-22T12:45:58.5429490Z', 'data_symbols_count': 127, 'volume_1hrs_usd': 0, 'volume_1day_usd': 0, 'volume_1mth_usd': 0}\n",
            "{'exchange_id': 'DEXTRADE', 'website': 'https://dex-trade.com/', 'name': 'Dex-Trade', 'data_start': '2020-05-05', 'data_end': '2021-11-04', 'data_quote_start': '2020-05-05T17:04:57.2696186Z', 'data_quote_end': '2021-11-04T17:19:40.3823901Z', 'data_orderbook_start': '2020-05-05T17:04:57.2696186Z', 'data_orderbook_end': '2020-08-05T14:37:56.0859712Z', 'data_symbols_count': 548, 'volume_1hrs_usd': 0, 'volume_1day_usd': 0, 'volume_1mth_usd': 0}\n",
            "{'exchange_id': 'CHAOEX', 'website': 'https://www.chaoex.com', 'name': 'CHAOEX', 'data_start': '2019-06-03', 'data_end': '2020-09-05', 'data_quote_start': '2019-10-01T17:21:35.3589807Z', 'data_quote_end': '2020-09-05T22:55:32.9797584Z', 'data_orderbook_start': '2019-10-01T17:21:35.3589807Z', 'data_orderbook_end': '2020-08-05T11:47:36.3935768Z', 'data_trade_start': '2019-06-03T05:55:23.0000000Z', 'data_trade_end': '2020-09-04T02:09:10.2060000Z', 'data_symbols_count': 118, 'volume_1hrs_usd': 0, 'volume_1day_usd': 0, 'volume_1mth_usd': 0}\n",
            "{'exchange_id': 'BINANCEFTS', 'website': 'https://www.binance.com/', 'name': 'Binance Futures (USDT/dapi)', 'data_start': '2019-10-07', 'data_end': '2021-11-04', 'data_quote_start': '2019-10-07T08:45:23.0951195Z', 'data_quote_end': '2021-11-04T17:19:33.0490000Z', 'data_orderbook_start': '2019-10-07T08:45:23.0951195Z', 'data_orderbook_end': '2020-08-05T14:37:51.3000000Z', 'data_trade_start': '2019-10-07T08:30:21.2620000Z', 'data_trade_end': '2021-11-04T17:18:54.0860000Z', 'data_symbols_count': 153, 'volume_1hrs_usd': 2093435117.39, 'volume_1day_usd': 59994937177.78, 'volume_1mth_usd': 1867640586140.03}\n",
            "{'exchange_id': 'COINTIGER', 'website': 'https://www.cointiger.com/', 'name': 'CoinTiger', 'data_start': '2018-11-20', 'data_end': '2020-07-28', 'data_quote_start': '2018-11-20T15:24:51.7878874Z', 'data_quote_end': '2020-07-28T15:11:31.8052057Z', 'data_orderbook_start': '2018-11-20T15:24:51.7878874Z', 'data_orderbook_end': '2020-07-28T15:11:31.8052057Z', 'data_trade_start': '2018-11-20T15:24:51.0020000Z', 'data_trade_end': '2020-07-28T15:12:34.0000000Z', 'data_symbols_count': 343, 'volume_1hrs_usd': 0, 'volume_1day_usd': 0, 'volume_1mth_usd': 0}\n",
            "{'exchange_id': 'BITCOINTRADE', 'website': 'https://www.bitcointrade.com.br/', 'name': 'BitcoinTrade', 'data_start': '2019-10-01', 'data_end': '2021-08-01', 'data_quote_start': '2019-10-01T17:19:15.5446323Z', 'data_quote_end': '2021-08-01T09:00:00.2233333Z', 'data_orderbook_start': '2019-10-01T17:19:15.5446323Z', 'data_orderbook_end': '2020-08-05T14:37:55.1169844Z', 'data_trade_start': '2019-10-02T02:28:46.7200000Z', 'data_trade_end': '2021-08-01T09:00:02.8866667Z', 'data_symbols_count': 5, 'volume_1hrs_usd': 0, 'volume_1day_usd': 0, 'volume_1mth_usd': 0}\n",
            "{'exchange_id': 'BEQUANT', 'website': 'https://bequant.io/', 'name': 'BEQUANT', 'data_start': '2021-02-18', 'data_end': '2021-11-04', 'data_quote_start': '2021-02-18T15:50:00.4558754Z', 'data_quote_end': '2021-11-04T17:19:40.6590961Z', 'data_trade_start': '2021-02-18T15:49:59.6910000Z', 'data_trade_end': '2021-11-04T17:18:17.1740000Z', 'data_symbols_count': 204, 'volume_1hrs_usd': 141122502.48, 'volume_1day_usd': 4038779077.93, 'volume_1mth_usd': 111694520596.82}\n",
            "{'exchange_id': 'DRAGONEX', 'website': 'https://dragonex.io/', 'name': 'DragonEX', 'data_start': '2019-04-23', 'data_end': '2021-11-04', 'data_quote_start': '2019-04-23T10:04:29.5913126Z', 'data_quote_end': '2021-11-04T17:19:24.1127027Z', 'data_orderbook_start': '2019-04-23T10:04:29.5913126Z', 'data_orderbook_end': '2020-08-05T14:37:59.6049752Z', 'data_trade_start': '2019-04-23T10:04:29.4750000Z', 'data_trade_end': '2021-11-04T17:18:44.6180000Z', 'data_symbols_count': 197, 'volume_1hrs_usd': 47462352.71, 'volume_1day_usd': 1085807030.67, 'volume_1mth_usd': 31333399698.15}\n",
            "{'exchange_id': 'HANBITCO', 'website': 'https://www.hanbitco.com/', 'name': 'Hanbitco', 'data_start': '2019-10-01', 'data_end': '2021-03-15', 'data_quote_start': '2019-10-01T17:24:58.8944166Z', 'data_quote_end': '2021-03-15T13:45:16.9568093Z', 'data_orderbook_start': '2019-10-01T17:24:58.8944166Z', 'data_orderbook_end': '2020-08-05T14:37:17.5726521Z', 'data_symbols_count': 13, 'volume_1hrs_usd': 0, 'volume_1day_usd': 0, 'volume_1mth_usd': 0}\n",
            "{'exchange_id': 'BITEXLA', 'website': 'https://bitex.la/', 'name': 'Bitex.la', 'data_start': '2019-04-08', 'data_end': '2021-08-01', 'data_quote_start': '2019-04-08T15:29:16.9647231Z', 'data_quote_end': '2021-08-01T09:00:00.2233333Z', 'data_orderbook_start': '2019-04-08T15:29:16.9647231Z', 'data_orderbook_end': '2020-08-05T14:37:07.8179075Z', 'data_trade_start': '2019-04-08T17:16:25.0000000Z', 'data_trade_end': '2021-08-01T09:00:02.8866667Z', 'data_symbols_count': 44, 'volume_1hrs_usd': 0, 'volume_1day_usd': 0, 'volume_1mth_usd': 0}\n",
            "{'exchange_id': 'BIGONE', 'website': 'https://big.one/', 'name': 'BigONE', 'data_start': '2018-09-20', 'data_end': '2021-11-04', 'data_quote_start': '2019-04-08T15:28:53.6306458Z', 'data_quote_end': '2021-11-04T17:19:40.8211909Z', 'data_orderbook_start': '2019-04-08T15:28:53.6306458Z', 'data_orderbook_end': '2020-08-05T14:37:49.0286205Z', 'data_trade_start': '2018-09-20T13:55:53.0000000Z', 'data_trade_end': '2021-11-04T17:18:39.6630000Z', 'data_symbols_count': 529, 'volume_1hrs_usd': 7997386353.68, 'volume_1day_usd': 165516204867.84, 'volume_1mth_usd': 2526257871369.99}\n",
            "{'exchange_id': 'XBTCE', 'website': 'https://www.xbtce.com/', 'name': 'xBTCe', 'data_start': '2017-03-18', 'data_end': '2021-11-04', 'data_quote_start': '2017-03-18T22:49:12.8140463Z', 'data_quote_end': '2021-11-04T17:19:36.7563696Z', 'data_orderbook_start': '2017-03-18T22:49:12.8140463Z', 'data_orderbook_end': '2020-08-05T14:37:51.9909820Z', 'data_symbols_count': 119, 'volume_1hrs_usd': 0, 'volume_1day_usd': 0, 'volume_1mth_usd': 0}\n",
            "{'exchange_id': 'CATEX', 'website': 'https://www.catex.io/', 'name': 'Cat.Ex', 'data_start': '2019-07-13', 'data_end': '2021-11-04', 'data_quote_start': '2019-10-01T17:21:04.4309552Z', 'data_quote_end': '2021-11-04T17:19:18.6830156Z', 'data_orderbook_start': '2019-10-01T17:21:04.4309552Z', 'data_orderbook_end': '2020-08-05T14:37:29.3958869Z', 'data_trade_start': '2019-07-13T19:31:59.0000000Z', 'data_trade_end': '2021-11-04T17:17:57.0000000Z', 'data_symbols_count': 402, 'volume_1hrs_usd': 3689469.34, 'volume_1day_usd': 115814105.86, 'volume_1mth_usd': 222847372127.07}\n",
            "{'exchange_id': 'ZG', 'website': 'https://www.zg.com/', 'name': 'ZG.com', 'data_start': '2020-05-05', 'data_end': '2020-05-14', 'data_quote_start': '2020-05-05T13:17:56.0132441Z', 'data_quote_end': '2020-05-14T01:59:34.7596618Z', 'data_orderbook_start': '2020-05-05T13:17:56.0132441Z', 'data_orderbook_end': '2020-05-14T01:59:34.7596618Z', 'data_trade_start': '2020-05-05T13:18:49.0000000Z', 'data_trade_end': '2020-05-14T01:59:54.0000000Z', 'data_symbols_count': 243, 'volume_1hrs_usd': 0, 'volume_1day_usd': 0, 'volume_1mth_usd': 0}\n",
            "{'exchange_id': 'BASEFEX', 'website': 'https://www.basefex.com/', 'name': 'BaseFEX', 'data_start': '2020-05-05', 'data_end': '2021-11-04', 'data_quote_start': '2020-05-05T00:00:00.3622353Z', 'data_quote_end': '2021-11-04T17:15:33.5033626Z', 'data_orderbook_start': '2020-05-05T00:00:00.3622353Z', 'data_orderbook_end': '2020-08-05T14:37:31.4899671Z', 'data_trade_start': '2020-05-05T13:00:52.7790000Z', 'data_trade_end': '2021-11-04T17:18:28.4490000Z', 'data_symbols_count': 12, 'volume_1hrs_usd': 22637999014.61, 'volume_1day_usd': 722822140461.71, 'volume_1mth_usd': 20480043134111.96}\n",
            "{'exchange_id': 'PROBIT', 'website': 'https://www.probit.com', 'name': 'ProBit Exchange', 'data_start': '2020-01-01', 'data_end': '2021-11-04', 'data_quote_start': '2020-01-01T02:45:08.1321816Z', 'data_quote_end': '2021-11-04T17:18:16.0860378Z', 'data_orderbook_start': '2020-01-01T02:45:08.1321816Z', 'data_orderbook_end': '2020-08-05T11:56:09.0105373Z', 'data_symbols_count': 1551, 'volume_1hrs_usd': 0, 'volume_1day_usd': 0, 'volume_1mth_usd': 0}\n",
            "{'exchange_id': 'GOPAXKR', 'website': 'https://www.gopax.co.kr/', 'name': 'GOPAX Korea', 'data_start': '2019-02-22', 'data_end': '2021-11-04', 'data_quote_start': '2019-06-15T19:57:09.0995140Z', 'data_quote_end': '2021-11-04T17:19:33.6175670Z', 'data_orderbook_start': '2019-06-15T19:57:09.0995140Z', 'data_orderbook_end': '2020-08-05T14:37:53.9579664Z', 'data_trade_start': '2019-02-22T17:10:59.0000000Z', 'data_trade_end': '2021-11-04T17:18:31.0000000Z', 'data_symbols_count': 239, 'volume_1hrs_usd': 212884.21, 'volume_1day_usd': 8173040.41, 'volume_1mth_usd': 192544911.94}\n",
            "{'exchange_id': 'HUOBIRU', 'website': 'http://huobi.com.ru/', 'name': 'Huobi Russia', 'data_start': '2020-07-28', 'data_end': '2020-12-11', 'data_quote_start': '2020-07-28T15:17:33.0948743Z', 'data_quote_end': '2020-12-11T11:01:42.5251976Z', 'data_orderbook_start': '2020-07-28T15:17:33.0948743Z', 'data_orderbook_end': '2020-08-05T14:37:54.0501603Z', 'data_trade_start': '2020-07-28T15:17:33.3710000Z', 'data_trade_end': '2020-12-11T11:01:31.7520000Z', 'data_symbols_count': 468, 'volume_1hrs_usd': 0, 'volume_1day_usd': 0, 'volume_1mth_usd': 0}\n",
            "{'exchange_id': 'DCOIN', 'website': 'https://www.dcoin.com/', 'name': 'Dcoin', 'data_start': '2020-05-05', 'data_end': '2021-11-04', 'data_quote_start': '2020-05-05T13:01:34.7531775Z', 'data_quote_end': '2021-11-04T17:19:38.2196595Z', 'data_orderbook_start': '2020-05-05T13:01:34.7531775Z', 'data_orderbook_end': '2020-08-05T14:37:40.7389813Z', 'data_trade_start': '2020-05-05T13:01:33.8730000Z', 'data_trade_end': '2021-11-04T17:18:59.4840000Z', 'data_symbols_count': 289, 'volume_1hrs_usd': 43317891.67, 'volume_1day_usd': 47336982235.85, 'volume_1mth_usd': 1425141815705.75}\n",
            "{'exchange_id': 'LOCALTRADE', 'website': 'https://localtrade.cc/', 'name': 'LocalTrade', 'data_start': '2019-10-01', 'data_end': '2021-04-29', 'data_quote_start': '2019-10-01T17:43:34.3583744Z', 'data_quote_end': '2021-04-29T09:22:24.4932765Z', 'data_orderbook_start': '2019-10-01T17:43:34.3583744Z', 'data_orderbook_end': '2020-08-05T14:37:38.9118373Z', 'data_symbols_count': 138, 'volume_1hrs_usd': 0, 'volume_1day_usd': 0, 'volume_1mth_usd': 0}\n",
            "{'exchange_id': 'FEX', 'website': 'http://fexpro.net/', 'name': 'FEX', 'data_start': '2020-05-05', 'data_end': '2021-03-23', 'data_quote_start': '2020-05-05T00:03:05.2148611Z', 'data_quote_end': '2021-03-23T23:29:29.5061008Z', 'data_orderbook_start': '2020-05-05T00:03:05.2148611Z', 'data_orderbook_end': '2020-08-05T14:37:48.4597666Z', 'data_trade_start': '2020-05-14T11:56:03.0000000Z', 'data_trade_end': '2021-02-24T16:00:31.0000000Z', 'data_symbols_count': 68, 'volume_1hrs_usd': 0, 'volume_1day_usd': 0, 'volume_1mth_usd': 0}\n",
            "{'exchange_id': 'AIDOSMARKET', 'website': 'https://aidosmarket.com/', 'name': 'AidosMarket', 'data_start': '2019-04-08', 'data_end': '2021-02-27', 'data_quote_start': '2019-04-08T15:49:37.4273648Z', 'data_quote_end': '2021-02-27T13:57:10.2994597Z', 'data_orderbook_start': '2019-04-08T15:49:37.4273648Z', 'data_orderbook_end': '2020-08-05T14:37:10.3594511Z', 'data_trade_start': '2019-04-08T15:17:18.0000000Z', 'data_trade_end': '2021-02-27T13:57:09.0000000Z', 'data_symbols_count': 1, 'volume_1hrs_usd': 0, 'volume_1day_usd': 0, 'volume_1mth_usd': 0}\n",
            "{'exchange_id': 'VEBITCOIN', 'website': 'https://www.vebitcoin.com/', 'name': 'Vebitcoin', 'data_start': '2018-10-01', 'data_end': '2020-05-01', 'data_quote_start': '2018-10-01T16:58:44.7700000Z', 'data_quote_end': '2020-05-01T22:54:47.8195584Z', 'data_orderbook_start': '2018-10-01T16:58:44.7700000Z', 'data_orderbook_end': '2020-05-01T22:54:47.8195584Z', 'data_symbols_count': 61, 'volume_1hrs_usd': 0, 'volume_1day_usd': 0, 'volume_1mth_usd': 0}\n",
            "{'exchange_id': 'TRADEIO', 'website': 'https://exchange.trade.io/', 'name': 'Trade.io', 'data_start': '2018-10-09', 'data_end': '2019-10-28', 'data_quote_start': '2019-04-08T15:29:00.9938327Z', 'data_quote_end': '2019-10-28T16:25:39.1165960Z', 'data_orderbook_start': '2019-04-08T15:29:00.9938327Z', 'data_orderbook_end': '2019-10-28T16:25:39.1165960Z', 'data_trade_start': '2018-10-09T01:15:09.8490000Z', 'data_trade_end': '2019-10-28T16:07:46.9660000Z', 'data_symbols_count': 126, 'volume_1hrs_usd': 0, 'volume_1day_usd': 0, 'volume_1mth_usd': 0}\n",
            "{'exchange_id': 'LXDX', 'website': 'https://www.lxdx.co', 'name': 'LXDX', 'data_start': '2019-04-18', 'data_end': '2019-10-29', 'data_quote_start': '2019-04-18T12:44:36.0137903Z', 'data_quote_end': '2019-10-29T12:59:28.1318347Z', 'data_orderbook_start': '2019-04-18T12:44:36.0137903Z', 'data_orderbook_end': '2019-10-29T12:59:28.1318347Z', 'data_trade_start': '2019-04-18T18:16:48.5820000Z', 'data_trade_end': '2019-06-29T23:56:38.4060000Z', 'data_symbols_count': 6, 'volume_1hrs_usd': 0, 'volume_1day_usd': 0, 'volume_1mth_usd': 0}\n",
            "{'exchange_id': 'CCXCANADA', 'website': 'https://ccxcanada.com/', 'name': 'CCXCanada', 'data_start': '2019-03-18', 'data_end': '2020-07-07', 'data_quote_start': '2020-01-01T02:33:37.1235218Z', 'data_quote_end': '2020-07-07T00:04:48.4735258Z', 'data_orderbook_start': '2020-01-01T02:33:37.1235218Z', 'data_orderbook_end': '2020-07-07T00:04:48.4735258Z', 'data_trade_start': '2019-03-18T21:45:56.0000000Z', 'data_trade_end': '2020-03-29T06:22:44.0000000Z', 'data_symbols_count': 40, 'volume_1hrs_usd': 0, 'volume_1day_usd': 0, 'volume_1mth_usd': 0}\n",
            "{'exchange_id': 'DELTAEXCHANGE', 'website': 'https://www.delta.exchange/', 'name': 'Delta Exchange', 'data_start': '2020-05-05', 'data_end': '2021-11-04', 'data_quote_start': '2020-05-05T13:18:46.2872655Z', 'data_quote_end': '2021-11-04T17:10:41.6335713Z', 'data_orderbook_start': '2020-05-05T13:18:46.2872655Z', 'data_orderbook_end': '2020-08-05T14:37:23.5227311Z', 'data_trade_start': '2020-05-05T13:18:49.0050000Z', 'data_trade_end': '2020-11-13T06:30:00.2380000Z', 'data_symbols_count': 117, 'volume_1hrs_usd': 0, 'volume_1day_usd': 0, 'volume_1mth_usd': 0}\n",
            "{'exchange_id': 'BITEXLIVE', 'website': 'https://bitexlive.com/', 'name': 'BITEXLIVE', 'data_start': '2020-05-16', 'data_end': '2021-11-04', 'data_quote_start': '2020-05-16T07:45:06.0671899Z', 'data_quote_end': '2021-11-04T15:19:51.8948323Z', 'data_orderbook_start': '2020-05-16T07:45:06.0671899Z', 'data_orderbook_end': '2020-08-05T14:36:04.5929394Z', 'data_trade_start': '2020-05-16T07:46:49.0000000Z', 'data_trade_end': '2021-11-04T17:10:24.0000000Z', 'data_symbols_count': 146, 'volume_1hrs_usd': 83236.06, 'volume_1day_usd': 1882815.56, 'volume_1mth_usd': 46493396.26}\n",
            "{'exchange_id': 'BITIBU', 'website': 'https://bitibu.com/', 'name': 'Bitibu', 'data_start': '2018-12-25', 'data_end': '2019-12-14', 'data_quote_start': '2019-04-08T15:29:13.7997005Z', 'data_quote_end': '2019-12-14T12:39:31.6524609Z', 'data_orderbook_start': '2019-04-08T15:29:13.7997005Z', 'data_orderbook_end': '2019-12-14T12:39:31.6524609Z', 'data_trade_start': '2018-12-25T12:33:12.0000000Z', 'data_trade_end': '2019-07-19T06:25:49.0000000Z', 'data_symbols_count': 125, 'volume_1hrs_usd': 0, 'volume_1day_usd': 0, 'volume_1mth_usd': 0}\n",
            "{'exchange_id': 'ISX', 'website': 'https://beta.isx.is/', 'name': 'ISX', 'data_start': '2019-04-02', 'data_end': '2021-11-04', 'data_quote_start': '2019-04-08T15:18:01.1770888Z', 'data_quote_end': '2021-11-04T15:11:44.2669937Z', 'data_orderbook_start': '2019-04-08T15:18:01.1770888Z', 'data_orderbook_end': '2020-08-05T11:52:55.5177372Z', 'data_trade_start': '2019-04-02T15:36:07.0000000Z', 'data_trade_end': '2021-11-04T15:11:31.0000000Z', 'data_symbols_count': 4, 'volume_1hrs_usd': 0, 'volume_1day_usd': 2970.88, 'volume_1mth_usd': 119631.14}\n",
            "{'exchange_id': 'COINDCX', 'website': 'https://coindcx.com/', 'name': 'CoinDCX', 'data_symbols_count': 1044, 'volume_1hrs_usd': 0, 'volume_1day_usd': 0, 'volume_1mth_usd': 0}\n",
            "{'exchange_id': 'LUKKI', 'website': 'https://lukki.io/', 'name': 'Lukki Exchange', 'data_start': '2020-05-05', 'data_end': '2021-04-02', 'data_trade_start': '2020-05-05T13:19:59.4944225Z', 'data_trade_end': '2021-04-02T11:17:03.9136020Z', 'data_symbols_count': 122, 'volume_1hrs_usd': 0, 'volume_1day_usd': 0, 'volume_1mth_usd': 0}\n",
            "{'exchange_id': 'COINSPRO', 'website': 'https://pro.coins.asia/', 'name': 'Coins Pro', 'data_start': '2018-03-09', 'data_end': '2021-11-04', 'data_quote_start': '2018-11-08T20:09:36.9821552Z', 'data_quote_end': '2021-11-04T17:17:54.8600000Z', 'data_orderbook_start': '2018-11-08T20:09:36.9821552Z', 'data_orderbook_end': '2020-08-05T14:37:41.4030000Z', 'data_trade_start': '2018-03-09T21:32:41.4920000Z', 'data_trade_end': '2021-08-01T09:00:02.8866667Z', 'data_symbols_count': 15, 'volume_1hrs_usd': 0, 'volume_1day_usd': 0, 'volume_1mth_usd': 0}\n",
            "{'exchange_id': 'GDAC', 'website': 'https://www.gdac.com/', 'name': 'GDAC', 'data_start': '2019-10-01', 'data_end': '2021-11-04', 'data_quote_start': '2019-10-01T17:25:23.5736614Z', 'data_quote_end': '2021-11-04T17:06:46.0064614Z', 'data_orderbook_start': '2019-10-01T17:25:23.5736614Z', 'data_orderbook_end': '2020-08-05T14:37:05.5041665Z', 'data_trade_start': '2019-10-01T17:25:29.0000000Z', 'data_trade_end': '2021-11-04T17:18:00.0000000Z', 'data_symbols_count': 85, 'volume_1hrs_usd': 2000.54, 'volume_1day_usd': 107631.95, 'volume_1mth_usd': 36720194.99}\n",
            "{'exchange_id': 'LATOKEN', 'website': 'https://latoken.com/', 'name': 'LATOKEN', 'data_start': '2018-01-05', 'data_end': '2021-11-04', 'data_quote_start': '2019-10-01T17:26:06.1223999Z', 'data_quote_end': '2021-11-04T17:19:36.0970530Z', 'data_orderbook_start': '2019-10-01T17:26:06.1223999Z', 'data_orderbook_end': '2020-08-05T14:37:30.4403781Z', 'data_trade_start': '2018-01-05T02:36:25.0000000Z', 'data_trade_end': '2021-11-04T17:18:34.3700000Z', 'data_symbols_count': 2320, 'volume_1hrs_usd': 46791993.28, 'volume_1day_usd': 3579540117.53, 'volume_1mth_usd': 203330980667305.28}\n",
            "{'exchange_id': 'OOOBTC', 'website': 'https://www.ooobtc.com/', 'name': 'OOOBTC', 'data_start': '2019-04-08', 'data_end': '2020-03-22', 'data_quote_start': '2019-04-08T15:19:04.0034189Z', 'data_quote_end': '2020-03-22T16:04:22.0000000Z', 'data_orderbook_start': '2019-04-08T15:19:04.0034189Z', 'data_orderbook_end': '2020-03-22T16:04:22.0000000Z', 'data_trade_start': '2019-04-08T04:44:03.0000000Z', 'data_trade_end': '2020-03-22T15:59:39.0000000Z', 'data_symbols_count': 53, 'volume_1hrs_usd': 0, 'volume_1day_usd': 0, 'volume_1mth_usd': 0}\n",
            "{'exchange_id': 'BITEXBOOK', 'website': 'https://bitexbook.com/', 'name': 'BITEXBOOK', 'data_start': '2020-05-05', 'data_end': '2021-11-04', 'data_quote_start': '2020-05-05T13:38:48.4307510Z', 'data_quote_end': '2021-11-04T17:19:40.7691799Z', 'data_orderbook_start': '2020-05-05T13:38:48.4307510Z', 'data_orderbook_end': '2020-08-05T14:37:11.5553939Z', 'data_symbols_count': 119, 'volume_1hrs_usd': 0, 'volume_1day_usd': 0, 'volume_1mth_usd': 0}\n",
            "{'exchange_id': 'CROSSEXCHANGE', 'website': 'https://www.crossexchange.io', 'name': 'CROSS exchange', 'data_start': '2020-05-05', 'data_end': '2021-11-04', 'data_quote_start': '2020-05-05T13:01:30.7450935Z', 'data_quote_end': '2021-11-04T17:16:11.5307945Z', 'data_orderbook_start': '2020-05-05T13:01:30.7450935Z', 'data_orderbook_end': '2020-08-05T14:37:03.5323331Z', 'data_trade_start': '2020-05-05T13:01:39.0000000Z', 'data_trade_end': '2021-11-04T17:18:01.0000000Z', 'data_symbols_count': 55, 'volume_1hrs_usd': 247068.96, 'volume_1day_usd': 6250409.25, 'volume_1mth_usd': 180201233.87}\n",
            "{'exchange_id': 'OTCBTC', 'website': 'https://otcbtc.com/', 'name': 'OTCBTC', 'data_start': '2018-02-10', 'data_end': '2021-11-04', 'data_quote_start': '2019-04-08T15:18:07.0167609Z', 'data_quote_end': '2021-11-04T16:01:24.6236570Z', 'data_orderbook_start': '2019-04-08T15:18:07.0167609Z', 'data_orderbook_end': '2020-08-05T11:54:52.8737021Z', 'data_trade_start': '2018-02-10T01:03:31.0000000Z', 'data_trade_end': '2021-11-04T17:09:45.0000000Z', 'data_symbols_count': 99, 'volume_1hrs_usd': 43.73, 'volume_1day_usd': 1814.46, 'volume_1mth_usd': 44427.64}\n",
            "{'exchange_id': 'BITRUE', 'website': 'https://www.bitrue.com/', 'name': 'Bitrue', 'data_start': '2019-02-08', 'data_end': '2021-11-04', 'data_quote_start': '2019-02-08T09:08:55.5368722Z', 'data_quote_end': '2021-11-04T17:19:38.1932729Z', 'data_orderbook_start': '2019-02-08T09:08:55.5368722Z', 'data_orderbook_end': '2020-08-05T14:37:24.0861042Z', 'data_symbols_count': 725, 'volume_1hrs_usd': 0, 'volume_1day_usd': 0, 'volume_1mth_usd': 0}\n",
            "{'exchange_id': 'TRIVPRO', 'website': 'https://tpro.co.id/', 'name': 'Triv Pro', 'data_start': '2020-05-05', 'data_end': '2021-11-04', 'data_quote_start': '2020-05-05T17:04:30.5388591Z', 'data_quote_end': '2021-11-04T17:15:19.9448310Z', 'data_orderbook_start': '2020-05-05T17:04:30.5388591Z', 'data_orderbook_end': '2020-08-05T14:37:54.7465729Z', 'data_trade_start': '2020-05-05T17:05:10.0000000Z', 'data_trade_end': '2021-11-04T17:17:18.0000000Z', 'data_symbols_count': 12, 'volume_1hrs_usd': 4788379.36, 'volume_1day_usd': 106145540.63, 'volume_1mth_usd': 3526690601.85}\n",
            "{'exchange_id': 'BITASSET', 'website': 'https://www.bitasset.com/', 'name': 'BitAsset', 'data_start': '2021-02-18', 'data_end': '2021-04-14', 'data_quote_start': '2021-02-18T15:50:03.9251990Z', 'data_quote_end': '2021-04-14T16:32:05.0778377Z', 'data_symbols_count': 276, 'volume_1hrs_usd': 0, 'volume_1day_usd': 0, 'volume_1mth_usd': 0}\n",
            "{'exchange_id': 'BBX', 'website': 'https://bbx.com/', 'name': 'BBX', 'data_start': '2019-04-16', 'data_end': '2021-08-01', 'data_quote_start': '2019-04-16T18:37:21.9447736Z', 'data_quote_end': '2021-08-01T09:00:00.2233333Z', 'data_orderbook_start': '2019-04-16T18:37:21.9447736Z', 'data_orderbook_end': '2020-08-05T14:37:32.7222904Z', 'data_trade_start': '2019-04-24T10:43:39.2112112Z', 'data_trade_end': '2021-08-01T09:00:02.8866667Z', 'data_symbols_count': 53, 'volume_1hrs_usd': 0, 'volume_1day_usd': 0, 'volume_1mth_usd': 0}\n",
            "{'exchange_id': 'BINANCEDEX', 'website': 'https://www.binance.org/', 'name': 'Binance DEX', 'data_start': '2019-10-24', 'data_end': '2021-11-04', 'data_quote_start': '2019-10-24T17:06:37.0000000Z', 'data_quote_end': '2021-11-04T17:19:35.0343408Z', 'data_orderbook_start': '2019-10-24T17:06:37.0000000Z', 'data_orderbook_end': '2020-08-05T14:37:50.9635229Z', 'data_trade_start': '2019-10-24T17:06:53.4330000Z', 'data_trade_end': '2021-11-04T17:18:42.4550000Z', 'data_symbols_count': 275, 'volume_1hrs_usd': 24052719.54, 'volume_1day_usd': 89608610.63, 'volume_1mth_usd': 3354598589.57}\n",
            "{'exchange_id': 'SATANGPRO', 'website': 'https://satang.pro/', 'name': 'Satang Pro', 'data_start': '2019-04-08', 'data_end': '2021-11-04', 'data_quote_start': '2019-04-08T20:44:37.6240192Z', 'data_quote_end': '2021-11-04T17:16:45.1445211Z', 'data_orderbook_start': '2019-04-08T20:44:37.6240192Z', 'data_orderbook_end': '2020-08-05T14:37:42.4277353Z', 'data_symbols_count': 7, 'volume_1hrs_usd': 0, 'volume_1day_usd': 0, 'volume_1mth_usd': 0}\n",
            "{'exchange_id': 'WHITEBIT', 'website': 'https://whitebit.com/', 'name': 'WhiteBit', 'data_start': '2019-08-12', 'data_end': '2021-11-04', 'data_quote_start': '2019-10-01T17:47:42.7491926Z', 'data_quote_end': '2021-11-04T17:19:40.7594227Z', 'data_orderbook_start': '2019-10-01T17:47:42.7491926Z', 'data_orderbook_end': '2020-08-05T14:37:28.3766411Z', 'data_trade_start': '2019-08-12T13:42:51.4620000Z', 'data_trade_end': '2021-11-04T17:18:23.1700000Z', 'data_symbols_count': 561, 'volume_1hrs_usd': 11370972.31, 'volume_1day_usd': 280266842.37, 'volume_1mth_usd': 8580153300.45}\n",
            "{'exchange_id': 'BITMAX', 'website': 'https://ascendex.com/', 'name': 'Bitmax (AscendEX)', 'data_start': '2019-04-08', 'data_end': '2021-11-04', 'data_quote_start': '2019-04-08T15:17:56.3251936Z', 'data_quote_end': '2021-11-04T17:19:38.5270000Z', 'data_orderbook_start': '2019-04-08T15:17:56.3251936Z', 'data_orderbook_end': '2020-03-20T21:01:47.1752553Z', 'data_trade_start': '2019-04-08T15:18:02.5080000Z', 'data_trade_end': '2021-11-04T17:18:55.6290000Z', 'data_symbols_count': 456, 'volume_1hrs_usd': 1784626038.7, 'volume_1day_usd': 10540937057.3, 'volume_1mth_usd': 76610510521.71}\n",
            "{'exchange_id': 'BITCOINCOM', 'website': 'https://exchange.bitcoin.com/', 'name': 'Bitcoin.com', 'data_start': '2021-05-18', 'data_end': '2021-10-05', 'data_quote_start': '2021-05-18T14:00:01.0000000Z', 'data_quote_end': '2021-10-05T19:39:41.0000000Z', 'data_trade_start': '2021-05-31T15:07:47.0000000Z', 'data_trade_end': '2021-10-05T19:40:06.0000000Z', 'data_symbols_count': 426, 'volume_1hrs_usd': 0, 'volume_1day_usd': 0, 'volume_1mth_usd': 3239848628.31}\n",
            "{'exchange_id': 'COINSPOT', 'website': 'https://www.coinspot.com.au/', 'name': 'CoinSpot', 'data_start': '2019-08-28', 'data_end': '2021-11-04', 'data_quote_start': '2019-08-28T12:26:19.5200249Z', 'data_quote_end': '2021-11-04T17:19:15.5362191Z', 'data_orderbook_start': '2019-08-28T12:26:19.5200249Z', 'data_orderbook_end': '2020-08-05T14:37:30.6455145Z', 'data_symbols_count': 14, 'volume_1hrs_usd': 0, 'volume_1day_usd': 0, 'volume_1mth_usd': 0}\n",
            "{'exchange_id': 'BITKUB', 'website': 'https://www.bitkub.com/', 'name': 'Bitkub', 'data_start': '2019-04-16', 'data_end': '2021-11-04', 'data_quote_start': '2019-04-16T18:32:57.0850620Z', 'data_quote_end': '2021-11-04T17:19:39.4565062Z', 'data_orderbook_start': '2019-04-16T18:32:57.0850620Z', 'data_orderbook_end': '2020-08-05T14:37:24.2549762Z', 'data_trade_start': '2020-02-28T14:29:56.0000000Z', 'data_trade_end': '2021-11-04T17:18:55.0000000Z', 'data_symbols_count': 53, 'volume_1hrs_usd': 57065887.54, 'volume_1day_usd': 1261804674.57, 'volume_1mth_usd': 32952168088.65}\n",
            "{'exchange_id': 'INFINITYCOIN', 'website': 'https://infinitycoin.exchange/', 'name': 'InfinityCoin Exchange', 'data_start': '2019-10-01', 'data_end': '2020-07-28', 'data_quote_start': '2019-10-01T17:47:26.8021370Z', 'data_quote_end': '2020-07-28T07:06:11.7867418Z', 'data_orderbook_start': '2019-10-01T17:47:26.8021370Z', 'data_orderbook_end': '2020-07-28T07:06:11.7867418Z', 'data_symbols_count': 1, 'volume_1hrs_usd': 0, 'volume_1day_usd': 0, 'volume_1mth_usd': 0}\n",
            "{'exchange_id': 'BGOGO', 'website': 'https://bgogo.com/', 'name': 'Bgogo', 'data_start': '2019-04-08', 'data_end': '2021-11-04', 'data_quote_start': '2019-04-08T15:17:59.1913899Z', 'data_quote_end': '2021-11-04T17:16:34.4774754Z', 'data_orderbook_start': '2019-04-08T15:17:59.1913899Z', 'data_orderbook_end': '2020-08-05T14:36:51.8279280Z', 'data_trade_start': '2019-04-08T15:18:00.0000000Z', 'data_trade_end': '2021-11-04T17:18:41.0000000Z', 'data_symbols_count': 89, 'volume_1hrs_usd': 213590.06, 'volume_1day_usd': 5320811.85, 'volume_1mth_usd': 178900593.19}\n",
            "{'exchange_id': 'BITSTORAGE', 'website': 'https://bitstorage.finance/', 'name': 'BITStorage', 'data_start': '2020-05-05', 'data_end': '2021-11-04', 'data_quote_start': '2020-05-05T16:55:33.1626651Z', 'data_quote_end': '2021-11-04T17:16:38.4592025Z', 'data_orderbook_start': '2020-05-05T16:55:33.1626651Z', 'data_orderbook_end': '2020-08-05T14:37:26.8143232Z', 'data_trade_start': '2020-05-05T18:59:59.0000000Z', 'data_trade_end': '2021-11-04T17:17:01.0000000Z', 'data_symbols_count': 43, 'volume_1hrs_usd': 651827.04, 'volume_1day_usd': 13428087.51, 'volume_1mth_usd': 400099488.03}\n",
            "{'exchange_id': 'STELLARPORT', 'website': 'https://stellarport.io/', 'name': 'Stellarport', 'data_start': '2019-10-01', 'data_end': '2020-05-30', 'data_quote_start': '2019-10-01T17:28:13.0372611Z', 'data_quote_end': '2020-05-30T23:13:33.8370847Z', 'data_orderbook_start': '2019-10-01T17:28:13.0372611Z', 'data_orderbook_end': '2020-05-30T23:13:33.8370847Z', 'data_symbols_count': 1587, 'volume_1hrs_usd': 0, 'volume_1day_usd': 0, 'volume_1mth_usd': 0}\n",
            "{'exchange_id': 'TIDEBIT', 'website': 'https://www.tidebit.com/', 'name': 'Tidebit', 'data_start': '2019-10-01', 'data_end': '2021-11-04', 'data_quote_start': '2019-10-01T17:28:35.1764139Z', 'data_quote_end': '2021-11-04T17:18:16.4447393Z', 'data_orderbook_start': '2019-10-01T17:28:35.1764139Z', 'data_orderbook_end': '2020-08-05T14:37:23.7822195Z', 'data_trade_start': '2019-10-01T11:58:38.0000000Z', 'data_trade_end': '2021-11-04T11:41:07.0000000Z', 'data_symbols_count': 66, 'volume_1hrs_usd': 0, 'volume_1day_usd': 421771.46, 'volume_1mth_usd': 17622402.08}\n",
            "{'exchange_id': 'COINEGG', 'website': 'https://www.coinegg.com/', 'name': 'COINEGG', 'data_start': '2019-04-08', 'data_end': '2021-11-04', 'data_quote_start': '2019-04-08T15:19:03.6052763Z', 'data_quote_end': '2021-11-04T17:19:14.5309085Z', 'data_orderbook_start': '2019-04-08T15:19:03.6052763Z', 'data_orderbook_end': '2020-08-05T14:37:16.3204791Z', 'data_symbols_count': 407, 'volume_1hrs_usd': 0, 'volume_1day_usd': 0, 'volume_1mth_usd': 0}\n",
            "{'exchange_id': 'UEX', 'website': 'https://www.uex.com/', 'name': 'UEX', 'data_start': '2019-03-29', 'data_end': '2019-04-30', 'data_quote_start': '2019-04-08T15:18:44.0210000Z', 'data_quote_end': '2019-04-30T15:42:48.2661048Z', 'data_orderbook_start': '2019-04-08T15:18:44.0210000Z', 'data_orderbook_end': '2019-04-30T15:42:48.2661048Z', 'data_trade_start': '2019-03-29T10:54:30.0000000Z', 'data_trade_end': '2019-04-29T06:31:38.0000000Z', 'data_symbols_count': 3, 'volume_1hrs_usd': 0, 'volume_1day_usd': 0, 'volume_1mth_usd': 0}\n",
            "{'exchange_id': 'SHORTEX', 'website': 'https://shortex.net/', 'name': 'Shortex ', 'data_start': '2020-05-05', 'data_end': '2020-10-26', 'data_quote_start': '2020-05-05T13:01:09.8265289Z', 'data_quote_end': '2020-10-26T15:49:04.9320112Z', 'data_orderbook_start': '2020-05-05T13:01:09.8265289Z', 'data_orderbook_end': '2020-08-03T12:39:13.2983541Z', 'data_trade_start': '2020-05-05T13:18:17.0000000Z', 'data_trade_end': '2020-10-26T15:46:18.0000000Z', 'data_symbols_count': 30, 'volume_1hrs_usd': 0, 'volume_1day_usd': 0, 'volume_1mth_usd': 0}\n",
            "{'exchange_id': 'TRADEOGRE', 'website': 'https://tradeogre.com/', 'name': 'TradeOgre', 'data_start': '2019-04-08', 'data_end': '2021-11-04', 'data_quote_start': '2019-04-08T15:18:03.9093034Z', 'data_quote_end': '2021-11-04T17:19:36.8373116Z', 'data_orderbook_start': '2019-04-08T15:18:03.9093034Z', 'data_orderbook_end': '2020-08-05T14:37:54.8372325Z', 'data_trade_start': '2019-04-08T15:19:17.0000000Z', 'data_trade_end': '2021-11-04T17:16:38.0000000Z', 'data_symbols_count': 133, 'volume_1hrs_usd': 136377.54, 'volume_1day_usd': 6005826.0, 'volume_1mth_usd': 2306397771.87}\n",
            "{'exchange_id': 'CRYPTONBTC', 'website': 'https://cryptonbtc.com/', 'name': 'Crypton', 'data_start': '2018-08-27', 'data_end': '2021-01-13', 'data_quote_start': '2019-04-08T15:29:02.1642974Z', 'data_quote_end': '2021-01-13T23:43:43.0250018Z', 'data_orderbook_start': '2019-04-08T15:29:02.1642974Z', 'data_orderbook_end': '2020-08-05T11:51:03.5015864Z', 'data_trade_start': '2018-08-27T02:08:57.5597020Z', 'data_trade_end': '2019-05-14T16:07:49.8054930Z', 'data_symbols_count': 62, 'volume_1hrs_usd': 0, 'volume_1day_usd': 0, 'volume_1mth_usd': 0}\n",
            "{'exchange_id': 'BKEX', 'website': 'https://www.bkex.com/', 'name': 'BKEX', 'data_start': '2019-10-01', 'data_end': '2021-11-04', 'data_quote_start': '2019-10-01T17:20:16.3599703Z', 'data_quote_end': '2021-11-04T17:19:35.9999032Z', 'data_orderbook_start': '2019-10-01T17:20:16.3599703Z', 'data_orderbook_end': '2020-08-05T14:37:17.2422143Z', 'data_trade_start': '2019-10-01T17:20:22.6600000Z', 'data_trade_end': '2021-11-04T17:18:40.3280000Z', 'data_symbols_count': 1092, 'volume_1hrs_usd': 6942287948.13, 'volume_1day_usd': 1671143521300.72, 'volume_1mth_usd': 22677860783309.52}\n",
            "{'exchange_id': 'POLONIEXFTS', 'website': 'https://poloniex.com/futures', 'name': 'Poloniex Futures', 'data_start': '2021-02-18', 'data_end': '2021-11-03', 'data_quote_start': '2021-02-18T15:52:43.4041116Z', 'data_quote_end': '2021-11-03T18:57:27.8493200Z', 'data_trade_start': '2021-02-18T15:52:49.4640000Z', 'data_trade_end': '2021-11-03T18:56:31.9880000Z', 'data_symbols_count': 21, 'volume_1hrs_usd': 0, 'volume_1day_usd': 437269.77, 'volume_1mth_usd': 69913539364.21}\n",
            "{'exchange_id': 'FATBTC', 'website': 'https://www.fatbtc.com/', 'name': 'FatBTC', 'data_start': '2019-04-18', 'data_end': '2020-06-14', 'data_quote_start': '2019-04-18T09:54:11.3260416Z', 'data_quote_end': '2020-06-14T08:27:06.2789789Z', 'data_orderbook_start': '2019-04-18T09:54:11.3260416Z', 'data_orderbook_end': '2020-06-14T08:27:06.2789789Z', 'data_trade_start': '2019-04-19T05:49:01.3590000Z', 'data_trade_end': '2019-04-20T03:22:39.1800000Z', 'data_symbols_count': 69, 'volume_1hrs_usd': 0, 'volume_1day_usd': 0, 'volume_1mth_usd': 0}\n",
            "{'exchange_id': 'BINANCEOPTV', 'website': 'https://www.binance.com/', 'name': 'Binance Options Vanilla (vapi)', 'data_start': '2021-02-18', 'data_end': '2021-11-04', 'data_quote_start': '2021-02-18T15:49:50.5520000Z', 'data_quote_end': '2021-11-04T07:07:06.8330000Z', 'data_trade_start': '2021-02-18T15:54:15.7320000Z', 'data_trade_end': '2021-11-04T07:04:30.2870000Z', 'data_symbols_count': 1052, 'volume_1hrs_usd': 0, 'volume_1day_usd': 20824847.54, 'volume_1mth_usd': 2636569082.8}\n",
            "{'exchange_id': 'ANXPRO', 'website': 'https://anxpro.com/', 'name': 'ANXPro', 'data_start': '2018-01-24', 'data_end': '2019-08-06', 'data_quote_start': '2018-01-24T00:42:31.5662178Z', 'data_quote_end': '2019-08-06T11:10:04.4630000Z', 'data_orderbook_start': '2018-01-24T00:42:31.5662178Z', 'data_orderbook_end': '2019-08-06T11:10:04.4630000Z', 'data_symbols_count': 19, 'volume_1hrs_usd': 0, 'volume_1day_usd': 0, 'volume_1mth_usd': 0}\n",
            "{'exchange_id': 'TOKENOMY', 'website': 'https://tokenomy.com/', 'name': 'Tokenomy', 'data_start': '2018-09-15', 'data_end': '2021-11-03', 'data_quote_start': '2019-04-08T15:17:58.6208307Z', 'data_quote_end': '2021-11-03T07:57:04.2183060Z', 'data_orderbook_start': '2019-04-08T15:17:58.6208307Z', 'data_orderbook_end': '2020-08-05T14:37:41.3290601Z', 'data_trade_start': '2018-09-15T10:07:08.0000000Z', 'data_trade_end': '2021-11-03T07:45:42.0000000Z', 'data_symbols_count': 68, 'volume_1hrs_usd': 0, 'volume_1day_usd': 0, 'volume_1mth_usd': 11203268011779.11}\n",
            "{'exchange_id': 'BUDA', 'website': 'https://www.buda.com/', 'name': 'Buda', 'data_start': '2019-04-08', 'data_end': '2021-11-04', 'data_quote_start': '2019-04-08T15:18:03.9526203Z', 'data_quote_end': '2021-11-04T17:18:16.4156585Z', 'data_orderbook_start': '2019-04-08T15:18:03.9526203Z', 'data_orderbook_end': '2020-05-10T21:47:07.6000323Z', 'data_trade_start': '2019-04-08T15:20:23.7300000Z', 'data_trade_end': '2021-11-04T17:17:30.7400000Z', 'data_symbols_count': 24, 'volume_1hrs_usd': 188510.13, 'volume_1day_usd': 3920917.87, 'volume_1mth_usd': 146109662.37}\n",
            "{'exchange_id': 'ALLBIT', 'website': 'https://allbit.com/', 'name': 'Allbit', 'data_start': '2020-01-01', 'data_end': '2021-03-29', 'data_quote_start': '2020-01-01T02:28:44.9223852Z', 'data_quote_end': '2021-03-29T00:17:56.0508030Z', 'data_orderbook_start': '2020-01-01T02:28:44.9223852Z', 'data_orderbook_end': '2020-08-05T11:55:48.8559303Z', 'data_symbols_count': 35, 'volume_1hrs_usd': 0, 'volume_1day_usd': 0, 'volume_1mth_usd': 0}\n",
            "{'exchange_id': 'IDEXBSC', 'website': 'https://idex.io/', 'name': 'IDEX BSC', 'data_start': '2021-06-22', 'data_end': '2021-11-04', 'data_quote_start': '2021-06-22T10:58:01.4630000Z', 'data_quote_end': '2021-11-04T15:52:58.8690000Z', 'data_trade_start': '2021-06-30T22:12:05.3910000Z', 'data_trade_end': '2021-10-26T14:52:16.4570000Z', 'data_symbols_count': 115, 'volume_1hrs_usd': 0, 'volume_1day_usd': 0, 'volume_1mth_usd': 408.51}\n",
            "{'exchange_id': 'ZEBPAY', 'website': 'https://www.zebapi.com/', 'name': 'Zebpay', 'data_start': '2019-02-08', 'data_end': '2021-11-04', 'data_quote_start': '2019-02-08T10:06:08.6901996Z', 'data_quote_end': '2021-11-04T17:19:28.9504750Z', 'data_orderbook_start': '2019-02-08T10:06:08.6901996Z', 'data_orderbook_end': '2020-08-05T14:37:12.6472345Z', 'data_symbols_count': 134, 'volume_1hrs_usd': 0, 'volume_1day_usd': 0, 'volume_1mth_usd': 0}\n",
            "{'exchange_id': 'OKEXKR', 'website': 'https://okex.co.kr', 'name': 'OKEx Korea', 'data_start': '2020-01-01', 'data_end': '2021-04-16', 'data_quote_start': '2020-01-01T02:44:59.0948277Z', 'data_quote_end': '2021-04-16T04:00:32.9449256Z', 'data_orderbook_start': '2020-01-01T02:44:59.0948277Z', 'data_orderbook_end': '2020-08-05T14:37:56.4298308Z', 'data_trade_start': '2020-01-01T02:46:10.5770000Z', 'data_trade_end': '2021-04-16T02:25:19.9210000Z', 'data_symbols_count': 420, 'volume_1hrs_usd': 0, 'volume_1day_usd': 0, 'volume_1mth_usd': 0}\n",
            "{'exchange_id': 'KYBER', 'website': 'https://kyber.network/', 'name': 'Kyber Network', 'data_start': '2019-10-01', 'data_end': '2021-11-04', 'data_quote_start': '2019-10-01T17:26:10.2358153Z', 'data_quote_end': '2021-11-04T17:19:11.2765620Z', 'data_orderbook_start': '2019-10-01T17:26:10.2358153Z', 'data_orderbook_end': '2020-08-05T14:38:03.8899762Z', 'data_symbols_count': 125, 'volume_1hrs_usd': 0, 'volume_1day_usd': 0, 'volume_1mth_usd': 0}\n",
            "{'exchange_id': 'COINFALCON', 'website': 'https://coinfalcon.com/', 'name': 'CoinFalcon', 'data_start': '2020-01-01', 'data_end': '2020-07-28', 'data_quote_start': '2020-01-01T02:34:50.8246788Z', 'data_quote_end': '2020-07-28T14:42:02.7740794Z', 'data_orderbook_start': '2020-01-01T02:34:50.8246788Z', 'data_orderbook_end': '2020-07-28T14:42:02.7740794Z', 'data_symbols_count': 34, 'volume_1hrs_usd': 0, 'volume_1day_usd': 0, 'volume_1mth_usd': 0}\n",
            "{'exchange_id': 'GOPAX', 'website': 'https://www.gopax.com/', 'name': 'GOPAX', 'data_start': '2018-02-23', 'data_end': '2021-03-23', 'data_quote_start': '2019-04-08T15:18:02.2897595Z', 'data_quote_end': '2021-03-23T07:25:55.1227857Z', 'data_orderbook_start': '2019-04-08T15:18:02.2897595Z', 'data_orderbook_end': '2020-08-05T14:37:41.9226490Z', 'data_trade_start': '2018-02-23T12:04:51.0000000Z', 'data_trade_end': '2021-03-23T06:12:03.0000000Z', 'data_symbols_count': 172, 'volume_1hrs_usd': 0, 'volume_1day_usd': 0, 'volume_1mth_usd': 0}\n",
            "{'exchange_id': 'SEEDCX', 'website': 'https://seedcx.com/', 'name': 'SeedCX', 'data_start': '2019-04-18', 'data_end': '2019-04-18', 'data_quote_start': '2019-04-18T18:48:00.7266042Z', 'data_quote_end': '2019-04-18T18:48:30.2900934Z', 'data_orderbook_start': '2019-04-18T18:48:00.7266042Z', 'data_orderbook_end': '2019-04-18T18:48:30.2900934Z', 'data_symbols_count': 22, 'volume_1hrs_usd': 0, 'volume_1day_usd': 0, 'volume_1mth_usd': 0}\n",
            "{'exchange_id': 'FREIEXCHANGE', 'website': 'https://freiexchange.com/', 'name': 'FreiExchange', 'data_start': '2019-10-01', 'data_end': '2020-07-28', 'data_quote_start': '2019-10-01T15:06:20.3857783Z', 'data_quote_end': '2020-07-28T15:12:53.4807206Z', 'data_orderbook_start': '2019-10-01T15:06:20.3857783Z', 'data_orderbook_end': '2020-07-28T15:12:53.4807206Z', 'data_symbols_count': 271, 'volume_1hrs_usd': 0, 'volume_1day_usd': 0, 'volume_1mth_usd': 0}\n",
            "{'exchange_id': 'VELIC', 'website': 'https://www.velic.io/', 'name': 'VELIC', 'data_start': '2019-10-01', 'data_end': '2021-11-04', 'data_quote_start': '2019-10-01T17:47:07.3706738Z', 'data_quote_end': '2021-11-04T17:18:21.4676530Z', 'data_orderbook_start': '2019-10-01T17:47:07.3706738Z', 'data_orderbook_end': '2020-08-05T14:37:52.2971168Z', 'data_symbols_count': 53, 'volume_1hrs_usd': 0, 'volume_1day_usd': 0, 'volume_1mth_usd': 0}\n",
            "{'exchange_id': 'INSTANTBITEX', 'website': 'https://instantbitex.com/', 'name': 'Instant Bitex', 'data_start': '2018-09-29', 'data_end': '2020-01-20', 'data_quote_start': '2019-05-05T06:18:06.7114893Z', 'data_quote_end': '2020-01-17T16:29:08.8790150Z', 'data_orderbook_start': '2019-05-05T06:18:06.7114893Z', 'data_orderbook_end': '2020-01-17T16:29:08.8790150Z', 'data_trade_start': '2018-09-29T01:50:08.0000000Z', 'data_trade_end': '2020-01-20T13:54:14.0000000Z', 'data_symbols_count': 292, 'volume_1hrs_usd': 0, 'volume_1day_usd': 0, 'volume_1mth_usd': 0}\n",
            "{'exchange_id': 'HUOBIJP', 'website': 'https://www.huobi.co.jp/', 'name': 'Huobi Japan', 'data_start': '2020-05-15', 'data_end': '2021-11-04', 'data_quote_start': '2020-05-15T00:21:26.6308783Z', 'data_quote_end': '2021-11-04T17:19:19.5841367Z', 'data_orderbook_start': '2020-05-15T00:21:26.6308783Z', 'data_orderbook_end': '2020-08-05T14:37:23.0317694Z', 'data_trade_start': '2020-05-15T00:21:28.5480000Z', 'data_trade_end': '2021-11-04T17:18:23.9230000Z', 'data_symbols_count': 38, 'volume_1hrs_usd': 4155802.96, 'volume_1day_usd': 123738907.29, 'volume_1mth_usd': 3255337126.54}\n",
            "{'exchange_id': 'BW', 'website': 'https://www.bw.com/', 'name': 'BW', 'data_start': '2019-02-21', 'data_end': '2021-11-04', 'data_quote_start': '2019-02-21T13:42:50.9700312Z', 'data_quote_end': '2021-11-04T17:17:45.0000000Z', 'data_orderbook_start': '2019-02-21T13:42:50.9700312Z', 'data_orderbook_end': '2020-08-05T14:37:18.0000000Z', 'data_trade_start': '2019-02-21T13:42:47.0000000Z', 'data_trade_end': '2021-11-04T17:17:43.0000000Z', 'data_symbols_count': 430, 'volume_1hrs_usd': 9742578.87, 'volume_1day_usd': 202662160.17, 'volume_1mth_usd': 1468773725379.6}\n",
            "{'exchange_id': 'GULDENTRADER', 'website': 'https://guldentrader.com/', 'name': 'GuldenTrader', 'data_start': '2019-10-01', 'data_end': '2020-05-17', 'data_quote_start': '2019-10-01T17:24:56.5974189Z', 'data_quote_end': '2020-05-15T12:00:34.2618909Z', 'data_orderbook_start': '2019-10-01T17:24:56.5974189Z', 'data_orderbook_end': '2020-05-15T12:00:34.2618909Z', 'data_trade_start': '2019-10-13T04:49:44.0000000Z', 'data_trade_end': '2020-05-17T08:12:06.8575244Z', 'data_symbols_count': 10, 'volume_1hrs_usd': 0, 'volume_1day_usd': 0, 'volume_1mth_usd': 0}\n",
            "{'exchange_id': 'BISQ', 'website': 'https://bisq.network/', 'name': 'Bisq', 'data_start': '2020-01-01', 'data_end': '2021-08-01', 'data_quote_start': '2020-01-01T02:29:21.8875956Z', 'data_quote_end': '2021-08-01T09:00:00.2233333Z', 'data_orderbook_start': '2020-01-01T02:29:21.8875956Z', 'data_orderbook_end': '2020-08-05T14:37:25.5791398Z', 'data_symbols_count': 275, 'volume_1hrs_usd': 0, 'volume_1day_usd': 0, 'volume_1mth_usd': 0}\n",
            "{'exchange_id': 'CPATEX', 'website': 'https://c-patex.com/', 'name': 'C-Patex', 'data_start': '2017-12-18', 'data_end': '2021-11-04', 'data_quote_start': '2019-04-08T15:17:55.4599973Z', 'data_quote_end': '2021-11-04T17:19:36.9324361Z', 'data_orderbook_start': '2019-04-08T15:17:55.4599973Z', 'data_orderbook_end': '2020-08-05T14:38:18.9028200Z', 'data_trade_start': '2017-12-18T17:36:08.0000000Z', 'data_trade_end': '2021-11-04T17:14:15.0000000Z', 'data_symbols_count': 240, 'volume_1hrs_usd': 105239713238.02, 'volume_1day_usd': 861247574894.94, 'volume_1mth_usd': 250945978792554.3}\n",
            "{'exchange_id': 'ALTILLY', 'website': 'https://www.altilly.com/', 'name': 'Altilly', 'data_start': '2019-10-01', 'data_end': '2020-12-25', 'data_quote_start': '2019-10-01T17:36:25.1190952Z', 'data_quote_end': '2020-12-25T20:26:53.5669236Z', 'data_orderbook_start': '2019-10-01T17:36:25.1190952Z', 'data_orderbook_end': '2020-08-05T14:37:35.7864275Z', 'data_trade_start': '2019-10-01T17:52:17.0000000Z', 'data_trade_end': '2020-12-25T20:22:27.0000000Z', 'data_symbols_count': 1468, 'volume_1hrs_usd': 0, 'volume_1day_usd': 0, 'volume_1mth_usd': 0}\n",
            "{'exchange_id': 'COINZEST', 'website': 'https://www.coinzest.co.kr/', 'name': 'CoinZest', 'data_start': '2019-04-19', 'data_end': '2019-09-30', 'data_quote_start': '2019-04-19T01:38:15.1717028Z', 'data_quote_end': '2019-09-30T14:45:56.7121506Z', 'data_orderbook_start': '2019-04-19T01:38:15.1717028Z', 'data_orderbook_end': '2019-09-30T14:45:56.7121506Z', 'data_symbols_count': 129, 'volume_1hrs_usd': 0, 'volume_1day_usd': 0, 'volume_1mth_usd': 0}\n",
            "{'exchange_id': 'BITKER', 'website': 'https://www.bitker.com/', 'name': 'BITKER', 'data_start': '2019-05-05', 'data_end': '2019-09-01', 'data_quote_start': '2019-05-05T07:21:16.3119958Z', 'data_quote_end': '2019-09-01T16:14:33.1199482Z', 'data_orderbook_start': '2019-05-05T07:21:16.3119958Z', 'data_orderbook_end': '2019-09-01T16:14:33.1199482Z', 'data_trade_start': '2019-05-05T07:21:44.2600000Z', 'data_trade_end': '2019-09-01T16:14:30.7490000Z', 'data_symbols_count': 45, 'volume_1hrs_usd': 0, 'volume_1day_usd': 0, 'volume_1mth_usd': 0}\n",
            "{'exchange_id': 'CRYPTALDASH', 'website': 'https://www.cryptaldash.com/', 'name': 'CryptalDash', 'data_start': '2018-08-13', 'data_end': '2021-10-30', 'data_quote_start': '2019-04-08T15:18:06.5579239Z', 'data_quote_end': '2021-10-30T19:09:22.4028114Z', 'data_orderbook_start': '2019-04-08T15:18:06.5579239Z', 'data_orderbook_end': '2020-08-05T14:37:56.5139509Z', 'data_trade_start': '2018-08-13T18:04:30.0000000Z', 'data_trade_end': '2021-10-22T16:37:41.0000000Z', 'data_symbols_count': 641, 'volume_1hrs_usd': 0, 'volume_1day_usd': 0, 'volume_1mth_usd': 0.01}\n",
            "{'exchange_id': 'ICE3X', 'website': 'https://ice3x.com/', 'name': 'iCE3X', 'data_start': '2019-05-04', 'data_end': '2021-04-08', 'data_quote_start': '2019-05-05T07:11:44.8183536Z', 'data_quote_end': '2021-04-08T16:55:07.0986948Z', 'data_orderbook_start': '2019-05-05T07:11:44.8183536Z', 'data_orderbook_end': '2020-08-05T14:37:21.3635916Z', 'data_trade_start': '2019-05-04T17:55:31.0000000Z', 'data_trade_end': '2021-03-16T12:16:17.0000000Z', 'data_symbols_count': 26, 'volume_1hrs_usd': 0, 'volume_1day_usd': 0, 'volume_1mth_usd': 0}\n",
            "{'exchange_id': 'EXTSTOCK', 'website': 'https://extstock.com/', 'name': 'ExtStock', 'data_start': '2019-10-01', 'data_end': '2021-08-01', 'data_quote_start': '2019-10-01T17:41:41.4274475Z', 'data_quote_end': '2021-08-01T09:00:00.2233333Z', 'data_orderbook_start': '2019-10-01T17:41:41.4274475Z', 'data_orderbook_end': '2020-08-05T14:37:53.8312646Z', 'data_trade_start': '2019-10-01T12:11:54.0000000Z', 'data_trade_end': '2021-08-01T09:00:02.8866667Z', 'data_symbols_count': 120, 'volume_1hrs_usd': 0, 'volume_1day_usd': 0, 'volume_1mth_usd': 0}\n",
            "{'exchange_id': 'HADAX', 'website': 'https://www.hadax.com', 'name': 'Hadax', 'data_start': '2018-11-10', 'data_end': '2021-11-04', 'data_quote_start': '2018-11-10T15:29:31.7889589Z', 'data_quote_end': '2021-11-04T17:19:40.7318013Z', 'data_orderbook_start': '2018-11-10T15:29:31.7889589Z', 'data_orderbook_end': '2020-08-05T14:37:03.5776321Z', 'data_trade_start': '2018-11-10T13:47:26.2730000Z', 'data_trade_end': '2021-11-04T17:18:59.5960000Z', 'data_symbols_count': 1034, 'volume_1hrs_usd': 816900727.58, 'volume_1day_usd': 19918329355.05, 'volume_1mth_usd': 526657506799.21}\n",
            "{'exchange_id': 'OVEX', 'website': 'https://www.ovex.io/', 'name': 'OVEX', 'data_start': '2020-05-10', 'data_end': '2021-04-25', 'data_quote_start': '2020-05-10T21:44:43.3162308Z', 'data_quote_end': '2021-04-25T01:14:54.6565030Z', 'data_orderbook_start': '2020-05-10T21:44:43.3162308Z', 'data_orderbook_end': '2020-08-05T14:35:33.8524462Z', 'data_trade_start': '2020-08-02T08:24:45.0000000Z', 'data_trade_end': '2021-04-14T08:14:00.0000000Z', 'data_symbols_count': 6, 'volume_1hrs_usd': 0, 'volume_1day_usd': 0, 'volume_1mth_usd': 0}\n",
            "{'exchange_id': 'IDCM', 'website': 'https://www.idcm.io/', 'name': 'IDCM', 'data_start': '2019-02-03', 'data_end': '2021-11-04', 'data_quote_start': '2019-02-05T23:29:27.8946927Z', 'data_quote_end': '2021-11-04T17:12:06.2870208Z', 'data_orderbook_start': '2019-02-05T23:29:27.8946927Z', 'data_orderbook_end': '2020-08-05T14:37:41.4411716Z', 'data_trade_start': '2019-02-03T15:53:24.0000000Z', 'data_trade_end': '2021-11-04T17:11:06.0000000Z', 'data_symbols_count': 67, 'volume_1hrs_usd': 2368545.1, 'volume_1day_usd': 72081118.49, 'volume_1mth_usd': 1223048034052.92}\n",
            "{'exchange_id': 'LYKKE', 'website': 'https://www.lykke.com/', 'name': 'Lykke', 'data_start': '2018-01-24', 'data_end': '2021-11-04', 'data_quote_start': '2018-01-24T00:21:30.1220000Z', 'data_quote_end': '2021-04-12T23:32:56.0430400Z', 'data_orderbook_start': '2018-01-24T00:21:30.1220000Z', 'data_orderbook_end': '2020-08-05T14:31:09.1571597Z', 'data_trade_start': '2019-08-28T12:31:48.5460000Z', 'data_trade_end': '2021-11-04T17:12:32.0700000Z', 'data_symbols_count': 481, 'volume_1hrs_usd': 58066.09, 'volume_1day_usd': 904689.72, 'volume_1mth_usd': 38910702.07}\n",
            "{'exchange_id': 'YUNEX', 'website': 'https://yunex.io/', 'name': 'YunEx', 'data_start': '2019-04-08', 'data_end': '2021-11-04', 'data_quote_start': '2019-04-08T15:17:56.3251936Z', 'data_quote_end': '2021-11-04T17:17:26.2690488Z', 'data_orderbook_start': '2019-04-08T15:17:56.3251936Z', 'data_orderbook_end': '2020-08-05T14:38:00.4123884Z', 'data_trade_start': '2019-04-08T13:23:42.5320000Z', 'data_trade_end': '2021-11-04T17:16:42.7770000Z', 'data_symbols_count': 17, 'volume_1hrs_usd': 251394.28, 'volume_1day_usd': 5517863.6, 'volume_1mth_usd': 233133590.54}\n",
            "{'exchange_id': 'FISCO', 'website': 'https://fcce.jp/', 'name': 'Fisco', 'data_start': '2018-09-03', 'data_end': '2020-02-07', 'data_quote_start': '2019-04-08T15:17:45.9541523Z', 'data_quote_end': '2020-02-07T00:58:56.7924991Z', 'data_orderbook_start': '2019-04-08T15:17:45.9541523Z', 'data_orderbook_end': '2020-02-07T00:58:56.7924991Z', 'data_trade_start': '2018-09-03T17:55:35.0000000Z', 'data_trade_end': '2020-02-06T22:47:17.0000000Z', 'data_symbols_count': 5, 'volume_1hrs_usd': 0, 'volume_1day_usd': 0, 'volume_1mth_usd': 0}\n",
            "{'exchange_id': 'GLOBITEX', 'website': 'https://globitex.com/', 'name': 'Globitex', 'data_start': '2020-05-05', 'data_end': '2021-11-04', 'data_quote_start': '2020-05-05T00:00:11.9031117Z', 'data_quote_end': '2021-11-04T17:18:32.8988666Z', 'data_orderbook_start': '2020-05-05T00:00:11.9031117Z', 'data_orderbook_end': '2020-08-05T14:37:48.9263199Z', 'data_trade_start': '2020-05-05T16:21:17.5400000Z', 'data_trade_end': '2021-11-04T16:08:35.6910000Z', 'data_symbols_count': 11, 'volume_1hrs_usd': 0, 'volume_1day_usd': 98216952628.42, 'volume_1mth_usd': 14360838904894.78}\n",
            "{'exchange_id': 'XENA', 'website': 'https://xena.exchange/', 'name': 'Xena Exchange', 'data_symbols_count': 9, 'volume_1hrs_usd': 0, 'volume_1day_usd': 0, 'volume_1mth_usd': 0}\n",
            "{'exchange_id': 'VALR', 'website': 'https://www.valr.com/', 'name': 'Valr', 'data_start': '2020-12-17', 'data_end': '2021-11-04', 'data_quote_start': '2020-12-17T22:46:18.0202663Z', 'data_quote_end': '2021-11-04T17:18:52.8847951Z', 'data_symbols_count': 131, 'volume_1hrs_usd': 0, 'volume_1day_usd': 0, 'volume_1mth_usd': 0}\n",
            "{'exchange_id': 'BCEX', 'website': 'https://www.bcex.ca/', 'name': 'BCEX', 'data_start': '2019-02-21', 'data_end': '2019-10-01', 'data_quote_start': '2019-02-21T13:34:20.6475263Z', 'data_quote_end': '2019-10-01T16:57:33.4731161Z', 'data_orderbook_start': '2019-02-21T13:34:20.6475263Z', 'data_orderbook_end': '2019-10-01T16:57:33.4731161Z', 'data_symbols_count': 21173, 'volume_1hrs_usd': 0, 'volume_1day_usd': 0, 'volume_1mth_usd': 0}\n",
            "{'exchange_id': 'FCOIN', 'website': 'https://www.fcoin.com/', 'name': 'FCoin', 'data_start': '2018-10-03', 'data_end': '2020-02-10', 'data_quote_start': '2019-10-01T17:24:08.7882764Z', 'data_quote_end': '2020-02-10T15:47:33.0936056Z', 'data_orderbook_start': '2019-10-01T17:24:08.7882764Z', 'data_orderbook_end': '2020-02-10T15:47:33.0936056Z', 'data_trade_start': '2018-10-03T05:40:33.0850000Z', 'data_trade_end': '2020-02-10T15:47:39.9870000Z', 'data_symbols_count': 324, 'volume_1hrs_usd': 0, 'volume_1day_usd': 0, 'volume_1mth_usd': 0}\n",
            "{'exchange_id': 'COINEXCHANGE', 'website': 'https://www.coinexchange.io/', 'name': 'CoinExchange', 'data_start': '2018-01-24', 'data_end': '2019-12-04', 'data_quote_start': '2018-01-24T00:21:57.1628343Z', 'data_quote_end': '2019-12-04T03:12:24.7087885Z', 'data_orderbook_start': '2018-01-24T00:21:57.1628343Z', 'data_orderbook_end': '2019-12-04T03:12:24.7087885Z', 'data_symbols_count': 1648, 'volume_1hrs_usd': 0, 'volume_1day_usd': 0, 'volume_1mth_usd': 0}\n",
            "{'exchange_id': 'TIMEX', 'website': 'https://timex.io/', 'name': 'TimeX', 'data_start': '2020-05-05', 'data_end': '2021-11-04', 'data_quote_start': '2020-05-05T13:18:39.4245701Z', 'data_quote_end': '2021-11-04T17:18:21.5066768Z', 'data_orderbook_start': '2020-05-05T13:18:39.4245701Z', 'data_orderbook_end': '2020-08-05T14:37:47.5148079Z', 'data_trade_start': '2020-05-05T13:19:07.0000000Z', 'data_trade_end': '2021-11-04T17:18:33.0000000Z', 'data_symbols_count': 41, 'volume_1hrs_usd': 3781801.7, 'volume_1day_usd': 98388521.06, 'volume_1mth_usd': 1774863065.59}\n",
            "{'exchange_id': 'FTX', 'website': 'https://ftx.com/', 'name': 'FTX', 'data_start': '2020-02-27', 'data_end': '2021-11-04', 'data_quote_start': '2020-02-27T12:54:29.3219825Z', 'data_quote_end': '2021-11-04T17:19:38.3700214Z', 'data_orderbook_start': '2020-02-27T12:54:29.3219825Z', 'data_orderbook_end': '2020-08-05T14:37:08.6664588Z', 'data_trade_start': '2020-02-27T12:54:49.9301400Z', 'data_trade_end': '2021-11-04T17:18:58.8177710Z', 'data_symbols_count': 1305, 'volume_1hrs_usd': 2645249793.52, 'volume_1day_usd': 40672822814.24, 'volume_1mth_usd': 730511405190.69}\n",
            "{'exchange_id': 'XS2', 'website': 'https://xs2.exchange/', 'name': 'XS2', 'data_start': '2019-04-18', 'data_end': '2019-08-06', 'data_quote_start': '2019-04-18T13:01:43.4096374Z', 'data_quote_end': '2019-08-06T12:04:33.7215024Z', 'data_orderbook_start': '2019-04-18T13:01:43.4096374Z', 'data_orderbook_end': '2019-08-06T12:04:33.7215024Z', 'data_trade_start': '2019-04-21T03:14:14.1460000Z', 'data_trade_end': '2019-04-21T03:14:14.1460000Z', 'data_symbols_count': 104, 'volume_1hrs_usd': 0, 'volume_1day_usd': 0, 'volume_1mth_usd': 0}\n",
            "{'exchange_id': 'BINANCEFTSC', 'website': 'https://www.binance.com/', 'name': 'Binance Futures (Coin/fapi)', 'data_start': '2020-08-05', 'data_end': '2021-11-04', 'data_quote_start': '2020-08-05T11:23:05.7002929Z', 'data_quote_end': '2021-11-04T17:19:30.2380000Z', 'data_orderbook_start': '2020-08-05T11:42:37.9971813Z', 'data_orderbook_end': '2020-08-05T14:37:37.0120000Z', 'data_trade_start': '2020-08-05T11:23:04.6340000Z', 'data_trade_end': '2021-11-04T17:18:37.2070000Z', 'data_symbols_count': 91, 'volume_1hrs_usd': 294966586391.83, 'volume_1day_usd': 7605487134062.35, 'volume_1mth_usd': 219094137363058.47}\n",
            "{'exchange_id': 'EXRATES', 'website': 'https://exrates.me/', 'name': 'Exrates', 'data_start': '2019-10-01', 'data_end': '2021-11-04', 'data_quote_start': '2019-10-01T17:41:26.5496979Z', 'data_quote_end': '2021-11-04T17:18:53.1404666Z', 'data_orderbook_start': '2019-10-01T17:41:26.5496979Z', 'data_orderbook_end': '2020-01-17T15:59:43.6243199Z', 'data_trade_start': '2019-10-01T00:47:48.0000000Z', 'data_trade_end': '2021-11-04T17:17:25.0000000Z', 'data_symbols_count': 835, 'volume_1hrs_usd': 3927125.22, 'volume_1day_usd': 85554173.43, 'volume_1mth_usd': 2991688097.93}\n",
            "{'exchange_id': 'COINDEAL', 'website': 'https://coindeal.com/', 'name': 'Coindeal', 'data_start': '2019-10-01', 'data_end': '2021-11-04', 'data_quote_start': '2019-10-01T17:21:35.0250361Z', 'data_quote_end': '2021-11-04T17:18:28.7969460Z', 'data_orderbook_start': '2019-10-01T17:21:35.0250361Z', 'data_orderbook_end': '2020-08-05T14:37:37.7718486Z', 'data_symbols_count': 52, 'volume_1hrs_usd': 0, 'volume_1day_usd': 0, 'volume_1mth_usd': 0}\n",
            "{'exchange_id': 'OMGFIN', 'website': 'https://omgfin.com/', 'name': 'Omgfin', 'data_start': '2020-05-10', 'data_end': '2021-11-04', 'data_quote_start': '2020-05-14T12:10:34.7033990Z', 'data_quote_end': '2021-11-04T17:19:40.6577806Z', 'data_orderbook_start': '2020-05-14T12:10:34.7033990Z', 'data_orderbook_end': '2020-08-05T14:37:56.1844265Z', 'data_trade_start': '2020-05-10T14:00:37.0000000Z', 'data_trade_end': '2021-11-04T17:17:12.0000000Z', 'data_symbols_count': 186, 'volume_1hrs_usd': 86507.89, 'volume_1day_usd': 3433536.69, 'volume_1mth_usd': 98261111.94}\n",
            "{'exchange_id': 'NOCKS', 'website': 'https://nocks.com/', 'name': 'Nocks', 'data_start': '2019-04-06', 'data_end': '2020-05-20', 'data_quote_start': '2019-04-08T15:28:53.9561591Z', 'data_quote_end': '2020-05-20T21:56:30.3136466Z', 'data_orderbook_start': '2019-04-08T15:28:53.9561591Z', 'data_orderbook_end': '2020-05-20T21:56:30.3136466Z', 'data_trade_start': '2019-04-06T23:07:24.0000000Z', 'data_trade_end': '2020-05-20T23:56:28.0000000Z', 'data_symbols_count': 1, 'volume_1hrs_usd': 0, 'volume_1day_usd': 0, 'volume_1mth_usd': 0}\n",
            "{'exchange_id': 'COINLIM', 'website': 'https://www.coinlim.com/', 'name': 'Coinlim', 'data_start': '2019-10-01', 'data_end': '2020-06-23', 'data_quote_start': '2019-10-01T17:21:49.2472129Z', 'data_quote_end': '2020-06-23T10:00:04.7006628Z', 'data_orderbook_start': '2019-10-01T17:21:49.2472129Z', 'data_orderbook_end': '2020-06-23T10:00:04.7006628Z', 'data_symbols_count': 111, 'volume_1hrs_usd': 0, 'volume_1day_usd': 0, 'volume_1mth_usd': 0}\n",
            "{'exchange_id': 'BTC-E', 'website': 'https://btc-e.com/', 'name': 'BTC-e', 'data_start': '2011-08-14', 'data_end': '2019-02-06', 'data_quote_start': '2014-02-24T17:43:05.0000000Z', 'data_quote_end': '2019-02-06T15:34:52.9870000Z', 'data_orderbook_start': '2014-02-24T17:43:05.0000000Z', 'data_orderbook_end': '2019-02-06T15:34:52.9870000Z', 'data_trade_start': '2011-08-14T14:14:40.0000000Z', 'data_trade_end': '2019-02-06T10:09:50.0000000Z', 'data_symbols_count': 24, 'volume_1hrs_usd': 0, 'volume_1day_usd': 0, 'volume_1mth_usd': 0}\n",
            "{'exchange_id': 'YOBIT', 'website': 'https://yobit.net/en/', 'name': 'YObit', 'data_start': '2015-01-06', 'data_end': '2021-11-04', 'data_quote_start': '2017-03-18T22:53:47.2011734Z', 'data_quote_end': '2021-11-04T17:19:31.2765890Z', 'data_orderbook_start': '2017-03-18T22:53:47.2011734Z', 'data_orderbook_end': '2020-08-05T14:34:02.0943113Z', 'data_trade_start': '2015-01-06T19:51:51.0000000Z', 'data_trade_end': '2021-11-04T17:18:50.0000000Z', 'data_symbols_count': 8940, 'volume_1hrs_usd': 127715161.22, 'volume_1day_usd': 463654250532.31, 'volume_1mth_usd': 49728272740949.97}\n",
            "{'exchange_id': 'GATEIO', 'website': 'https://gate.io/', 'name': 'Gate.io', 'data_start': '2017-12-28', 'data_end': '2021-11-04', 'data_quote_start': '2017-12-28T21:49:04.6063124Z', 'data_quote_end': '2021-11-04T17:19:40.6042942Z', 'data_orderbook_start': '2017-12-28T21:49:04.6063124Z', 'data_orderbook_end': '2020-08-05T14:37:19.9560379Z', 'data_trade_start': '2017-12-28T17:33:30.0000000Z', 'data_trade_end': '2021-11-04T17:18:59.3980000Z', 'data_symbols_count': 2232, 'volume_1hrs_usd': 173728660502.0, 'volume_1day_usd': 4175606938708.99, 'volume_1mth_usd': 88969996217917.9}\n",
            "{'exchange_id': 'QUOINE', 'website': 'https://www.liquid.com/', 'name': 'Liquid (QUOINEX & QRYPTOS)', 'data_start': '2017-05-22', 'data_end': '2021-11-04', 'data_quote_start': '2017-08-29T15:53:54.7372595Z', 'data_quote_end': '2021-11-04T17:19:36.6581688Z', 'data_orderbook_start': '2017-08-29T15:53:54.7372595Z', 'data_orderbook_end': '2020-04-21T03:51:53.5436345Z', 'data_trade_start': '2017-05-22T18:21:41.0000000Z', 'data_trade_end': '2021-11-04T17:17:31.0000000Z', 'data_symbols_count': 626, 'volume_1hrs_usd': 703534.93, 'volume_1day_usd': 52132642.58, 'volume_1mth_usd': 25373818234.78}\n",
            "{'exchange_id': 'BXINTH', 'website': 'https://bx.in.th/', 'name': 'BX Thailand', 'data_start': '2015-06-26', 'data_end': '2019-09-30', 'data_quote_start': '2017-03-18T22:53:45.5791610Z', 'data_quote_end': '2019-09-30T16:22:38.3333132Z', 'data_orderbook_start': '2017-03-18T22:53:45.5791610Z', 'data_orderbook_end': '2019-09-30T16:22:38.3333132Z', 'data_trade_start': '2015-06-26T11:19:16.0000000Z', 'data_trade_end': '2019-09-30T16:20:43.0000000Z', 'data_symbols_count': 29, 'volume_1hrs_usd': 0, 'volume_1day_usd': 0, 'volume_1mth_usd': 0}\n",
            "{'exchange_id': 'BITLISH', 'website': 'https://bitlish.com/', 'name': 'Bitlish', 'data_start': '2017-10-12', 'data_end': '2020-04-02', 'data_quote_start': '2018-01-24T00:21:31.1076466Z', 'data_quote_end': '2020-04-02T09:41:15.0994823Z', 'data_orderbook_start': '2018-01-24T00:21:31.1076466Z', 'data_orderbook_end': '2020-04-02T09:41:15.0994823Z', 'data_trade_start': '2017-10-12T18:00:10.7250000Z', 'data_trade_end': '2020-04-01T21:46:18.3550000Z', 'data_symbols_count': 139, 'volume_1hrs_usd': 0, 'volume_1day_usd': 0, 'volume_1mth_usd': 0}\n",
            "{'exchange_id': 'TOKENSTORE', 'website': 'https://token.store/', 'name': 'Token Store', 'data_start': '2017-09-17', 'data_end': '2020-07-13', 'data_quote_start': '2019-04-08T15:17:58.1915392Z', 'data_quote_end': '2020-07-13T02:35:28.5815804Z', 'data_orderbook_start': '2019-04-08T15:17:58.1915392Z', 'data_orderbook_end': '2020-07-13T02:35:28.5815804Z', 'data_trade_start': '2017-09-17T11:10:12.5100000Z', 'data_trade_end': '2020-06-02T07:40:04.9800000Z', 'data_symbols_count': 408, 'volume_1hrs_usd': 0, 'volume_1day_usd': 0, 'volume_1mth_usd': 0}\n",
            "{'exchange_id': 'COINEX', 'website': 'https://www.coinex.com/', 'name': 'CoinEx', 'data_start': '2019-10-01', 'data_end': '2021-11-04', 'data_quote_start': '2019-10-01T15:06:43.9334939Z', 'data_quote_end': '2021-11-04T17:19:39.8347557Z', 'data_orderbook_start': '2019-10-01T15:06:43.9334939Z', 'data_orderbook_end': '2020-08-05T14:37:13.4765477Z', 'data_trade_start': '2019-10-01T15:06:46.0000000Z', 'data_trade_end': '2021-11-04T17:18:36.0000000Z', 'data_symbols_count': 1606, 'volume_1hrs_usd': 7407892.88, 'volume_1day_usd': 218281275.36, 'volume_1mth_usd': 7863234444.24}\n",
            "{'exchange_id': 'ZBG', 'website': 'https://www.zbg.com/', 'name': 'ZBG', 'data_start': '2019-04-24', 'data_end': '2021-11-04', 'data_quote_start': '2019-04-24T11:35:18.3537588Z', 'data_quote_end': '2021-11-04T17:19:40.8210493Z', 'data_orderbook_start': '2019-04-24T11:35:18.3537588Z', 'data_orderbook_end': '2020-08-05T14:37:05.3883892Z', 'data_trade_start': '2019-04-24T11:35:18.0000000Z', 'data_trade_end': '2020-07-28T15:22:30.0000000Z', 'data_symbols_count': 472, 'volume_1hrs_usd': 0, 'volume_1day_usd': 0, 'volume_1mth_usd': 0}\n",
            "{'exchange_id': 'BILAXY', 'website': 'https://bilaxy.com/', 'name': 'Bilaxy', 'data_start': '2019-04-08', 'data_end': '2021-08-28', 'data_quote_start': '2019-04-08T15:19:16.4427273Z', 'data_quote_end': '2021-08-28T20:05:49.0355287Z', 'data_orderbook_start': '2019-04-08T15:19:16.4427273Z', 'data_orderbook_end': '2020-08-05T14:38:08.6267539Z', 'data_trade_start': '2019-04-08T15:21:02.0000000Z', 'data_trade_end': '2021-08-28T20:05:13.4530000Z', 'data_symbols_count': 1585, 'volume_1hrs_usd': 0, 'volume_1day_usd': 0, 'volume_1mth_usd': 0}\n",
            "{'exchange_id': 'BITZ', 'website': 'https://www.bit-z.com/', 'name': 'Bit-Z', 'data_start': '2018-03-25', 'data_end': '2021-10-21', 'data_quote_start': '2018-09-09T12:57:17.9973117Z', 'data_quote_end': '2021-10-21T06:22:41.4784518Z', 'data_orderbook_start': '2018-09-09T12:57:17.9973117Z', 'data_orderbook_end': '2020-08-05T14:37:16.4116718Z', 'data_trade_start': '2018-03-25T07:00:01.0000000Z', 'data_trade_end': '2021-10-21T06:24:09.0000000Z', 'data_symbols_count': 685, 'volume_1hrs_usd': 0, 'volume_1day_usd': 0, 'volume_1mth_usd': 111350788245.07}\n",
            "{'exchange_id': 'INDODAX', 'website': 'https://indodax.com/', 'name': 'Indodax', 'data_start': '2019-04-05', 'data_end': '2021-11-04', 'data_quote_start': '2019-04-08T15:18:02.1868547Z', 'data_quote_end': '2021-11-04T17:19:40.0707883Z', 'data_orderbook_start': '2019-04-08T15:18:02.1868547Z', 'data_orderbook_end': '2020-08-05T14:37:40.9015480Z', 'data_trade_start': '2019-04-05T01:28:39.0000000Z', 'data_trade_end': '2021-11-04T17:18:43.0000000Z', 'data_symbols_count': 221, 'volume_1hrs_usd': 2305737525.97, 'volume_1day_usd': 62315449518.24, 'volume_1mth_usd': 5659463380481.45}\n",
            "{'exchange_id': 'WEXNZ', 'website': 'https://wex.nz/', 'name': 'WexNz', 'data_start': '2017-12-22', 'data_end': '2018-11-20', 'data_quote_start': '2017-12-24T13:03:42.9064646Z', 'data_quote_end': '2018-11-20T23:48:42.8822625Z', 'data_orderbook_start': '2017-12-24T13:03:42.9064646Z', 'data_orderbook_end': '2018-11-20T23:48:42.8822625Z', 'data_trade_start': '2017-12-22T07:31:16.0000000Z', 'data_trade_end': '2018-11-20T23:45:53.0000000Z', 'data_symbols_count': 59, 'volume_1hrs_usd': 0, 'volume_1day_usd': 0, 'volume_1mth_usd': 0}\n",
            "{'exchange_id': 'BINANCEFTSUAT', 'website': 'https://www.binance.com/', 'name': 'Binance Futures Testnet (USDT/dapi)', 'data_start': '2020-08-04', 'data_end': '2021-08-01', 'data_quote_start': '2020-08-04T11:26:07.1305490Z', 'data_quote_end': '2021-08-01T09:00:00.2233333Z', 'data_trade_start': '2020-08-04T11:26:06.5310000Z', 'data_trade_end': '2021-08-01T09:00:02.8866667Z', 'data_symbols_count': 160, 'volume_1hrs_usd': 0, 'volume_1day_usd': 0, 'volume_1mth_usd': 0}\n",
            "{'exchange_id': 'BINANCEFTSCUAT', 'website': 'https://www.binance.com/', 'name': 'Binance Futures Testnet (Coin/fapi)', 'data_start': '2020-08-04', 'data_end': '2021-08-01', 'data_quote_start': '2020-08-04T11:26:08.7467945Z', 'data_quote_end': '2021-08-01T09:00:00.2233333Z', 'data_trade_start': '2020-08-04T11:26:08.3450000Z', 'data_trade_end': '2021-08-01T09:00:02.8866667Z', 'data_symbols_count': 93, 'volume_1hrs_usd': 0, 'volume_1day_usd': 0, 'volume_1mth_usd': 0}\n",
            "{'exchange_id': 'BINANCEOPTVUAT', 'website': 'https://www.binance.com/', 'name': 'Binance Options Vanilla Testnet (vapi)', 'data_start': '2021-02-18', 'data_end': '2021-03-13', 'data_quote_start': '2021-02-18T14:41:41.3040000Z', 'data_quote_end': '2021-03-13T22:07:17.0100000Z', 'data_symbols_count': 70, 'volume_1hrs_usd': 0, 'volume_1day_usd': 0, 'volume_1mth_usd': 0}\n",
            "{'exchange_id': 'BINANCEUAT', 'website': 'https://www.binance.com/', 'name': 'Binance Testnet', 'data_symbols_count': 20, 'volume_1hrs_usd': 0, 'volume_1day_usd': 0, 'volume_1mth_usd': 0}\n",
            "{'exchange_id': 'BITMEXUAT', 'website': 'https://www.bitmex.com/', 'name': 'BitMEX Testnet', 'data_symbols_count': 66, 'volume_1hrs_usd': 0, 'volume_1day_usd': 0, 'volume_1mth_usd': 0}\n",
            "{'exchange_id': 'LMAXDIGITALUAT', 'website': 'https://www.lmaxdigital.com/', 'name': 'LMAX Digital (UAT)', 'data_start': '2020-08-10', 'data_end': '2021-08-01', 'data_quote_start': '2020-08-10T13:39:21.5800000Z', 'data_quote_end': '2021-08-01T09:00:00.2233333Z', 'data_trade_start': '2020-08-10T13:51:58.4430000Z', 'data_trade_end': '2021-08-01T09:00:02.8866667Z', 'data_symbols_count': 17, 'volume_1hrs_usd': 0, 'volume_1day_usd': 0, 'volume_1mth_usd': 0}\n"
          ]
        }
      ]
    },
    {
      "cell_type": "markdown",
      "metadata": {
        "id": "rRcs_oPmEJKw"
      },
      "source": [
        "### Extracting Ethereum price data from COIN API\n"
      ]
    },
    {
      "cell_type": "markdown",
      "metadata": {
        "id": "5uMJRYr5cdd6"
      },
      "source": [
        "**List symbols from Kraken for Ethereum**"
      ]
    },
    {
      "cell_type": "code",
      "metadata": {
        "colab": {
          "base_uri": "https://localhost:8080/"
        },
        "id": "fa_aDXay0VbW",
        "outputId": "928af4ad-a746-4160-f4e8-0a0c2fac7848"
      },
      "source": [
        "symbols = api.metadata_list_symbols({'filter_symbol_id':'KRAKEN_SPOT_ETH'})\n",
        "for symbol in symbols:\n",
        "  print(symbol)"
      ],
      "execution_count": 8,
      "outputs": [
        {
          "output_type": "stream",
          "name": "stdout",
          "text": [
            "{'symbol_id': 'KRAKEN_SPOT_ETH_USD', 'exchange_id': 'KRAKEN', 'symbol_type': 'SPOT', 'asset_id_base': 'ETH', 'asset_id_quote': 'USD', 'data_start': '2015-08-10', 'data_end': '2021-11-04', 'data_quote_start': '2015-08-10T13:45:07.8130000Z', 'data_quote_end': '2021-11-04T17:17:09.1241816Z', 'data_orderbook_start': '2015-08-10T13:45:07.8130000Z', 'data_orderbook_end': '2020-08-05T14:37:20.0488795Z', 'data_trade_start': '2016-10-17T14:02:50.4630000Z', 'data_trade_end': '2021-11-04T17:17:13.3460000Z', 'volume_1hrs': 834.1592155, 'volume_1hrs_usd': 3714959.93, 'volume_1day': 29364.31477973, 'volume_1day_usd': 130775097.55, 'volume_1mth': 873967.65280391, 'volume_1mth_usd': 3892248326.09, 'price': 4461.985, 'symbol_id_exchange': 'ETH/USD', 'asset_id_base_exchange': 'XETH', 'asset_id_quote_exchange': 'ZUSD', 'price_precision': 0.01, 'size_precision': 1e-08}\n",
            "{'symbol_id': 'KRAKEN_SPOT_ETH_BTC', 'exchange_id': 'KRAKEN', 'symbol_type': 'SPOT', 'asset_id_base': 'ETH', 'asset_id_quote': 'BTC', 'data_start': '2015-08-10', 'data_end': '2021-11-04', 'data_quote_start': '2015-08-10T13:45:07.8130000Z', 'data_quote_end': '2021-11-04T17:15:27.3183270Z', 'data_orderbook_start': '2015-08-10T13:45:07.8130000Z', 'data_orderbook_end': '2020-08-05T14:37:19.3945036Z', 'data_trade_start': '2016-10-17T13:34:45.7380000Z', 'data_trade_end': '2021-11-04T17:04:32.8850000Z', 'volume_1hrs': 68.55844715, 'volume_1hrs_usd': 305327.66, 'volume_1day': 4633.16457221, 'volume_1day_usd': 20633975.4, 'volume_1mth': 226018.91736516, 'volume_1mth_usd': 1006583882.09, 'price': 0.073085, 'symbol_id_exchange': 'ETH/XBT', 'asset_id_base_exchange': 'XETH', 'asset_id_quote_exchange': 'XXBT', 'price_precision': 1e-05, 'size_precision': 1e-08}\n",
            "{'symbol_id': 'KRAKEN_SPOT_ETH_CAD', 'exchange_id': 'KRAKEN', 'symbol_type': 'SPOT', 'asset_id_base': 'ETH', 'asset_id_quote': 'CAD', 'data_start': '2015-08-10', 'data_end': '2021-11-04', 'data_quote_start': '2015-08-10T13:45:07.8130000Z', 'data_quote_end': '2021-11-04T17:13:43.7878292Z', 'data_orderbook_start': '2015-08-10T13:45:07.8130000Z', 'data_orderbook_end': '2020-08-05T14:37:20.0224883Z', 'data_trade_start': '2016-10-17T18:13:54.8330000Z', 'data_trade_end': '2021-11-04T17:14:47.3880000Z', 'volume_1hrs': 7.5362641, 'volume_1hrs_usd': 33563.04, 'volume_1day': 240.93588495, 'volume_1day_usd': 1073017.17, 'volume_1mth': 12420.85121787, 'volume_1mth_usd': 55316735.36, 'price': 5551.545, 'symbol_id_exchange': 'ETH/CAD', 'asset_id_base_exchange': 'XETH', 'asset_id_quote_exchange': 'ZCAD', 'price_precision': 0.01, 'size_precision': 1e-08}\n",
            "{'symbol_id': 'KRAKEN_SPOT_ETH_GBP', 'exchange_id': 'KRAKEN', 'symbol_type': 'SPOT', 'asset_id_base': 'ETH', 'asset_id_quote': 'GBP', 'data_start': '2015-08-10', 'data_end': '2021-11-04', 'data_quote_start': '2015-08-10T13:45:07.8130000Z', 'data_quote_end': '2021-11-04T17:14:24.0279988Z', 'data_orderbook_start': '2015-08-10T13:45:07.8130000Z', 'data_orderbook_end': '2020-08-05T14:37:19.6705434Z', 'data_trade_start': '2016-10-17T16:51:44.6130000Z', 'data_trade_end': '2021-11-04T17:08:07.9740000Z', 'volume_1hrs': 49.4665327, 'volume_1hrs_usd': 220301.09, 'volume_1day': 2837.50376763, 'volume_1day_usd': 12636931.42, 'volume_1mth': 38735.78060076, 'volume_1mth_usd': 172511278.56, 'price': 3307.465, 'symbol_id_exchange': 'ETH/GBP', 'asset_id_base_exchange': 'XETH', 'asset_id_quote_exchange': 'ZGBP', 'price_precision': 0.01, 'size_precision': 1e-08}\n",
            "{'symbol_id': 'KRAKEN_SPOT_ETH_EUR', 'exchange_id': 'KRAKEN', 'symbol_type': 'SPOT', 'asset_id_base': 'ETH', 'asset_id_quote': 'EUR', 'data_start': '2015-08-10', 'data_end': '2021-11-04', 'data_quote_start': '2015-08-10T13:45:07.8130000Z', 'data_quote_end': '2021-11-04T17:12:15.5822666Z', 'data_orderbook_start': '2015-08-10T13:45:07.8130000Z', 'data_orderbook_end': '2020-08-05T14:37:20.1134164Z', 'data_trade_start': '2016-10-17T13:41:10.5310000Z', 'data_trade_end': '2021-11-04T17:04:04.7490000Z', 'volume_1hrs': 526.72375667, 'volume_1hrs_usd': 2345784.37, 'volume_1day': 16843.93483929, 'volume_1day_usd': 75015107.22, 'volume_1mth': 470851.11066273, 'volume_1mth_usd': 2096953407.18, 'price': 3866.375, 'symbol_id_exchange': 'ETH/EUR', 'asset_id_base_exchange': 'XETH', 'asset_id_quote_exchange': 'ZEUR', 'price_precision': 0.01, 'size_precision': 1e-08}\n",
            "{'symbol_id': 'KRAKEN_SPOT_ETH_JPY', 'exchange_id': 'KRAKEN', 'symbol_type': 'SPOT', 'asset_id_base': 'ETH', 'asset_id_quote': 'JPY', 'data_start': '2015-08-10', 'data_end': '2021-11-04', 'data_quote_start': '2015-08-10T13:45:07.8130000Z', 'data_quote_end': '2021-11-04T17:05:11.5341921Z', 'data_orderbook_start': '2015-08-10T13:45:07.8130000Z', 'data_orderbook_end': '2020-08-05T14:37:20.0838521Z', 'data_trade_start': '2016-10-18T04:27:09.1840000Z', 'data_trade_end': '2021-11-04T16:34:59.5860000Z', 'volume_1day': 17.56573987, 'volume_1day_usd': 78229.69, 'volume_1mth': 1032.83760804, 'volume_1mth_usd': 4599781.74, 'price': 507391.5, 'symbol_id_exchange': 'ETH/JPY', 'asset_id_base_exchange': 'XETH', 'asset_id_quote_exchange': 'ZJPY', 'price_precision': 1.0, 'size_precision': 1e-08}\n",
            "{'symbol_id': 'KRAKEN_SPOT_ETH_DAI', 'exchange_id': 'KRAKEN', 'symbol_type': 'SPOT', 'asset_id_base': 'ETH', 'asset_id_quote': 'DAI', 'data_start': '2019-10-09', 'data_end': '2021-11-04', 'data_quote_start': '2019-10-09T02:13:35.7550000Z', 'data_quote_end': '2021-11-04T17:09:57.0525187Z', 'data_orderbook_start': '2019-10-09T02:13:35.7550000Z', 'data_orderbook_end': '2020-08-05T14:37:10.1335122Z', 'data_trade_start': '2019-10-28T09:38:51.8000000Z', 'data_trade_end': '2021-11-04T16:44:35.5260000Z', 'volume_1hrs': 1.94489656, 'volume_1hrs_usd': 8661.67, 'volume_1day': 120.61915435, 'volume_1day_usd': 537182.01, 'volume_1mth': 6664.00761008, 'volume_1mth_usd': 29678412.45, 'price': 4463.422, 'symbol_id_exchange': 'ETH/DAI', 'asset_id_base_exchange': 'XETH', 'asset_id_quote_exchange': 'DAI', 'price_precision': 0.001, 'size_precision': 1e-08}\n",
            "{'symbol_id': 'KRAKEN_SPOT_ETH_CHF', 'exchange_id': 'KRAKEN', 'symbol_type': 'SPOT', 'asset_id_base': 'ETH', 'asset_id_quote': 'CHF', 'data_start': '2019-12-06', 'data_end': '2021-11-04', 'data_quote_start': '2019-12-06T14:37:17.4618659Z', 'data_quote_end': '2021-11-04T17:17:34.6332911Z', 'data_orderbook_start': '2019-12-06T14:37:17.4618659Z', 'data_orderbook_end': '2020-08-05T14:37:19.1336402Z', 'data_trade_start': '2019-12-06T18:27:38.2390000Z', 'data_trade_end': '2021-11-04T17:15:43.9790000Z', 'volume_1hrs': 3.20836016, 'volume_1hrs_usd': 14288.55, 'volume_1day': 186.61743565, 'volume_1day_usd': 831107.88, 'volume_1mth': 5942.87145563, 'volume_1mth_usd': 26466805.04, 'price': 4079.525, 'symbol_id_exchange': 'ETH/CHF', 'asset_id_base_exchange': 'XETH', 'asset_id_quote_exchange': 'CHF', 'price_precision': 0.01, 'size_precision': 1e-08}\n",
            "{'symbol_id': 'KRAKEN_SPOT_ETH_USDT', 'exchange_id': 'KRAKEN', 'symbol_type': 'SPOT', 'asset_id_base': 'ETH', 'asset_id_quote': 'USDT', 'data_start': '2019-12-20', 'data_end': '2021-11-04', 'data_quote_start': '2019-12-20T02:57:09.4507387Z', 'data_quote_end': '2021-11-04T17:12:01.0968227Z', 'data_orderbook_start': '2019-12-20T02:57:09.4507387Z', 'data_orderbook_end': '2020-08-05T14:37:19.2350022Z', 'data_trade_start': '2019-12-20T05:15:55.8400000Z', 'data_trade_end': '2021-11-04T17:11:08.9410000Z', 'volume_1hrs': 135.82743008, 'volume_1hrs_usd': 604912.65, 'volume_1day': 2221.15321737, 'volume_1day_usd': 9891990.7, 'volume_1mth': 93283.0122523, 'volume_1mth_usd': 415439458.35, 'price': 4458.845, 'symbol_id_exchange': 'ETH/USDT', 'asset_id_base_exchange': 'XETH', 'asset_id_quote_exchange': 'USDT', 'price_precision': 0.01, 'size_precision': 1e-08}\n",
            "{'symbol_id': 'KRAKEN_SPOT_ETH_USDC', 'exchange_id': 'KRAKEN', 'symbol_type': 'SPOT', 'asset_id_base': 'ETH', 'asset_id_quote': 'USDC', 'data_start': '2020-01-08', 'data_end': '2021-11-04', 'data_quote_start': '2020-01-08T17:27:09.5872713Z', 'data_quote_end': '2021-11-04T17:14:58.5928798Z', 'data_orderbook_start': '2020-01-08T17:27:09.5872713Z', 'data_orderbook_end': '2020-08-05T14:37:19.6681206Z', 'data_trade_start': '2020-01-08T17:40:11.5080000Z', 'data_trade_end': '2021-11-04T17:12:17.4310000Z', 'volume_1hrs': 45.63939091, 'volume_1hrs_usd': 203256.77, 'volume_1day': 519.80510185, 'volume_1day_usd': 2314971.88, 'volume_1mth': 42096.90479966, 'volume_1mth_usd': 187480173.57, 'price': 4463.5, 'symbol_id_exchange': 'ETH/USDC', 'asset_id_base_exchange': 'XETH', 'asset_id_quote_exchange': 'USDC', 'price_precision': 0.01, 'size_precision': 1e-08}\n",
            "{'symbol_id': 'KRAKEN_SPOT_ETH_AUD', 'exchange_id': 'KRAKEN', 'symbol_type': 'SPOT', 'asset_id_base': 'ETH', 'asset_id_quote': 'AUD', 'data_start': '2020-06-16', 'data_end': '2021-11-04', 'data_quote_start': '2020-06-16T16:59:39.6745232Z', 'data_quote_end': '2021-11-04T17:15:39.2111756Z', 'data_orderbook_start': '2020-06-16T16:59:39.6745232Z', 'data_orderbook_end': '2020-08-05T14:37:20.0524933Z', 'data_trade_start': '2020-06-16T22:30:13.2660000Z', 'data_trade_end': '2021-11-04T16:04:17.1000000Z', 'volume_1day': 87.90729955, 'volume_1day_usd': 391498.52, 'volume_1mth': 3876.06542087, 'volume_1mth_usd': 17262205.41, 'price': 6049.825, 'symbol_id_exchange': 'ETH/AUD', 'asset_id_base_exchange': 'XETH', 'asset_id_quote_exchange': 'ZAUD', 'price_precision': 0.01, 'size_precision': 1e-08}\n",
            "{'symbol_id': 'KRAKEN_SPOT_ETH2.S_ETH_5A52C6', 'exchange_id': 'KRAKEN', 'symbol_type': 'SPOT', 'asset_id_base': 'ETH2.S', 'asset_id_quote': 'ETH', 'data_start': '2020-12-15', 'data_end': '2021-11-04', 'data_quote_start': '2020-12-15T21:33:16.1854997Z', 'data_quote_end': '2021-11-04T17:00:30.6708384Z', 'data_trade_start': '2020-12-16T00:00:54.9330000Z', 'data_trade_end': '2021-11-04T16:45:00.8060000Z', 'volume_1hrs': 4.128, 'volume_1hrs_usd': 17823.49, 'volume_1day': 101.70378296, 'volume_1day_usd': 439126.96, 'volume_1mth': 4273.17921952, 'volume_1mth_usd': 18450328.49, 'price': 0.9695, 'symbol_id_exchange': 'ETH2.S/ETH', 'asset_id_base_exchange': 'ETH2.S', 'asset_id_quote_exchange': 'XETH', 'price_precision': 0.0001, 'size_precision': 1e-08}\n",
            "{'symbol_id': 'KRAKEN_SPOT_ETH_CHF_57CC84', 'exchange_id': 'KRAKEN', 'symbol_type': 'SPOT', 'asset_id_base': 'ETH', 'asset_id_quote': 'CHF', 'symbol_id_exchange': 'XETH/HF', 'asset_id_base_exchange': 'XETH', 'asset_id_quote_exchange': 'CHF'}\n",
            "{'symbol_id': 'KRAKEN_SPOT_ETH_DAI_57CC88', 'exchange_id': 'KRAKEN', 'symbol_type': 'SPOT', 'asset_id_base': 'ETH', 'asset_id_quote': 'DAI', 'symbol_id_exchange': 'XETH/AI', 'asset_id_base_exchange': 'XETH', 'asset_id_quote_exchange': 'DAI'}\n",
            "{'symbol_id': 'KRAKEN_SPOT_ETH_USDC_57CC8C', 'exchange_id': 'KRAKEN', 'symbol_type': 'SPOT', 'asset_id_base': 'ETH', 'asset_id_quote': 'USDC', 'symbol_id_exchange': 'XETH/SDC', 'asset_id_base_exchange': 'XETH', 'asset_id_quote_exchange': 'USDC'}\n",
            "{'symbol_id': 'KRAKEN_SPOT_ETH_USDT_57CC90', 'exchange_id': 'KRAKEN', 'symbol_type': 'SPOT', 'asset_id_base': 'ETH', 'asset_id_quote': 'USDT', 'symbol_id_exchange': 'XETH/SDT', 'asset_id_base_exchange': 'XETH', 'asset_id_quote_exchange': 'USDT'}\n",
            "{'symbol_id': 'KRAKEN_SPOT_ETH_BTC_57CCE0', 'exchange_id': 'KRAKEN', 'symbol_type': 'SPOT', 'asset_id_base': 'ETH', 'asset_id_quote': 'BTC', 'symbol_id_exchange': 'XETH/XBT', 'asset_id_base_exchange': 'XETH', 'asset_id_quote_exchange': 'XXBT'}\n",
            "{'symbol_id': 'KRAKEN_SPOT_ETH_CAD_57CCE3', 'exchange_id': 'KRAKEN', 'symbol_type': 'SPOT', 'asset_id_base': 'ETH', 'asset_id_quote': 'CAD', 'symbol_id_exchange': 'XETH/CAD', 'asset_id_base_exchange': 'XETH', 'asset_id_quote_exchange': 'ZCAD'}\n",
            "{'symbol_id': 'KRAKEN_SPOT_ETH_EUR_57CCE6', 'exchange_id': 'KRAKEN', 'symbol_type': 'SPOT', 'asset_id_base': 'ETH', 'asset_id_quote': 'EUR', 'symbol_id_exchange': 'XETH/EUR', 'asset_id_base_exchange': 'XETH', 'asset_id_quote_exchange': 'ZEUR'}\n",
            "{'symbol_id': 'KRAKEN_SPOT_ETH_GBP_57CCE8', 'exchange_id': 'KRAKEN', 'symbol_type': 'SPOT', 'asset_id_base': 'ETH', 'asset_id_quote': 'GBP', 'symbol_id_exchange': 'XETH/GBP', 'asset_id_base_exchange': 'XETH', 'asset_id_quote_exchange': 'ZGBP'}\n",
            "{'symbol_id': 'KRAKEN_SPOT_ETH_JPY_57CCEB', 'exchange_id': 'KRAKEN', 'symbol_type': 'SPOT', 'asset_id_base': 'ETH', 'asset_id_quote': 'JPY', 'symbol_id_exchange': 'XETH/JPY', 'asset_id_base_exchange': 'XETH', 'asset_id_quote_exchange': 'ZJPY'}\n",
            "{'symbol_id': 'KRAKEN_SPOT_ETH_USD_57CCEE', 'exchange_id': 'KRAKEN', 'symbol_type': 'SPOT', 'asset_id_base': 'ETH', 'asset_id_quote': 'USD', 'symbol_id_exchange': 'XETH/USD', 'asset_id_base_exchange': 'XETH', 'asset_id_quote_exchange': 'ZUSD'}\n",
            "{'symbol_id': 'KRAKEN_SPOT_ETH2.S_ETH', 'exchange_id': 'KRAKEN', 'symbol_type': 'SPOT', 'asset_id_base': 'ETH2.S', 'asset_id_quote': 'ETH', 'symbol_id_exchange': 'ETH2.S/ETH.SETH', 'asset_id_base_exchange': 'ETH2.S', 'asset_id_quote_exchange': 'XETH'}\n"
          ]
        }
      ]
    },
    {
      "cell_type": "markdown",
      "metadata": {
        "id": "v6gidQqi7gFb"
      },
      "source": [
        "We will use KRAKEN_SPOT_ETH_USD as our symbol id to extract Ethereum price data"
      ]
    },
    {
      "cell_type": "markdown",
      "metadata": {
        "id": "noaQUpvIprzq"
      },
      "source": [
        "#### Total Price Data (10/18/16 to 10/18/22)"
      ]
    },
    {
      "cell_type": "code",
      "metadata": {
        "id": "jycvyOWiU11d"
      },
      "source": [
        "params = {'period_id':'1HRS', 'time_start':'2016-10-18', 'limit':100000}\n",
        "ohlcv_historical = api.ohlcv_historical_data('KRAKEN_SPOT_ETH_USD', params)"
      ],
      "execution_count": null,
      "outputs": []
    },
    {
      "cell_type": "code",
      "metadata": {
        "colab": {
          "base_uri": "https://localhost:8080/",
          "height": 609
        },
        "id": "la898V7TU-se",
        "outputId": "f963b16e-4c5e-4110-df08-9fa32a5d4f72"
      },
      "source": [
        "df_price_total = pd.DataFrame(ohlcv_historical)\n",
        "df_price_total"
      ],
      "execution_count": null,
      "outputs": [
        {
          "output_type": "execute_result",
          "data": {
            "text/html": [
              "<div>\n",
              "<style scoped>\n",
              "    .dataframe tbody tr th:only-of-type {\n",
              "        vertical-align: middle;\n",
              "    }\n",
              "\n",
              "    .dataframe tbody tr th {\n",
              "        vertical-align: top;\n",
              "    }\n",
              "\n",
              "    .dataframe thead th {\n",
              "        text-align: right;\n",
              "    }\n",
              "</style>\n",
              "<table border=\"1\" class=\"dataframe\">\n",
              "  <thead>\n",
              "    <tr style=\"text-align: right;\">\n",
              "      <th></th>\n",
              "      <th>time_period_start</th>\n",
              "      <th>time_period_end</th>\n",
              "      <th>time_open</th>\n",
              "      <th>time_close</th>\n",
              "      <th>price_open</th>\n",
              "      <th>price_high</th>\n",
              "      <th>price_low</th>\n",
              "      <th>price_close</th>\n",
              "      <th>volume_traded</th>\n",
              "      <th>trades_count</th>\n",
              "    </tr>\n",
              "  </thead>\n",
              "  <tbody>\n",
              "    <tr>\n",
              "      <th>0</th>\n",
              "      <td>2016-10-18T00:00:00.0000000Z</td>\n",
              "      <td>2016-10-18T01:00:00.0000000Z</td>\n",
              "      <td>2016-10-18T00:52:09.0760000Z</td>\n",
              "      <td>2016-10-18T00:57:52.6260000Z</td>\n",
              "      <td>12.02591</td>\n",
              "      <td>12.03000</td>\n",
              "      <td>12.02591</td>\n",
              "      <td>12.03000</td>\n",
              "      <td>76.942100</td>\n",
              "      <td>6</td>\n",
              "    </tr>\n",
              "    <tr>\n",
              "      <th>1</th>\n",
              "      <td>2016-10-18T01:00:00.0000000Z</td>\n",
              "      <td>2016-10-18T02:00:00.0000000Z</td>\n",
              "      <td>2016-10-18T01:03:03.6870000Z</td>\n",
              "      <td>2016-10-18T01:57:47.6120000Z</td>\n",
              "      <td>12.03000</td>\n",
              "      <td>12.03000</td>\n",
              "      <td>12.00000</td>\n",
              "      <td>12.00000</td>\n",
              "      <td>146.279800</td>\n",
              "      <td>3</td>\n",
              "    </tr>\n",
              "    <tr>\n",
              "      <th>2</th>\n",
              "      <td>2016-10-18T02:00:00.0000000Z</td>\n",
              "      <td>2016-10-18T03:00:00.0000000Z</td>\n",
              "      <td>2016-10-18T02:00:08.7020000Z</td>\n",
              "      <td>2016-10-18T02:42:04.9700000Z</td>\n",
              "      <td>12.03807</td>\n",
              "      <td>12.07878</td>\n",
              "      <td>12.01021</td>\n",
              "      <td>12.01021</td>\n",
              "      <td>63.027896</td>\n",
              "      <td>11</td>\n",
              "    </tr>\n",
              "    <tr>\n",
              "      <th>3</th>\n",
              "      <td>2016-10-18T03:00:00.0000000Z</td>\n",
              "      <td>2016-10-18T04:00:00.0000000Z</td>\n",
              "      <td>2016-10-18T03:03:15.5860000Z</td>\n",
              "      <td>2016-10-18T03:56:53.1670000Z</td>\n",
              "      <td>12.01486</td>\n",
              "      <td>12.20000</td>\n",
              "      <td>12.01486</td>\n",
              "      <td>12.20000</td>\n",
              "      <td>1303.990710</td>\n",
              "      <td>33</td>\n",
              "    </tr>\n",
              "    <tr>\n",
              "      <th>4</th>\n",
              "      <td>2016-10-18T04:00:00.0000000Z</td>\n",
              "      <td>2016-10-18T05:00:00.0000000Z</td>\n",
              "      <td>2016-10-18T04:01:54.6870000Z</td>\n",
              "      <td>2016-10-18T04:54:47.4520000Z</td>\n",
              "      <td>12.20000</td>\n",
              "      <td>12.48750</td>\n",
              "      <td>12.20000</td>\n",
              "      <td>12.31500</td>\n",
              "      <td>2274.409322</td>\n",
              "      <td>74</td>\n",
              "    </tr>\n",
              "    <tr>\n",
              "      <th>...</th>\n",
              "      <td>...</td>\n",
              "      <td>...</td>\n",
              "      <td>...</td>\n",
              "      <td>...</td>\n",
              "      <td>...</td>\n",
              "      <td>...</td>\n",
              "      <td>...</td>\n",
              "      <td>...</td>\n",
              "      <td>...</td>\n",
              "      <td>...</td>\n",
              "    </tr>\n",
              "    <tr>\n",
              "      <th>43212</th>\n",
              "      <td>2021-10-18T22:00:00.0000000Z</td>\n",
              "      <td>2021-10-18T23:00:00.0000000Z</td>\n",
              "      <td>2021-10-18T22:00:01.0190000Z</td>\n",
              "      <td>2021-10-18T22:59:41.9380000Z</td>\n",
              "      <td>3744.80000</td>\n",
              "      <td>3749.72000</td>\n",
              "      <td>3717.17000</td>\n",
              "      <td>3747.69000</td>\n",
              "      <td>560.601621</td>\n",
              "      <td>808</td>\n",
              "    </tr>\n",
              "    <tr>\n",
              "      <th>43213</th>\n",
              "      <td>2021-10-18T23:00:00.0000000Z</td>\n",
              "      <td>2021-10-19T00:00:00.0000000Z</td>\n",
              "      <td>2021-10-18T23:00:01.1610000Z</td>\n",
              "      <td>2021-10-18T23:59:54.1450000Z</td>\n",
              "      <td>3747.68000</td>\n",
              "      <td>3754.23000</td>\n",
              "      <td>3737.27000</td>\n",
              "      <td>3747.53000</td>\n",
              "      <td>440.403254</td>\n",
              "      <td>584</td>\n",
              "    </tr>\n",
              "    <tr>\n",
              "      <th>43214</th>\n",
              "      <td>2021-10-19T00:00:00.0000000Z</td>\n",
              "      <td>2021-10-19T01:00:00.0000000Z</td>\n",
              "      <td>2021-10-19T00:00:04.2460000Z</td>\n",
              "      <td>2021-10-19T00:59:52.9310000Z</td>\n",
              "      <td>3747.31000</td>\n",
              "      <td>3773.09000</td>\n",
              "      <td>3733.81000</td>\n",
              "      <td>3751.55000</td>\n",
              "      <td>494.775440</td>\n",
              "      <td>822</td>\n",
              "    </tr>\n",
              "    <tr>\n",
              "      <th>43215</th>\n",
              "      <td>2021-10-19T01:00:00.0000000Z</td>\n",
              "      <td>2021-10-19T02:00:00.0000000Z</td>\n",
              "      <td>2021-10-19T01:00:37.8110000Z</td>\n",
              "      <td>2021-10-19T01:59:47.9550000Z</td>\n",
              "      <td>3756.86000</td>\n",
              "      <td>3804.60000</td>\n",
              "      <td>3752.99000</td>\n",
              "      <td>3783.36000</td>\n",
              "      <td>611.278922</td>\n",
              "      <td>946</td>\n",
              "    </tr>\n",
              "    <tr>\n",
              "      <th>43216</th>\n",
              "      <td>2021-10-19T02:00:00.0000000Z</td>\n",
              "      <td>2021-10-19T03:00:00.0000000Z</td>\n",
              "      <td>2021-10-19T02:00:24.7910000Z</td>\n",
              "      <td>2021-10-19T02:13:54.7130000Z</td>\n",
              "      <td>3787.80000</td>\n",
              "      <td>3797.47000</td>\n",
              "      <td>3787.80000</td>\n",
              "      <td>3797.47000</td>\n",
              "      <td>21.377861</td>\n",
              "      <td>95</td>\n",
              "    </tr>\n",
              "  </tbody>\n",
              "</table>\n",
              "<p>43217 rows × 10 columns</p>\n",
              "</div>"
            ],
            "text/plain": [
              "                  time_period_start  ... trades_count\n",
              "0      2016-10-18T00:00:00.0000000Z  ...            6\n",
              "1      2016-10-18T01:00:00.0000000Z  ...            3\n",
              "2      2016-10-18T02:00:00.0000000Z  ...           11\n",
              "3      2016-10-18T03:00:00.0000000Z  ...           33\n",
              "4      2016-10-18T04:00:00.0000000Z  ...           74\n",
              "...                             ...  ...          ...\n",
              "43212  2021-10-18T22:00:00.0000000Z  ...          808\n",
              "43213  2021-10-18T23:00:00.0000000Z  ...          584\n",
              "43214  2021-10-19T00:00:00.0000000Z  ...          822\n",
              "43215  2021-10-19T01:00:00.0000000Z  ...          946\n",
              "43216  2021-10-19T02:00:00.0000000Z  ...           95\n",
              "\n",
              "[43217 rows x 10 columns]"
            ]
          },
          "metadata": {},
          "execution_count": 142
        }
      ]
    },
    {
      "cell_type": "code",
      "metadata": {
        "id": "CtYeJb8BlpL4"
      },
      "source": [
        "df_price_total.to_csv('/content/drive/MyDrive/Academic/Fall 2021/Deep Learning/Project/Data/Raw Data/raw_eth_data_total.csv')"
      ],
      "execution_count": null,
      "outputs": []
    },
    {
      "cell_type": "code",
      "metadata": {
        "colab": {
          "base_uri": "https://localhost:8080/",
          "height": 309
        },
        "id": "I_NMZeTkvc47",
        "outputId": "9a3349d4-e795-43f3-dec5-a70b64661833"
      },
      "source": [
        "coin_data  = json.loads(response.text)\n",
        "eth_data = pd.DataFrame(coin_data)\n",
        "eth_data.tail()"
      ],
      "execution_count": null,
      "outputs": [
        {
          "output_type": "execute_result",
          "data": {
            "text/html": [
              "<div>\n",
              "<style scoped>\n",
              "    .dataframe tbody tr th:only-of-type {\n",
              "        vertical-align: middle;\n",
              "    }\n",
              "\n",
              "    .dataframe tbody tr th {\n",
              "        vertical-align: top;\n",
              "    }\n",
              "\n",
              "    .dataframe thead th {\n",
              "        text-align: right;\n",
              "    }\n",
              "</style>\n",
              "<table border=\"1\" class=\"dataframe\">\n",
              "  <thead>\n",
              "    <tr style=\"text-align: right;\">\n",
              "      <th></th>\n",
              "      <th>time_period_start</th>\n",
              "      <th>time_period_end</th>\n",
              "      <th>time_open</th>\n",
              "      <th>time_close</th>\n",
              "      <th>price_open</th>\n",
              "      <th>price_high</th>\n",
              "      <th>price_low</th>\n",
              "      <th>price_close</th>\n",
              "      <th>volume_traded</th>\n",
              "      <th>trades_count</th>\n",
              "    </tr>\n",
              "  </thead>\n",
              "  <tbody>\n",
              "    <tr>\n",
              "      <th>46479</th>\n",
              "      <td>2021-10-10T16:00:00.0000000Z</td>\n",
              "      <td>2021-10-10T17:00:00.0000000Z</td>\n",
              "      <td>2021-10-10T16:00:00.0971180Z</td>\n",
              "      <td>2021-10-10T16:59:59.2298080Z</td>\n",
              "      <td>3559.55</td>\n",
              "      <td>3565.22</td>\n",
              "      <td>3530.50</td>\n",
              "      <td>3547.80</td>\n",
              "      <td>5705.506028</td>\n",
              "      <td>11675</td>\n",
              "    </tr>\n",
              "    <tr>\n",
              "      <th>46480</th>\n",
              "      <td>2021-10-10T17:00:00.0000000Z</td>\n",
              "      <td>2021-10-10T18:00:00.0000000Z</td>\n",
              "      <td>2021-10-10T17:00:00.1246960Z</td>\n",
              "      <td>2021-10-10T17:59:59.7693550Z</td>\n",
              "      <td>3547.76</td>\n",
              "      <td>3548.34</td>\n",
              "      <td>3504.07</td>\n",
              "      <td>3524.15</td>\n",
              "      <td>8198.766110</td>\n",
              "      <td>15484</td>\n",
              "    </tr>\n",
              "    <tr>\n",
              "      <th>46481</th>\n",
              "      <td>2021-10-10T18:00:00.0000000Z</td>\n",
              "      <td>2021-10-10T19:00:00.0000000Z</td>\n",
              "      <td>2021-10-10T18:00:00.1271330Z</td>\n",
              "      <td>2021-10-10T18:59:58.5317420Z</td>\n",
              "      <td>3524.15</td>\n",
              "      <td>3530.05</td>\n",
              "      <td>3502.34</td>\n",
              "      <td>3528.92</td>\n",
              "      <td>3604.939867</td>\n",
              "      <td>11683</td>\n",
              "    </tr>\n",
              "    <tr>\n",
              "      <th>46482</th>\n",
              "      <td>2021-10-10T19:00:00.0000000Z</td>\n",
              "      <td>2021-10-10T20:00:00.0000000Z</td>\n",
              "      <td>2021-10-10T19:00:00.1715630Z</td>\n",
              "      <td>2021-10-10T19:59:59.7904220Z</td>\n",
              "      <td>3529.10</td>\n",
              "      <td>3534.90</td>\n",
              "      <td>3521.85</td>\n",
              "      <td>3529.65</td>\n",
              "      <td>3124.244314</td>\n",
              "      <td>10519</td>\n",
              "    </tr>\n",
              "    <tr>\n",
              "      <th>46483</th>\n",
              "      <td>2021-10-10T20:00:00.0000000Z</td>\n",
              "      <td>2021-10-10T21:00:00.0000000Z</td>\n",
              "      <td>2021-10-10T20:00:00.1236740Z</td>\n",
              "      <td>2021-10-10T20:59:58.6638130Z</td>\n",
              "      <td>3529.64</td>\n",
              "      <td>3573.90</td>\n",
              "      <td>3508.86</td>\n",
              "      <td>3514.86</td>\n",
              "      <td>11078.583185</td>\n",
              "      <td>20385</td>\n",
              "    </tr>\n",
              "  </tbody>\n",
              "</table>\n",
              "</div>"
            ],
            "text/plain": [
              "                  time_period_start  ... trades_count\n",
              "46479  2021-10-10T16:00:00.0000000Z  ...        11675\n",
              "46480  2021-10-10T17:00:00.0000000Z  ...        15484\n",
              "46481  2021-10-10T18:00:00.0000000Z  ...        11683\n",
              "46482  2021-10-10T19:00:00.0000000Z  ...        10519\n",
              "46483  2021-10-10T20:00:00.0000000Z  ...        20385\n",
              "\n",
              "[5 rows x 10 columns]"
            ]
          },
          "metadata": {},
          "execution_count": 7
        }
      ]
    },
    {
      "cell_type": "code",
      "metadata": {
        "id": "JBtnkGGkvjTk"
      },
      "source": [
        "eth_data.rename(columns = {\n",
        "    \"time_period_start\": \"Start Time\",\n",
        "    \"time_period_end\": \"End Time\",\n",
        "    \"time_open\": \"Open Time\",\n",
        "    \"time_close\": \"Close Time\",\n",
        "    \"price_open\": \"Price Open\",\n",
        "    \"price_high\": \"Price High\",\n",
        "    \"price_low\": \"Price Low\",\n",
        "    \"price_close\": \"Price Close\",\n",
        "    \"volume_traded\": \"Volume Traded\",\n",
        "    \"trades_count\": \"Trade Count\",\n",
        "}, inplace = True)"
      ],
      "execution_count": null,
      "outputs": []
    },
    {
      "cell_type": "code",
      "metadata": {
        "id": "S33GL2enwPCb"
      },
      "source": [
        "reorder_columns = [\n",
        "    'Start Time',\n",
        "    'Price Open',\n",
        "    'Price Close',\n",
        "    'Price High',\n",
        "    'Price Low',\n",
        "    'Volume Traded',\n",
        "    'Trade Count'\n",
        "]\n",
        "\n",
        "eth_data.drop([\"End Time\", \"Open Time\", \"Close Time\"], axis = \"columns\", inplace = True)\n",
        "eth_data = eth_data.reindex(columns = reorder_columns)"
      ],
      "execution_count": null,
      "outputs": []
    },
    {
      "cell_type": "code",
      "metadata": {
        "colab": {
          "base_uri": "https://localhost:8080/"
        },
        "id": "3xWJeg6JwnUV",
        "outputId": "d9d7e5f9-6860-4664-c8cb-ca3fd89b0341"
      },
      "source": [
        "eth_data.info()"
      ],
      "execution_count": null,
      "outputs": [
        {
          "output_type": "stream",
          "name": "stdout",
          "text": [
            "<class 'pandas.core.frame.DataFrame'>\n",
            "RangeIndex: 46484 entries, 0 to 46483\n",
            "Data columns (total 7 columns):\n",
            " #   Column         Non-Null Count  Dtype              \n",
            "---  ------         --------------  -----              \n",
            " 0   Start Time     46484 non-null  datetime64[ns, UTC]\n",
            " 1   Price Open     46484 non-null  float64            \n",
            " 2   Price Close    46484 non-null  float64            \n",
            " 3   Price High     46484 non-null  float64            \n",
            " 4   Price Low      46484 non-null  float64            \n",
            " 5   Volume Traded  46484 non-null  float64            \n",
            " 6   Trade Count    46484 non-null  int64              \n",
            "dtypes: datetime64[ns, UTC](1), float64(5), int64(1)\n",
            "memory usage: 2.5 MB\n"
          ]
        }
      ]
    },
    {
      "cell_type": "code",
      "metadata": {
        "id": "BVcdYciUwoZc"
      },
      "source": [
        "eth_data[\"Start Time\"] = pd.to_datetime(eth_data[\"Start Time\"])"
      ],
      "execution_count": null,
      "outputs": []
    },
    {
      "cell_type": "code",
      "metadata": {
        "colab": {
          "base_uri": "https://localhost:8080/",
          "height": 204
        },
        "id": "KaBPVsLew7QD",
        "outputId": "9b5b0ef4-a9be-412c-f779-1067a5146ded"
      },
      "source": [
        "eth_data.head()"
      ],
      "execution_count": null,
      "outputs": [
        {
          "output_type": "execute_result",
          "data": {
            "text/html": [
              "<div>\n",
              "<style scoped>\n",
              "    .dataframe tbody tr th:only-of-type {\n",
              "        vertical-align: middle;\n",
              "    }\n",
              "\n",
              "    .dataframe tbody tr th {\n",
              "        vertical-align: top;\n",
              "    }\n",
              "\n",
              "    .dataframe thead th {\n",
              "        text-align: right;\n",
              "    }\n",
              "</style>\n",
              "<table border=\"1\" class=\"dataframe\">\n",
              "  <thead>\n",
              "    <tr style=\"text-align: right;\">\n",
              "      <th></th>\n",
              "      <th>Start Time</th>\n",
              "      <th>Price Open</th>\n",
              "      <th>Price Close</th>\n",
              "      <th>Price High</th>\n",
              "      <th>Price Low</th>\n",
              "      <th>Volume Traded</th>\n",
              "      <th>Trade Count</th>\n",
              "    </tr>\n",
              "  </thead>\n",
              "  <tbody>\n",
              "    <tr>\n",
              "      <th>0</th>\n",
              "      <td>2016-05-09 13:00:00+00:00</td>\n",
              "      <td>12.00</td>\n",
              "      <td>9.55</td>\n",
              "      <td>12.00</td>\n",
              "      <td>9.55</td>\n",
              "      <td>432.562115</td>\n",
              "      <td>16</td>\n",
              "    </tr>\n",
              "    <tr>\n",
              "      <th>1</th>\n",
              "      <td>2016-05-09 14:00:00+00:00</td>\n",
              "      <td>10.00</td>\n",
              "      <td>10.00</td>\n",
              "      <td>10.00</td>\n",
              "      <td>10.00</td>\n",
              "      <td>235.774075</td>\n",
              "      <td>8</td>\n",
              "    </tr>\n",
              "    <tr>\n",
              "      <th>2</th>\n",
              "      <td>2016-05-09 15:00:00+00:00</td>\n",
              "      <td>9.99</td>\n",
              "      <td>9.99</td>\n",
              "      <td>9.99</td>\n",
              "      <td>9.99</td>\n",
              "      <td>10.973567</td>\n",
              "      <td>2</td>\n",
              "    </tr>\n",
              "    <tr>\n",
              "      <th>3</th>\n",
              "      <td>2016-05-09 16:00:00+00:00</td>\n",
              "      <td>9.79</td>\n",
              "      <td>9.83</td>\n",
              "      <td>9.83</td>\n",
              "      <td>9.79</td>\n",
              "      <td>62.379450</td>\n",
              "      <td>3</td>\n",
              "    </tr>\n",
              "    <tr>\n",
              "      <th>4</th>\n",
              "      <td>2016-05-09 17:00:00+00:00</td>\n",
              "      <td>9.79</td>\n",
              "      <td>9.49</td>\n",
              "      <td>9.79</td>\n",
              "      <td>9.48</td>\n",
              "      <td>329.553213</td>\n",
              "      <td>10</td>\n",
              "    </tr>\n",
              "  </tbody>\n",
              "</table>\n",
              "</div>"
            ],
            "text/plain": [
              "                 Start Time  Price Open  ...  Volume Traded  Trade Count\n",
              "0 2016-05-09 13:00:00+00:00       12.00  ...     432.562115           16\n",
              "1 2016-05-09 14:00:00+00:00       10.00  ...     235.774075            8\n",
              "2 2016-05-09 15:00:00+00:00        9.99  ...      10.973567            2\n",
              "3 2016-05-09 16:00:00+00:00        9.79  ...      62.379450            3\n",
              "4 2016-05-09 17:00:00+00:00        9.79  ...     329.553213           10\n",
              "\n",
              "[5 rows x 7 columns]"
            ]
          },
          "metadata": {},
          "execution_count": 16
        }
      ]
    },
    {
      "cell_type": "markdown",
      "metadata": {
        "id": "5yGVo1QBBW-L"
      },
      "source": [
        "### Extracting DAI Price data"
      ]
    },
    {
      "cell_type": "code",
      "metadata": {
        "colab": {
          "base_uri": "https://localhost:8080/"
        },
        "id": "VlhLZzsKBxJ1",
        "outputId": "cca115fa-63a3-4747-d138-653387791c41"
      },
      "source": [
        "symbols = api.metadata_list_symbols({'filter_symbol_id':'KRAKEN_SPOT_DAI'})\n",
        "for symbol in symbols:\n",
        "  print(symbol)"
      ],
      "execution_count": 9,
      "outputs": [
        {
          "output_type": "stream",
          "name": "stdout",
          "text": [
            "{'symbol_id': 'KRAKEN_SPOT_DAI_USDT', 'exchange_id': 'KRAKEN', 'symbol_type': 'SPOT', 'asset_id_base': 'DAI', 'asset_id_quote': 'USDT', 'data_start': '2019-09-26', 'data_end': '2021-11-04', 'data_quote_start': '2019-09-26T03:33:40.0500000Z', 'data_quote_end': '2021-11-04T17:07:56.4844604Z', 'data_orderbook_start': '2019-09-26T03:33:40.0500000Z', 'data_orderbook_end': '2020-08-05T14:37:20.1050299Z', 'data_trade_start': '2019-10-28T09:38:52.1580000Z', 'data_trade_end': '2021-11-04T17:08:04.5600000Z', 'volume_1hrs': 640968.5431679, 'volume_1hrs_usd': 640537.42, 'volume_1day': 1789942.3559558, 'volume_1day_usd': 1788738.43, 'volume_1mth': 28832032.76885669, 'volume_1mth_usd': 28812640.16, 'price': 0.99909, 'symbol_id_exchange': 'DAI/USDT', 'asset_id_base_exchange': 'DAI', 'asset_id_quote_exchange': 'USDT', 'price_precision': 1e-05, 'size_precision': 1e-08}\n",
            "{'symbol_id': 'KRAKEN_SPOT_DAI_USD', 'exchange_id': 'KRAKEN', 'symbol_type': 'SPOT', 'asset_id_base': 'DAI', 'asset_id_quote': 'USD', 'data_start': '2019-09-28', 'data_end': '2021-11-04', 'data_quote_start': '2019-09-28T08:16:55.6460000Z', 'data_quote_end': '2021-11-04T17:09:34.4938604Z', 'data_orderbook_start': '2019-09-28T08:16:55.6460000Z', 'data_orderbook_end': '2020-08-05T14:37:06.3439892Z', 'data_trade_start': '2019-10-24T17:36:07.5820000Z', 'data_trade_end': '2021-11-04T17:09:56.2950000Z', 'volume_1hrs': 151778.39315459, 'volume_1hrs_usd': 151676.31, 'volume_1day': 4965164.34041592, 'volume_1day_usd': 4961824.74, 'volume_1mth': 110885342.40823267, 'volume_1mth_usd': 110810760.21, 'price': 0.999785, 'symbol_id_exchange': 'DAI/USD', 'asset_id_base_exchange': 'DAI', 'asset_id_quote_exchange': 'ZUSD', 'price_precision': 1e-05, 'size_precision': 1e-08}\n",
            "{'symbol_id': 'KRAKEN_SPOT_DAI_EUR', 'exchange_id': 'KRAKEN', 'symbol_type': 'SPOT', 'asset_id_base': 'DAI', 'asset_id_quote': 'EUR', 'data_start': '2019-10-17', 'data_end': '2021-11-04', 'data_quote_start': '2019-10-17T23:06:20.4470000Z', 'data_quote_end': '2021-11-04T17:17:54.4735345Z', 'data_orderbook_start': '2019-10-17T23:06:20.4470000Z', 'data_orderbook_end': '2020-08-05T14:37:20.0667181Z', 'data_trade_start': '2019-10-24T18:06:00.8950000Z', 'data_trade_end': '2021-11-04T17:10:12.6380000Z', 'volume_1hrs': 67407.37046394, 'volume_1hrs_usd': 67362.03, 'volume_1day': 5784156.50328153, 'volume_1day_usd': 5780266.04, 'volume_1mth': 71817651.31516556, 'volume_1mth_usd': 71769346.3, 'price': 0.866465, 'symbol_id_exchange': 'DAI/EUR', 'asset_id_base_exchange': 'DAI', 'asset_id_quote_exchange': 'ZEUR', 'price_precision': 1e-05, 'size_precision': 1e-08}\n",
            "{'symbol_id': 'KRAKEN_SPOT_DAI_USDT_57CC80', 'exchange_id': 'KRAKEN', 'symbol_type': 'SPOT', 'asset_id_base': 'DAI', 'asset_id_quote': 'USDT', 'symbol_id_exchange': 'DAI/SDT', 'asset_id_base_exchange': 'DAI', 'asset_id_quote_exchange': 'USDT'}\n"
          ]
        }
      ]
    },
    {
      "cell_type": "code",
      "metadata": {
        "id": "CTLxMp05Bh1I"
      },
      "source": [
        "params = {'period_id':'1HRS', 'time_start':'2019-10-18','time_end':'2021-10-19', 'limit':100000}\n",
        "ohlcv_DAI = api.ohlcv_historical_data('KRAKEN_SPOT_DAI_USD', params)"
      ],
      "execution_count": 13,
      "outputs": []
    },
    {
      "cell_type": "code",
      "metadata": {
        "colab": {
          "base_uri": "https://localhost:8080/",
          "height": 450
        },
        "id": "uwZch-cZT2Jv",
        "outputId": "c2ea5854-f1be-4b25-a7f2-5224416e8f6d"
      },
      "source": [
        "DAI = process_data(ohlcv_DAI)\n",
        "DAI"
      ],
      "execution_count": 56,
      "outputs": [
        {
          "output_type": "execute_result",
          "data": {
            "text/html": [
              "<div>\n",
              "<style scoped>\n",
              "    .dataframe tbody tr th:only-of-type {\n",
              "        vertical-align: middle;\n",
              "    }\n",
              "\n",
              "    .dataframe tbody tr th {\n",
              "        vertical-align: top;\n",
              "    }\n",
              "\n",
              "    .dataframe thead th {\n",
              "        text-align: right;\n",
              "    }\n",
              "</style>\n",
              "<table border=\"1\" class=\"dataframe\">\n",
              "  <thead>\n",
              "    <tr style=\"text-align: right;\">\n",
              "      <th></th>\n",
              "      <th>Open</th>\n",
              "      <th>High</th>\n",
              "      <th>Low</th>\n",
              "      <th>Close</th>\n",
              "      <th>Volume</th>\n",
              "      <th>Trades_Count</th>\n",
              "    </tr>\n",
              "    <tr>\n",
              "      <th>Time</th>\n",
              "      <th></th>\n",
              "      <th></th>\n",
              "      <th></th>\n",
              "      <th></th>\n",
              "      <th></th>\n",
              "      <th></th>\n",
              "    </tr>\n",
              "  </thead>\n",
              "  <tbody>\n",
              "    <tr>\n",
              "      <th>2019-10-24 17:00:00+00:00</th>\n",
              "      <td>1.00713</td>\n",
              "      <td>1.00713</td>\n",
              "      <td>1.00713</td>\n",
              "      <td>1.00713</td>\n",
              "      <td>6261.291420</td>\n",
              "      <td>5</td>\n",
              "    </tr>\n",
              "    <tr>\n",
              "      <th>2019-10-24 18:00:00+00:00</th>\n",
              "      <td>1.01126</td>\n",
              "      <td>1.01126</td>\n",
              "      <td>1.01126</td>\n",
              "      <td>1.01126</td>\n",
              "      <td>66.219644</td>\n",
              "      <td>1</td>\n",
              "    </tr>\n",
              "    <tr>\n",
              "      <th>2019-10-24 19:00:00+00:00</th>\n",
              "      <td>1.01124</td>\n",
              "      <td>1.01155</td>\n",
              "      <td>1.00736</td>\n",
              "      <td>1.01143</td>\n",
              "      <td>2421.797286</td>\n",
              "      <td>27</td>\n",
              "    </tr>\n",
              "    <tr>\n",
              "      <th>2019-10-24 20:00:00+00:00</th>\n",
              "      <td>1.00754</td>\n",
              "      <td>1.00754</td>\n",
              "      <td>1.00628</td>\n",
              "      <td>1.00628</td>\n",
              "      <td>1100.000000</td>\n",
              "      <td>5</td>\n",
              "    </tr>\n",
              "    <tr>\n",
              "      <th>2019-10-24 21:00:00+00:00</th>\n",
              "      <td>1.01103</td>\n",
              "      <td>1.01104</td>\n",
              "      <td>1.01103</td>\n",
              "      <td>1.01104</td>\n",
              "      <td>514.054665</td>\n",
              "      <td>5</td>\n",
              "    </tr>\n",
              "    <tr>\n",
              "      <th>...</th>\n",
              "      <td>...</td>\n",
              "      <td>...</td>\n",
              "      <td>...</td>\n",
              "      <td>...</td>\n",
              "      <td>...</td>\n",
              "      <td>...</td>\n",
              "    </tr>\n",
              "    <tr>\n",
              "      <th>2021-10-18 19:00:00+00:00</th>\n",
              "      <td>0.99965</td>\n",
              "      <td>0.99975</td>\n",
              "      <td>0.99900</td>\n",
              "      <td>0.99935</td>\n",
              "      <td>174445.424290</td>\n",
              "      <td>182</td>\n",
              "    </tr>\n",
              "    <tr>\n",
              "      <th>2021-10-18 20:00:00+00:00</th>\n",
              "      <td>0.99936</td>\n",
              "      <td>0.99977</td>\n",
              "      <td>0.99931</td>\n",
              "      <td>0.99945</td>\n",
              "      <td>144056.677378</td>\n",
              "      <td>439</td>\n",
              "    </tr>\n",
              "    <tr>\n",
              "      <th>2021-10-18 21:00:00+00:00</th>\n",
              "      <td>0.99949</td>\n",
              "      <td>0.99963</td>\n",
              "      <td>0.99931</td>\n",
              "      <td>0.99962</td>\n",
              "      <td>56570.420003</td>\n",
              "      <td>149</td>\n",
              "    </tr>\n",
              "    <tr>\n",
              "      <th>2021-10-18 22:00:00+00:00</th>\n",
              "      <td>0.99963</td>\n",
              "      <td>0.99967</td>\n",
              "      <td>0.99932</td>\n",
              "      <td>0.99958</td>\n",
              "      <td>28150.516575</td>\n",
              "      <td>112</td>\n",
              "    </tr>\n",
              "    <tr>\n",
              "      <th>2021-10-18 23:00:00+00:00</th>\n",
              "      <td>0.99958</td>\n",
              "      <td>0.99972</td>\n",
              "      <td>0.99952</td>\n",
              "      <td>0.99957</td>\n",
              "      <td>24626.054745</td>\n",
              "      <td>98</td>\n",
              "    </tr>\n",
              "  </tbody>\n",
              "</table>\n",
              "<p>16414 rows × 6 columns</p>\n",
              "</div>"
            ],
            "text/plain": [
              "                              Open     High  ...         Volume  Trades_Count\n",
              "Time                                         ...                             \n",
              "2019-10-24 17:00:00+00:00  1.00713  1.00713  ...    6261.291420             5\n",
              "2019-10-24 18:00:00+00:00  1.01126  1.01126  ...      66.219644             1\n",
              "2019-10-24 19:00:00+00:00  1.01124  1.01155  ...    2421.797286            27\n",
              "2019-10-24 20:00:00+00:00  1.00754  1.00754  ...    1100.000000             5\n",
              "2019-10-24 21:00:00+00:00  1.01103  1.01104  ...     514.054665             5\n",
              "...                            ...      ...  ...            ...           ...\n",
              "2021-10-18 19:00:00+00:00  0.99965  0.99975  ...  174445.424290           182\n",
              "2021-10-18 20:00:00+00:00  0.99936  0.99977  ...  144056.677378           439\n",
              "2021-10-18 21:00:00+00:00  0.99949  0.99963  ...   56570.420003           149\n",
              "2021-10-18 22:00:00+00:00  0.99963  0.99967  ...   28150.516575           112\n",
              "2021-10-18 23:00:00+00:00  0.99958  0.99972  ...   24626.054745            98\n",
              "\n",
              "[16414 rows x 6 columns]"
            ]
          },
          "metadata": {},
          "execution_count": 56
        }
      ]
    },
    {
      "cell_type": "code",
      "metadata": {
        "id": "FYAix13TUAbY"
      },
      "source": [
        "DAI.to_csv('DAI_1h_data.csv')"
      ],
      "execution_count": 57,
      "outputs": []
    },
    {
      "cell_type": "markdown",
      "metadata": {
        "id": "Cbx4BVBrBbek"
      },
      "source": [
        "### Extracting OmiseGO Coin data (OMG)"
      ]
    },
    {
      "cell_type": "code",
      "metadata": {
        "id": "MPLsWNUqBahe"
      },
      "source": [
        "symbols = api.metadata_list_symbols({'filter_symbol_id':'OMG'})\n",
        "for symbol in symbols:\n",
        "  print(symbol)"
      ],
      "execution_count": null,
      "outputs": []
    },
    {
      "cell_type": "code",
      "metadata": {
        "colab": {
          "base_uri": "https://localhost:8080/",
          "height": 324
        },
        "id": "mSgaVtJKQuE4",
        "outputId": "ab80f318-1201-4067-ff0e-1386d3283666"
      },
      "source": [
        "params = {'period_id':'1HRS', 'time_start':'2019-10-18','time_end':'2021-10-19', 'limit':100000}\n",
        "ohlcv_OMG = api.ohlcv_historical_data('BINANCE_SPOT_OMG_USDT', params)"
      ],
      "execution_count": 54,
      "outputs": [
        {
          "output_type": "error",
          "ename": "HTTPError",
          "evalue": "ignored",
          "traceback": [
            "\u001b[0;31m---------------------------------------------------------------------------\u001b[0m",
            "\u001b[0;31mHTTPError\u001b[0m                                 Traceback (most recent call last)",
            "\u001b[0;32m<ipython-input-54-efdf18a7fccd>\u001b[0m in \u001b[0;36m<module>\u001b[0;34m()\u001b[0m\n\u001b[1;32m      1\u001b[0m \u001b[0mparams\u001b[0m \u001b[0;34m=\u001b[0m \u001b[0;34m{\u001b[0m\u001b[0;34m'period_id'\u001b[0m\u001b[0;34m:\u001b[0m\u001b[0;34m'1HRS'\u001b[0m\u001b[0;34m,\u001b[0m \u001b[0;34m'time_start'\u001b[0m\u001b[0;34m:\u001b[0m\u001b[0;34m'2019-10-18'\u001b[0m\u001b[0;34m,\u001b[0m\u001b[0;34m'time_end'\u001b[0m\u001b[0;34m:\u001b[0m\u001b[0;34m'2021-10-19'\u001b[0m\u001b[0;34m,\u001b[0m \u001b[0;34m'limit'\u001b[0m\u001b[0;34m:\u001b[0m\u001b[0;36m100000\u001b[0m\u001b[0;34m}\u001b[0m\u001b[0;34m\u001b[0m\u001b[0;34m\u001b[0m\u001b[0m\n\u001b[0;32m----> 2\u001b[0;31m \u001b[0mohlcv_OMG\u001b[0m \u001b[0;34m=\u001b[0m \u001b[0mapi\u001b[0m\u001b[0;34m.\u001b[0m\u001b[0mohlcv_historical_data\u001b[0m\u001b[0;34m(\u001b[0m\u001b[0;34m'BINANCE_SPOT_OMG_USDT'\u001b[0m\u001b[0;34m,\u001b[0m \u001b[0mparams\u001b[0m\u001b[0;34m)\u001b[0m\u001b[0;34m\u001b[0m\u001b[0;34m\u001b[0m\u001b[0m\n\u001b[0m",
            "\u001b[0;32m/usr/local/lib/python3.7/dist-packages/coinapi_rest_v1/restapi.py\u001b[0m in \u001b[0;36mohlcv_historical_data\u001b[0;34m(self, symbol_id, query_parameters)\u001b[0m\n\u001b[1;32m    252\u001b[0m                                    \u001b[0mself\u001b[0m\u001b[0;34m.\u001b[0m\u001b[0mheaders\u001b[0m\u001b[0;34m,\u001b[0m\u001b[0;34m\u001b[0m\u001b[0;34m\u001b[0m\u001b[0m\n\u001b[1;32m    253\u001b[0m                                    request.query_parameters)\n\u001b[0;32m--> 254\u001b[0;31m         \u001b[0;32mreturn\u001b[0m \u001b[0mclient\u001b[0m\u001b[0;34m.\u001b[0m\u001b[0mperform\u001b[0m\u001b[0;34m(\u001b[0m\u001b[0;34m)\u001b[0m\u001b[0;34m\u001b[0m\u001b[0;34m\u001b[0m\u001b[0m\n\u001b[0m\u001b[1;32m    255\u001b[0m \u001b[0;34m\u001b[0m\u001b[0m\n\u001b[1;32m    256\u001b[0m     def trades_latest_data_all(self,\n",
            "\u001b[0;32m/usr/local/lib/python3.7/dist-packages/coinapi_rest_v1/restapi.py\u001b[0m in \u001b[0;36mperform\u001b[0;34m(self)\u001b[0m\n\u001b[1;32m     20\u001b[0m \u001b[0;34m\u001b[0m\u001b[0m\n\u001b[1;32m     21\u001b[0m         \u001b[0mrequest\u001b[0m \u001b[0;34m=\u001b[0m \u001b[0murllib\u001b[0m\u001b[0;34m.\u001b[0m\u001b[0mrequest\u001b[0m\u001b[0;34m.\u001b[0m\u001b[0mRequest\u001b[0m\u001b[0;34m(\u001b[0m\u001b[0mresource\u001b[0m\u001b[0;34m,\u001b[0m \u001b[0mheaders\u001b[0m\u001b[0;34m=\u001b[0m\u001b[0mself\u001b[0m\u001b[0;34m.\u001b[0m\u001b[0mheaders\u001b[0m\u001b[0;34m)\u001b[0m\u001b[0;34m\u001b[0m\u001b[0;34m\u001b[0m\u001b[0m\n\u001b[0;32m---> 22\u001b[0;31m         \u001b[0mhandler\u001b[0m \u001b[0;34m=\u001b[0m \u001b[0murllib\u001b[0m\u001b[0;34m.\u001b[0m\u001b[0mrequest\u001b[0m\u001b[0;34m.\u001b[0m\u001b[0murlopen\u001b[0m\u001b[0;34m(\u001b[0m\u001b[0mrequest\u001b[0m\u001b[0;34m)\u001b[0m\u001b[0;34m\u001b[0m\u001b[0;34m\u001b[0m\u001b[0m\n\u001b[0m\u001b[1;32m     23\u001b[0m         \u001b[0mraw_response\u001b[0m \u001b[0;34m=\u001b[0m \u001b[0mhandler\u001b[0m\u001b[0;34m.\u001b[0m\u001b[0mread\u001b[0m\u001b[0;34m(\u001b[0m\u001b[0;34m)\u001b[0m\u001b[0;34m\u001b[0m\u001b[0;34m\u001b[0m\u001b[0m\n\u001b[1;32m     24\u001b[0m \u001b[0;34m\u001b[0m\u001b[0m\n",
            "\u001b[0;32m/usr/lib/python3.7/urllib/request.py\u001b[0m in \u001b[0;36murlopen\u001b[0;34m(url, data, timeout, cafile, capath, cadefault, context)\u001b[0m\n\u001b[1;32m    220\u001b[0m     \u001b[0;32melse\u001b[0m\u001b[0;34m:\u001b[0m\u001b[0;34m\u001b[0m\u001b[0;34m\u001b[0m\u001b[0m\n\u001b[1;32m    221\u001b[0m         \u001b[0mopener\u001b[0m \u001b[0;34m=\u001b[0m \u001b[0m_opener\u001b[0m\u001b[0;34m\u001b[0m\u001b[0;34m\u001b[0m\u001b[0m\n\u001b[0;32m--> 222\u001b[0;31m     \u001b[0;32mreturn\u001b[0m \u001b[0mopener\u001b[0m\u001b[0;34m.\u001b[0m\u001b[0mopen\u001b[0m\u001b[0;34m(\u001b[0m\u001b[0murl\u001b[0m\u001b[0;34m,\u001b[0m \u001b[0mdata\u001b[0m\u001b[0;34m,\u001b[0m \u001b[0mtimeout\u001b[0m\u001b[0;34m)\u001b[0m\u001b[0;34m\u001b[0m\u001b[0;34m\u001b[0m\u001b[0m\n\u001b[0m\u001b[1;32m    223\u001b[0m \u001b[0;34m\u001b[0m\u001b[0m\n\u001b[1;32m    224\u001b[0m \u001b[0;32mdef\u001b[0m \u001b[0minstall_opener\u001b[0m\u001b[0;34m(\u001b[0m\u001b[0mopener\u001b[0m\u001b[0;34m)\u001b[0m\u001b[0;34m:\u001b[0m\u001b[0;34m\u001b[0m\u001b[0;34m\u001b[0m\u001b[0m\n",
            "\u001b[0;32m/usr/lib/python3.7/urllib/request.py\u001b[0m in \u001b[0;36mopen\u001b[0;34m(self, fullurl, data, timeout)\u001b[0m\n\u001b[1;32m    529\u001b[0m         \u001b[0;32mfor\u001b[0m \u001b[0mprocessor\u001b[0m \u001b[0;32min\u001b[0m \u001b[0mself\u001b[0m\u001b[0;34m.\u001b[0m\u001b[0mprocess_response\u001b[0m\u001b[0;34m.\u001b[0m\u001b[0mget\u001b[0m\u001b[0;34m(\u001b[0m\u001b[0mprotocol\u001b[0m\u001b[0;34m,\u001b[0m \u001b[0;34m[\u001b[0m\u001b[0;34m]\u001b[0m\u001b[0;34m)\u001b[0m\u001b[0;34m:\u001b[0m\u001b[0;34m\u001b[0m\u001b[0;34m\u001b[0m\u001b[0m\n\u001b[1;32m    530\u001b[0m             \u001b[0mmeth\u001b[0m \u001b[0;34m=\u001b[0m \u001b[0mgetattr\u001b[0m\u001b[0;34m(\u001b[0m\u001b[0mprocessor\u001b[0m\u001b[0;34m,\u001b[0m \u001b[0mmeth_name\u001b[0m\u001b[0;34m)\u001b[0m\u001b[0;34m\u001b[0m\u001b[0;34m\u001b[0m\u001b[0m\n\u001b[0;32m--> 531\u001b[0;31m             \u001b[0mresponse\u001b[0m \u001b[0;34m=\u001b[0m \u001b[0mmeth\u001b[0m\u001b[0;34m(\u001b[0m\u001b[0mreq\u001b[0m\u001b[0;34m,\u001b[0m \u001b[0mresponse\u001b[0m\u001b[0;34m)\u001b[0m\u001b[0;34m\u001b[0m\u001b[0;34m\u001b[0m\u001b[0m\n\u001b[0m\u001b[1;32m    532\u001b[0m \u001b[0;34m\u001b[0m\u001b[0m\n\u001b[1;32m    533\u001b[0m         \u001b[0;32mreturn\u001b[0m \u001b[0mresponse\u001b[0m\u001b[0;34m\u001b[0m\u001b[0;34m\u001b[0m\u001b[0m\n",
            "\u001b[0;32m/usr/lib/python3.7/urllib/request.py\u001b[0m in \u001b[0;36mhttp_response\u001b[0;34m(self, request, response)\u001b[0m\n\u001b[1;32m    639\u001b[0m         \u001b[0;32mif\u001b[0m \u001b[0;32mnot\u001b[0m \u001b[0;34m(\u001b[0m\u001b[0;36m200\u001b[0m \u001b[0;34m<=\u001b[0m \u001b[0mcode\u001b[0m \u001b[0;34m<\u001b[0m \u001b[0;36m300\u001b[0m\u001b[0;34m)\u001b[0m\u001b[0;34m:\u001b[0m\u001b[0;34m\u001b[0m\u001b[0;34m\u001b[0m\u001b[0m\n\u001b[1;32m    640\u001b[0m             response = self.parent.error(\n\u001b[0;32m--> 641\u001b[0;31m                 'http', request, response, code, msg, hdrs)\n\u001b[0m\u001b[1;32m    642\u001b[0m \u001b[0;34m\u001b[0m\u001b[0m\n\u001b[1;32m    643\u001b[0m         \u001b[0;32mreturn\u001b[0m \u001b[0mresponse\u001b[0m\u001b[0;34m\u001b[0m\u001b[0;34m\u001b[0m\u001b[0m\n",
            "\u001b[0;32m/usr/lib/python3.7/urllib/request.py\u001b[0m in \u001b[0;36merror\u001b[0;34m(self, proto, *args)\u001b[0m\n\u001b[1;32m    567\u001b[0m         \u001b[0;32mif\u001b[0m \u001b[0mhttp_err\u001b[0m\u001b[0;34m:\u001b[0m\u001b[0;34m\u001b[0m\u001b[0;34m\u001b[0m\u001b[0m\n\u001b[1;32m    568\u001b[0m             \u001b[0margs\u001b[0m \u001b[0;34m=\u001b[0m \u001b[0;34m(\u001b[0m\u001b[0mdict\u001b[0m\u001b[0;34m,\u001b[0m \u001b[0;34m'default'\u001b[0m\u001b[0;34m,\u001b[0m \u001b[0;34m'http_error_default'\u001b[0m\u001b[0;34m)\u001b[0m \u001b[0;34m+\u001b[0m \u001b[0morig_args\u001b[0m\u001b[0;34m\u001b[0m\u001b[0;34m\u001b[0m\u001b[0m\n\u001b[0;32m--> 569\u001b[0;31m             \u001b[0;32mreturn\u001b[0m \u001b[0mself\u001b[0m\u001b[0;34m.\u001b[0m\u001b[0m_call_chain\u001b[0m\u001b[0;34m(\u001b[0m\u001b[0;34m*\u001b[0m\u001b[0margs\u001b[0m\u001b[0;34m)\u001b[0m\u001b[0;34m\u001b[0m\u001b[0;34m\u001b[0m\u001b[0m\n\u001b[0m\u001b[1;32m    570\u001b[0m \u001b[0;34m\u001b[0m\u001b[0m\n\u001b[1;32m    571\u001b[0m \u001b[0;31m# XXX probably also want an abstract factory that knows when it makes\u001b[0m\u001b[0;34m\u001b[0m\u001b[0;34m\u001b[0m\u001b[0;34m\u001b[0m\u001b[0m\n",
            "\u001b[0;32m/usr/lib/python3.7/urllib/request.py\u001b[0m in \u001b[0;36m_call_chain\u001b[0;34m(self, chain, kind, meth_name, *args)\u001b[0m\n\u001b[1;32m    501\u001b[0m         \u001b[0;32mfor\u001b[0m \u001b[0mhandler\u001b[0m \u001b[0;32min\u001b[0m \u001b[0mhandlers\u001b[0m\u001b[0;34m:\u001b[0m\u001b[0;34m\u001b[0m\u001b[0;34m\u001b[0m\u001b[0m\n\u001b[1;32m    502\u001b[0m             \u001b[0mfunc\u001b[0m \u001b[0;34m=\u001b[0m \u001b[0mgetattr\u001b[0m\u001b[0;34m(\u001b[0m\u001b[0mhandler\u001b[0m\u001b[0;34m,\u001b[0m \u001b[0mmeth_name\u001b[0m\u001b[0;34m)\u001b[0m\u001b[0;34m\u001b[0m\u001b[0;34m\u001b[0m\u001b[0m\n\u001b[0;32m--> 503\u001b[0;31m             \u001b[0mresult\u001b[0m \u001b[0;34m=\u001b[0m \u001b[0mfunc\u001b[0m\u001b[0;34m(\u001b[0m\u001b[0;34m*\u001b[0m\u001b[0margs\u001b[0m\u001b[0;34m)\u001b[0m\u001b[0;34m\u001b[0m\u001b[0;34m\u001b[0m\u001b[0m\n\u001b[0m\u001b[1;32m    504\u001b[0m             \u001b[0;32mif\u001b[0m \u001b[0mresult\u001b[0m \u001b[0;32mis\u001b[0m \u001b[0;32mnot\u001b[0m \u001b[0;32mNone\u001b[0m\u001b[0;34m:\u001b[0m\u001b[0;34m\u001b[0m\u001b[0;34m\u001b[0m\u001b[0m\n\u001b[1;32m    505\u001b[0m                 \u001b[0;32mreturn\u001b[0m \u001b[0mresult\u001b[0m\u001b[0;34m\u001b[0m\u001b[0;34m\u001b[0m\u001b[0m\n",
            "\u001b[0;32m/usr/lib/python3.7/urllib/request.py\u001b[0m in \u001b[0;36mhttp_error_default\u001b[0;34m(self, req, fp, code, msg, hdrs)\u001b[0m\n\u001b[1;32m    647\u001b[0m \u001b[0;32mclass\u001b[0m \u001b[0mHTTPDefaultErrorHandler\u001b[0m\u001b[0;34m(\u001b[0m\u001b[0mBaseHandler\u001b[0m\u001b[0;34m)\u001b[0m\u001b[0;34m:\u001b[0m\u001b[0;34m\u001b[0m\u001b[0;34m\u001b[0m\u001b[0m\n\u001b[1;32m    648\u001b[0m     \u001b[0;32mdef\u001b[0m \u001b[0mhttp_error_default\u001b[0m\u001b[0;34m(\u001b[0m\u001b[0mself\u001b[0m\u001b[0;34m,\u001b[0m \u001b[0mreq\u001b[0m\u001b[0;34m,\u001b[0m \u001b[0mfp\u001b[0m\u001b[0;34m,\u001b[0m \u001b[0mcode\u001b[0m\u001b[0;34m,\u001b[0m \u001b[0mmsg\u001b[0m\u001b[0;34m,\u001b[0m \u001b[0mhdrs\u001b[0m\u001b[0;34m)\u001b[0m\u001b[0;34m:\u001b[0m\u001b[0;34m\u001b[0m\u001b[0;34m\u001b[0m\u001b[0m\n\u001b[0;32m--> 649\u001b[0;31m         \u001b[0;32mraise\u001b[0m \u001b[0mHTTPError\u001b[0m\u001b[0;34m(\u001b[0m\u001b[0mreq\u001b[0m\u001b[0;34m.\u001b[0m\u001b[0mfull_url\u001b[0m\u001b[0;34m,\u001b[0m \u001b[0mcode\u001b[0m\u001b[0;34m,\u001b[0m \u001b[0mmsg\u001b[0m\u001b[0;34m,\u001b[0m \u001b[0mhdrs\u001b[0m\u001b[0;34m,\u001b[0m \u001b[0mfp\u001b[0m\u001b[0;34m)\u001b[0m\u001b[0;34m\u001b[0m\u001b[0;34m\u001b[0m\u001b[0m\n\u001b[0m\u001b[1;32m    650\u001b[0m \u001b[0;34m\u001b[0m\u001b[0m\n\u001b[1;32m    651\u001b[0m \u001b[0;32mclass\u001b[0m \u001b[0mHTTPRedirectHandler\u001b[0m\u001b[0;34m(\u001b[0m\u001b[0mBaseHandler\u001b[0m\u001b[0;34m)\u001b[0m\u001b[0;34m:\u001b[0m\u001b[0;34m\u001b[0m\u001b[0;34m\u001b[0m\u001b[0m\n",
            "\u001b[0;31mHTTPError\u001b[0m: HTTP Error 429: Too Many Requests"
          ]
        }
      ]
    },
    {
      "cell_type": "markdown",
      "metadata": {
        "id": "hK4nzvkNB67a"
      },
      "source": [
        "### Extracting Basic Attention Token Price data (BAT)"
      ]
    },
    {
      "cell_type": "code",
      "metadata": {
        "id": "37F4vfN1B-rY"
      },
      "source": [
        "symbols = api.metadata_list_symbols({'filter_symbol_id':'BAT'})\n",
        "for symbol in symbols:\n",
        "  print(symbol)"
      ],
      "execution_count": null,
      "outputs": []
    },
    {
      "cell_type": "code",
      "metadata": {
        "id": "gZ6dCztMNYOr"
      },
      "source": [
        "params = {'period_id':'1HRS', 'time_start':'2019-10-18','time_end':'2021-10-19', 'limit':100000}\n",
        "ohlcv_BAT = api.ohlcv_historical_data('BINANCE_SPOT_BAT_USDT', params)"
      ],
      "execution_count": 47,
      "outputs": []
    },
    {
      "cell_type": "code",
      "metadata": {
        "id": "DQWBdN2RPI7K"
      },
      "source": [
        "BAT = process_data(ohlcv_BAT)"
      ],
      "execution_count": 51,
      "outputs": []
    },
    {
      "cell_type": "code",
      "metadata": {
        "id": "GANUxalLPpcD"
      },
      "source": [
        "BAT.to_csv('BAT_1h_data.csv')"
      ],
      "execution_count": 53,
      "outputs": []
    },
    {
      "cell_type": "markdown",
      "metadata": {
        "id": "g-v95P3lE8QM"
      },
      "source": [
        "### Extracting Enjin Price data (ENJ)"
      ]
    },
    {
      "cell_type": "code",
      "metadata": {
        "id": "HyMA2RKDDKNW"
      },
      "source": [
        "symbols = api.metadata_list_symbols({'filter_symbol_id':'ENJ'})\n",
        "for symbol in symbols:\n",
        "  print(symbol)"
      ],
      "execution_count": null,
      "outputs": []
    },
    {
      "cell_type": "code",
      "metadata": {
        "id": "lkbiYOr9FD3K"
      },
      "source": [
        "params = {'period_id':'1HRS', 'time_start':'2019-10-18','time_end':'2021-10-19', 'limit':100000}\n",
        "ohlcv_ENJ = api.ohlcv_historical_data('BINANCE_SPOT_ENJ_USDT', params)"
      ],
      "execution_count": 36,
      "outputs": []
    },
    {
      "cell_type": "code",
      "metadata": {
        "id": "cS6XmICpGhja"
      },
      "source": [
        "names = {'time_period_start':'Time',\n",
        "         'price_open':'Open',\n",
        "         'price_high':'High', \n",
        "         'price_low':'Low', \n",
        "         'price_close':'Close',\n",
        "         'volume_traded':'Volume',\n",
        "         'trades_count':'Trades_Count'}\n",
        "        \n",
        "ENJ = pd.DataFrame(ohlcv_ENJ)\n",
        "ENJ.drop(columns=['time_period_end', 'time_open', 'time_close'], inplace=True)\n",
        "ENJ.rename(columns=names, inplace=True)\n",
        "ENJ['Time'] = pd.to_datetime(ENJ['Time'])\n",
        "ENJ.set_index('Time', inplace=True)"
      ],
      "execution_count": 42,
      "outputs": []
    },
    {
      "cell_type": "code",
      "metadata": {
        "id": "4BkK-dkGLtZn"
      },
      "source": [
        "ENJ.to_csv('ENJ_1h_data.csv')"
      ],
      "execution_count": 44,
      "outputs": []
    },
    {
      "cell_type": "code",
      "metadata": {
        "id": "lWViZhp5MxR4"
      },
      "source": [
        "def process_data(ohlcv):\n",
        "  names = {'time_period_start':'Time',\n",
        "         'price_open':'Open',\n",
        "         'price_high':'High', \n",
        "         'price_low':'Low', \n",
        "         'price_close':'Close',\n",
        "         'volume_traded':'Volume',\n",
        "         'trades_count':'Trades_Count'}\n",
        "  df = pd.DataFrame(ohlcv)\n",
        "  df.drop(columns=['time_period_end', 'time_open', 'time_close'], inplace=True)\n",
        "  df.rename(columns=names, inplace=True)\n",
        "  df['Time'] = pd.to_datetime(df['Time'])\n",
        "  df.set_index('Time', inplace=True)\n",
        "\n",
        "  return df"
      ],
      "execution_count": 49,
      "outputs": []
    }
  ]
}